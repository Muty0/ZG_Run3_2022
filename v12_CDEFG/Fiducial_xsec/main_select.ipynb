{
 "cells": [
  {
   "attachments": {},
   "cell_type": "markdown",
   "id": "4bcae8d3-559c-438d-bffe-75f7e9ce5a58",
   "metadata": {},
   "source": [
    "# Coffea and Awkward\n",
    "\n",
    "**March 15, 2023 at Beijing**"
   ]
  },
  {
   "cell_type": "code",
   "execution_count": 1,
   "id": "ec394a10-cdf5-4cd7-81c1-d39841b267fb",
   "metadata": {},
   "outputs": [
    {
     "name": "stderr",
     "output_type": "stream",
     "text": [
      "/tmp/ipykernel_250844/3220351898.py:8: DeprecationWarning: the imp module is deprecated in favour of importlib; see the module's documentation for alternative uses\n",
      "  from imp import reload #每次修改调用函数后可以更新\n"
     ]
    }
   ],
   "source": [
    "import awkward as ak\n",
    "import uproot\n",
    "import hist\n",
    "import os\n",
    "import numpy as np\n",
    "from coffea.nanoevents import NanoEventsFactory, NanoAODSchema\n",
    "from coffea.nanoevents.methods.base import NanoEventsArray\n",
    "from imp import reload #每次修改调用函数后可以更新\n",
    "import correctionlib, rich\n",
    "import matplotlib.pyplot as plt\n",
    "import sys\n",
    "from coffea.lumi_tools import LumiMask"
   ]
  },
  {
   "attachments": {},
   "cell_type": "markdown",
   "id": "e4f03aff",
   "metadata": {},
   "source": [
    "### coffea读文件"
   ]
  },
  {
   "cell_type": "code",
   "execution_count": 26,
   "id": "3c506a49",
   "metadata": {},
   "outputs": [
    {
     "name": "stdout",
     "output_type": "stream",
     "text": [
      "zg3_22  is done!\n"
     ]
    }
   ],
   "source": [
    "import input_file \n",
    "reload(input_file)\n",
    "# zg0_22_events = input_file.input_file('zg0_22')# 5min\n",
    "# zg1_22_events = input_file.input_file('zg1_22')# 1min part!!!\n",
    "# zg2_22_events = input_file.input_file('zg2_22')# 1min\n",
    "zg3_22_events = input_file.input_file('zg3_22')# 1min\n",
    "\n",
    "# zg0_22EE_events = input_file.input_file('zg0_22EE')# 5min\n",
    "# zg1_22EE_events = input_file.input_file('zg1_22EE')# 2min part!!!\n",
    "# zg2_22EE_events = input_file.input_file('zg2_22EE')# 1min\n",
    "# zg3_22EE_events = input_file.input_file('zg3_22EE')# 1min\n",
    "\n",
    "\n"
   ]
  },
  {
   "cell_type": "code",
   "execution_count": 5,
   "id": "2af92ad8",
   "metadata": {},
   "outputs": [],
   "source": [
    "EVENT_ELE = {\n",
    "    'zg0_22': zg0_22_events,\n",
    "    'zg1_22': zg1_22_events,\n",
    "    'zg2_22': zg2_22_events,\n",
    "    'zg3_22': zg3_22_events,\n",
    "\n",
    "    # 'zg0_22EE': zg0_22EE_events,\n",
    "    # 'zg1_22EE': zg1_22EE_events,\n",
    "    # 'zg2_22EE': zg2_22EE_events,\n",
    "    # 'zg3_22EE': zg3_22EE_events,\n",
    "\n",
    "}"
   ]
  },
  {
   "cell_type": "code",
   "execution_count": 27,
   "metadata": {},
   "outputs": [],
   "source": [
    "EVENT_MUON = {\n",
    "    # 'zg0_22': zg0_22_events,\n",
    "    # 'zg1_22': zg1_22_events,\n",
    "    # 'zg2_22': zg2_22_events,\n",
    "    'zg3_22': zg3_22_events,\n",
    "\n",
    "    # 'zg0_22EE': zg0_22EE_events,\n",
    "    # 'zg1_22EE': zg1_22EE_events,\n",
    "    # 'zg2_22EE': zg2_22EE_events,\n",
    "    # 'zg3_22EE': zg3_22EE_events,\n",
    "\n",
    "}"
   ]
  },
  {
   "cell_type": "code",
   "execution_count": 28,
   "metadata": {},
   "outputs": [],
   "source": [
    "import test_fiducial_cut\n",
    "reload(test_fiducial_cut)\n",
    "key = 'zg3_22'\n",
    "i = EVENT_MUON['zg3_22'][0]\n",
    "leptons,photons,event = test_fiducial_cut.muon_nTuple(i,key)"
   ]
  },
  {
   "cell_type": "code",
   "execution_count": 29,
   "metadata": {},
   "outputs": [
    {
     "data": {
      "text/plain": [
       "<NanoEventsArray [<event 1:17:34302>, ... ] type='319 * ?event'>"
      ]
     },
     "execution_count": 29,
     "metadata": {},
     "output_type": "execute_result"
    }
   ],
   "source": [
    "event"
   ]
  },
  {
   "cell_type": "code",
   "execution_count": 22,
   "metadata": {},
   "outputs": [],
   "source": [
    "sample = event\n",
    "lepton_eta = sample['GenDressedLepton'][abs(sample['GenDressedLepton'].eta) < 2.4]#2.4\n",
    "lg_near, lg_dr = sample['GenIsolatedPhoton'].nearest(sample['GenDressedLepton'], axis=1, return_metric=True)\n",
    "sample_tem_pt = sample['GenIsolatedPhoton'][sample['GenIsolatedPhoton'].pt > 30]\n",
    "sample_eta = sample['GenIsolatedPhoton'][(abs(sample['GenIsolatedPhoton'].eta) < 2.5) & ~((abs(sample['GenIsolatedPhoton'].eta) > 1.4442) & (abs(sample['GenIsolatedPhoton'].eta) < 1.566))]\n",
    "# gen_muon_vectors = ak.zip(\n",
    "#     {\n",
    "#         \"pt\": sample['GenDressedLepton']['pt'],#[two_leptons_mask]\n",
    "#         \"eta\": sample['GenDressedLepton']['eta'],#[two_leptons_mask],\n",
    "#         \"phi\": sample['GenDressedLepton']['phi'],#[two_leptons_mask],\n",
    "#         \"mass\": sample['GenDressedLepton']['mass'],#[two_leptons_mask],\n",
    "#     },\n",
    "#     with_name=\"PtEtaPhiMLorentzVector\"\n",
    "# )\n",
    "# mass_mumu = (gen_muon_vectors[:, 0] + gen_muon_vectors[:, 1]).mass\n",
    "in_fiducial_1 = sample[(ak.num(lepton_eta.eta)>=2) & (ak.max(sample['GenDressedLepton'].pt,axis=1)>=25) & ak.num((sample['GenDressedLepton'].pt>=20)>=2) & ((ak.sum(sample['GenDressedLepton'].pdgId,axis=1)==0)) & (((ak.num(sample['GenIsolatedPhoton'][lg_dr>0.5])>=1))) & ((ak.num(sample_tem_pt.eta)>=1)) & ((ak.num(sample_eta.eta)>=1))] \n",
    "in_fiducial_all = ak.num(in_fiducial_1['GenDressedLepton']>=)\n",
    "# out_fiducial_all = sample[(~((ak.num(pass_mu,axis=1)==2))) | (ak.num(sample_tem_eta.eta)!=2) | (~((sample['GenDressedLepton'].pt[:,0]>=25) & (sample['GenDressedLepton'].pt[:,1]>=20))) | (~(ak.sum(sample['GenDressedLepton'].pdgId,axis=1)==0)) | (~((ak.num(sample['GenIsolatedPhoton'][lg_dr>0.5])==1)&(ak.num(sample['GenDressedLepton']['pt'])==2))) | (~(ak.num(sample_tem_pt.eta)==1)) | (~(ak.num(sample_eta.eta)==1)) | (~((mass_mumu >= 71) & (mass_mumu <= 111)))]\n",
    "\n",
    "# (((ak.num(pass_mu,axis=1)==2))) (((ak.num(pass_mu,axis=1)==2)))\n",
    "# &(ak.num(sample['GenDressedLepton']['pt'])==2)\n",
    "# ((mass_mumu >= 71) & (mass_mumu <= 111))"
   ]
  },
  {
   "cell_type": "code",
   "execution_count": 24,
   "metadata": {},
   "outputs": [
    {
     "data": {
      "text/plain": [
       "<NanoEventsArray [<event 1:17:34302>, ... ] type='319 * ?event'>"
      ]
     },
     "execution_count": 24,
     "metadata": {},
     "output_type": "execute_result"
    }
   ],
   "source": [
    "in_fiducial_all"
   ]
  },
  {
   "cell_type": "code",
   "execution_count": 21,
   "metadata": {},
   "outputs": [
    {
     "data": {
      "text/plain": [
       "<Array [True, True, True, ... True, True, True] type='319 * ?bool'>"
      ]
     },
     "execution_count": 21,
     "metadata": {},
     "output_type": "execute_result"
    }
   ],
   "source": [
    "ak.max(sample['GenDressedLepton'].pt,axis=1)>=25"
   ]
  },
  {
   "cell_type": "code",
   "execution_count": 14,
   "metadata": {},
   "outputs": [
    {
     "data": {
      "text/plain": [
       "[<Array [True, True, True, ... True, True, True] type='319 * ?bool'>]"
      ]
     },
     "execution_count": 14,
     "metadata": {},
     "output_type": "execute_result"
    }
   ],
   "source": [
    "\n",
    "pt_cut2"
   ]
  },
  {
   "cell_type": "code",
   "execution_count": 8,
   "metadata": {},
   "outputs": [
    {
     "data": {
      "text/plain": [
       "<PtEtaPhiMCollectionArray [[{hasTauAnc: False, ... pt: 26.6}]] type='319 * optio...'>"
      ]
     },
     "execution_count": 8,
     "metadata": {},
     "output_type": "execute_result"
    }
   ],
   "source": [
    "eta_cut"
   ]
  },
  {
   "cell_type": "code",
   "execution_count": 5,
   "metadata": {},
   "outputs": [
    {
     "data": {
      "text/plain": [
       "<Array [[67.4, 45.6], [166, ... [206, 26.6]] type='319 * option[var * float32[pa...'>"
      ]
     },
     "execution_count": 5,
     "metadata": {},
     "output_type": "execute_result"
    }
   ],
   "source": [
    "event['GenDressedLepton']['pt']"
   ]
  },
  {
   "cell_type": "markdown",
   "id": "471f9259",
   "metadata": {},
   "source": [
    "# Fiducial"
   ]
  },
  {
   "cell_type": "code",
   "execution_count": 4,
   "id": "6fd7a96f",
   "metadata": {},
   "outputs": [
    {
     "name": "stderr",
     "output_type": "stream",
     "text": [
      "/home/pku/muty/anaconda3/lib/python3.8/site-packages/awkward/_connect/_numpy.py:195: RuntimeWarning: invalid value encountered in sqrt\n",
      "  result = getattr(ufunc, method)(\n",
      "/home/pku/muty/anaconda3/lib/python3.8/site-packages/awkward/_connect/_numpy.py:195: RuntimeWarning: invalid value encountered in sqrt\n",
      "  result = getattr(ufunc, method)(\n"
     ]
    },
    {
     "name": "stdout",
     "output_type": "stream",
     "text": [
      "zg1 fiducial_phodrs {'LHEPdfWeight': <Array [[1, 0.999, 1, ... 1, 0.981, 1.02]] type='516 * option[[var * float32[par...'>, 'LHEScaleWeight': <Array [[1, 1.05, 1.09, ... 0.906, 0.946]] type='516 * option[[var * float32[par...'>, 'PSWeight': <Array [[1.08, 1, 0.901, ... 0.858, 0.435]] type='516 * option[[var * float32[pa...'>}\n",
      "zg2 fiducial_phodrs {'LHEPdfWeight': <Array [[1, 0.998, 0.999, ... 1, 0.942, 1.05]] type='786 * option[[var * float32...'>, 'LHEScaleWeight': <Array [[1.33, 1.24, 1.17, ... 0.805, 0.787]] type='786 * option[[var * float32[...'>, 'PSWeight': <Array [[0.873, 0.725, 1.14, ... 0.888, 0.645]] type='786 * option[[var * float3...'>}\n",
      "zg3 fiducial_phodrs {'LHEPdfWeight': <Array [[1, 0.999, 0.999, ... 1, 0.991, 1.03]] type='30 * option[[var * float32[...'>, 'LHEScaleWeight': <Array [[0.821, 1.17, 1.51, ... 0.893, 0.928]] type='30 * option[[var * float32[...'>, 'PSWeight': <Array [[1.02, 0.726, 0.964, ... 1.07, 2.07]] type='30 * option[[var * float32[p...'>}\n"
     ]
    }
   ],
   "source": [
    "import test_fiducial_cut\n",
    "reload(test_fiducial_cut)\n",
    "import selection_cut\n",
    "reload(selection_cut)\n",
    "event_phodrs = {key: {} for key in EVENT_ELE}\n",
    "fiducial_phodrs = {key: {} for key in EVENT_ELE}\n",
    "\n",
    "for key in EVENT_ELE.keys():\n",
    "    event_variables = []\n",
    "    fiducial_variables = []\n",
    "    for i in EVENT_ELE[key]:\n",
    "#muon_cut\n",
    "        # event_weight = {'event_weight':np.sign(i.Generator.weight)}\n",
    "        leptons,photons,event = test_fiducial_cut.muon_nTuple(i,key)\n",
    "        \n",
    "        in_fiducial_all,out_fiducial_all = test_fiducial_cut.GEN_nTuple(fsr,'all')\n",
    "        #\n",
    "        # gen_mass_mumu = test_fiducial_cut.gen_mass(in_fiducial_all,'mu')\n",
    "        # gen_mass_gmumu = test_fiducial_cut.gen_mass(in_fiducial_all,'gmumu')\n",
    "        # reco_mass_mumu = test_fiducial_cut.MASS(in_fiducial_all,'mu')\n",
    "        # reco_mass_gmumu = test_fiducial_cut.MASS(in_fiducial_all,'gmumu')\n",
    "        # reco_out_mass_mumu = test_fiducial_cut.MASS(out_fiducial_all,'gmumu')\n",
    "        #\n",
    "        # fiducial_variables.append(test_fiducial_cut.VARIABLES(in_fiducial_all,'all',gen_mass_mumu,gen_mass_gmumu,reco_mass_mumu,reco_mass_gmumu,reco_out_mass_mumu,out_fiducial_all,key,event_weight))\n",
    "        fiducial_variables.append(test_fiducial_cut.VARIABLES(in_fiducial_all,'all',False,False,False,False,False,out_fiducial_all,key,False))\n",
    "        # fiducial_variables.append(test_fiducial_cut.VARIABLES(in_fiducial_8,'in',gen_mass_mumu,gen_mass_gmumu,reco_mass_mumu,reco_mass_gmumu,False,False,key,event_weight))    \n",
    "\n",
    "    fiducial_phodrs[key] = fiducial_variables\n",
    "    print(key,'fiducial_phodrs',fiducial_phodrs[key][0])\n",
    "\n",
    "\n",
    "\n",
    "# reco_mass_mumu = fiducial_cut.MASS(in_fiducial_8,'mu')\n",
    "# reco_mass_gmumu = fiducial_cut.MASS(in_fiducial_8,'gmumu')\n",
    "\n",
    "\n",
    "#zg0 37m\n",
    "#zg1 14m\n",
    "#zg2 40s\n",
    "#zg3 20s"
   ]
  },
  {
   "cell_type": "code",
   "execution_count": 6,
   "id": "cbc53af2",
   "metadata": {},
   "outputs": [
    {
     "name": "stdout",
     "output_type": "stream",
     "text": [
      "zg1\n",
      "zg2\n",
      "zg3\n"
     ]
    }
   ],
   "source": [
    "# 样本名称列表\n",
    "# sample_names = [\"dataF\", \"dataG\",\"zg1\", \"zg2\", \"zg3\", \"tt\", \"zz\", \"ww\", \"wz\"]\n",
    "# sample_names = [\"zg0\"]\n",
    "# sample_names = [\"zg0\",\"zg1\", \"zg2\", \"zg3\"]\n",
    "# sample_names = [\"zg1\", \"zg2\", \"zg3\", \"zz\", \"ww\", \"wz\"]#\"tt\",\n",
    "# sample_names = [\"dataF\", \"dataG\"]\n",
    "sample_names = [ \"zg1\",\"zg2\",\"zg3\"]#,\"dy\"\n",
    "\n",
    "# 初始化一个字典，用于存储合并后的数据\n",
    "fiducial_final = {}\n",
    "\n",
    "# 遍历每个样本名称\n",
    "for sample_name in sample_names:\n",
    "    print(sample_name)\n",
    "    # 初始化一个字典，用于存储当前样本的合并数据\n",
    "    fiducial_final[sample_name] = {}\n",
    "\n",
    "    # 获取第一个条目中的信息键\n",
    "    info_keys = list(fiducial_phodrs[sample_name][1].keys())\n",
    "\n",
    "    # 遍历每个信息键\n",
    "    for info_key in info_keys:\n",
    "        # 从 fiducial_muon_phodrs 中提取当前样本和信息键的数据\n",
    "        data_to_concatenate = [entry[info_key] for entry in fiducial_phodrs[sample_name]]\n",
    "\n",
    "        # 使用 ak.concatenate 将数据连接在一起\n",
    "        fiducial_final[sample_name][info_key] = ak.concatenate(data_to_concatenate)\n",
    "\n",
    "#print(fiducial_final)\n",
    "#zg0 50min\n",
    "#zg1 44s"
   ]
  },
  {
   "cell_type": "code",
   "execution_count": 7,
   "id": "013c2d09",
   "metadata": {},
   "outputs": [
    {
     "data": {
      "text/plain": [
       "{'zg1': {'LHEPdfWeight': <Array [[1, 0.999, 1, ... 1, 0.965, 1.04]] type='1059759 * option[[var * float32...'>,\n",
       "  'LHEScaleWeight': <Array [[1, 1.05, 1.09, ... 0.871, 0.904]] type='1059759 * option[[var * float32...'>,\n",
       "  'PSWeight': <Array [[1.08, 1, 0.901, ... 0.88, 1.1, 1.08]] type='1059759 * option[[var * flo...'>},\n",
       " 'zg2': {'LHEPdfWeight': <Array [[1, 0.998, 0.999, ... 1, 0.967, 1.04]] type='26700 * option[[var * float...'>,\n",
       "  'LHEScaleWeight': <Array [[1.33, 1.24, 1.17, ... 0.795, 0.802]] type='26700 * option[[var * float3...'>,\n",
       "  'PSWeight': <Array [[0.873, 0.725, 1.14, ... 0.876, 0.925]] type='26700 * option[[var * floa...'>},\n",
       " 'zg3': {'LHEPdfWeight': <Array [[1, 0.999, 0.999, 0.998, ... 1, 1, 1]] type='29986 * option[[var * float...'>,\n",
       "  'LHEScaleWeight': <Array [[0.821, 1.17, 1.51, ... 1.01, 0.978]] type='29986 * option[[var * float3...'>,\n",
       "  'PSWeight': <Array [[1.02, 0.726, 0.964, ... 1.29, 0.485]] type='29986 * option[[var * float...'>}}"
      ]
     },
     "execution_count": 7,
     "metadata": {},
     "output_type": "execute_result"
    }
   ],
   "source": [
    "fiducial_final"
   ]
  },
  {
   "cell_type": "code",
   "execution_count": 8,
   "id": "66c6b6e1",
   "metadata": {},
   "outputs": [],
   "source": [
    "def save_event_dict(event_dict, file_prefix):\n",
    "    # data_subkeys = ['reco_outfiducial_photon_pt','reco_outfiducial_photon_eta','reco_outfiducial_muon1_pt','reco_outfiducial_muon2_pt','reco_outfiducial_muon1_eta','reco_outfiducial_muon2_eta',] #'LHEPdfWeight','LHEScaleWeight','PSWeight'['reco_photon_pt','reco_photon_eta','reco_muon1_pt','reco_muon2_pt','reco_muon1_eta','reco_muon2_eta','reco_muon_mass','reco_gmumu_mass','gen_infiducial_photon_pt','gen_infiducial_photon_eta','gen_infiducial_muon1_pt','gen_infiducial_muon2_pt','gen_infiducial_muon1_eta','gen_infiducial_muon2_eta','gen_infiducial_muon_mass','gen_infiducial_gmumu_mass','reco_photon_endcap','reco_photon_barrel','generator_weight','event_weight','GenDressedLepton','GenIsolatedPhoton','npvsGood','Rho_Calo','Rho_tracker','gen_outfiducial_photon_pt','gen_outfiducial_photon_eta','gen_outfiducial_muon1_pt','reco_outfiducial_photon_pt','reco_outfiducial_muon_mass']\n",
    "#zg0\n",
    "    data_subkeys = ['LHEPdfWeight','LHEScaleWeight','PSWeight']#\n",
    "    # data_subkeys = ['LHEPdfWeight','LHEScaleWeight',]#['reco_photon_pt','reco_photon_eta','reco_muon1_pt','reco_muon2_pt','reco_muon1_eta','reco_muon2_eta','reco_muon_mass','reco_gmumu_mass','gen_infiducial_photon_pt','gen_infiducial_photon_eta','gen_infiducial_muon1_pt','gen_infiducial_muon2_pt','gen_infiducial_muon1_eta','gen_infiducial_muon2_eta','gen_infiducial_muon_mass','gen_infiducial_gmumu_mass','reco_photon_endcap','reco_photon_barrel','generator_weight','event_weight','GenDressedLepton','GenIsolatedPhoton','npvsGood','Rho_Calo','Rho_tracker','gen_outfiducial_photon_pt','gen_outfiducial_photon_eta','gen_outfiducial_muon1_pt','reco_outfiducial_photon_pt','reco_outfiducial_muon_mass']\n",
    "#1,2,3\n",
    "    # data_subkeys = ['outfiducial_LHEPdfWeight','outfiducial_LHEScaleWeight','outfiducial_PSWeight','outfiducial_npvsGood','outfiducial_Rho_Calo','outfiducial_Rho_tracker']#\n",
    "    other_subkeys = data_subkeys\n",
    "    \n",
    "    for key, value in event_dict.items():\n",
    "        subkeys = other_subkeys if 'data' not in key else data_subkeys\n",
    "        for subkey in subkeys:\n",
    "            ak.to_parquet(value[subkey], f'{file_prefix}_{key}_{subkey}.parquet')\n",
    "\n",
    "save_event_dict(fiducial_final, 'fiducial_file/fiducial_final')"
   ]
  },
  {
   "cell_type": "code",
   "execution_count": null,
   "id": "0cedd3f5",
   "metadata": {},
   "outputs": [],
   "source": []
  },
  {
   "cell_type": "markdown",
   "id": "e12de0ad",
   "metadata": {},
   "source": [
    "# TEST"
   ]
  },
  {
   "cell_type": "code",
   "execution_count": null,
   "id": "7e491d6e",
   "metadata": {},
   "outputs": [],
   "source": []
  },
  {
   "cell_type": "code",
   "execution_count": 21,
   "id": "98f3734d",
   "metadata": {},
   "outputs": [],
   "source": [
    "import test_fiducial_cut\n",
    "reload(test_fiducial_cut)\n",
    "\n",
    "\n",
    "mu = test_fiducial_cut.Tol(EVENT['zg1'][0],'test')\n",
    "in_fiducial_8 = test_fiducial_cut.Tol(EVENT['zg1'][0],'in')\n",
    "off_fiducial_8 = test_fiducial_cut.Tol(EVENT['zg1'][0],'off')\n",
    "# all_off = test_fiducial_cut.Tol(EVENT['zg1'][0],'all_off')\n",
    "# gen_mass_mumu = fiducial_cut.gen_mass(in_fiducial_8,'mu')\n",
    "# gen_mass_gmumu = fiducial_cut.gen_mass(in_fiducial_8,'gmumu')\n",
    "# reco_mass_mumu = fiducial_cut.MASS(in_fiducial_8,'mu')\n",
    "# reco_mass_gmumu = fiducial_cut.MASS(in_fiducial_8,'gmumu')\n",
    "\n",
    "\n",
    "#dataF 74m  \n",
    "#dataG 10m\n",
    "#zg0 30m\n",
    "#mc 98m"
   ]
  },
  {
   "cell_type": "code",
   "execution_count": 23,
   "id": "289cdeb8",
   "metadata": {},
   "outputs": [
    {
     "data": {
      "text/plain": [
       "<NanoEventsArray [<event 1:36711:750793783>, ... ] type='516 * ?event'>"
      ]
     },
     "execution_count": 23,
     "metadata": {},
     "output_type": "execute_result"
    }
   ],
   "source": [
    "in_fiducial_8"
   ]
  },
  {
   "cell_type": "code",
   "execution_count": 48,
   "id": "5b3182cc",
   "metadata": {},
   "outputs": [
    {
     "name": "stdout",
     "output_type": "stream",
     "text": [
      "2664\n",
      "593\n",
      "15264\n"
     ]
    }
   ],
   "source": [
    "print(len(in_fiducial_8))\n",
    "print(len(off_fiducial_8))\n",
    "print(len(all_off))"
   ]
  },
  {
   "cell_type": "code",
   "execution_count": 6,
   "id": "1ef76411",
   "metadata": {},
   "outputs": [
    {
     "data": {
      "text/plain": [
       "<Array [83.8, 91.6, 89.6, ... 90.3, 90.1, 92.4] type='30 * ?float32'>"
      ]
     },
     "execution_count": 6,
     "metadata": {},
     "output_type": "execute_result"
    }
   ],
   "source": [
    "import selection_cut\n",
    "reload(selection_cut)\n",
    "\n",
    "i = EVENT['zg3'][0]\n",
    "event_weight = {'event_weight':np.sign(i.Generator.weight)}\n",
    "mu0 = selection_cut.muon(i,'num',True)          \n",
    "mu1 = selection_cut.muon(mu0,'trigger','double')\n",
    "mu2,event2 = selection_cut.muon(mu1,'cutBasedID','tight')\n",
    "mu3 = selection_cut.muon(mu2,'pf','tight')\n",
    "mu4 = selection_cut.muon(mu3,'eta','2.4')\n",
    "mu5 = selection_cut.muon(mu4,'pt',event2)\n",
    "mu6 = selection_cut.muon(mu5,'pid',True)\n",
    "mass_mumu = selection_cut.MASS(mu6,'mu')\n",
    "mu_mass = selection_cut.muon(mu6,'mass',mass_mumu)\n",
    "#photon_cut\n",
    "pho1 = selection_cut.photon(mu_mass, 'pt', '30')\n",
    "pho2 = selection_cut.photon(pho1, 'eta', '2.5')\n",
    "pho3 = selection_cut.photon(pho2, 'id', 'tight') #tight\n",
    "pho4 = selection_cut.photon(pho3,'prompt',True)\n",
    "gen_photon = pho4.GenPart[(pho4.GenPart.pdgId==22) & pho4.GenPart.hasFlags(['isLastCopy',\"isPrompt\"])]\n",
    "photon4_near, photon4_gen_photon_dr = gen_photon.nearest(pho4.Photon, axis=1, return_metric=True)\n",
    "mask = ak.fill_none(photon4_gen_photon_dr < 0.3, True)\n",
    "pho5 = pho4[ak.num(pho4.Photon[ak.any(mask == True,axis=1)]) == 1]\n",
    "# event_variables.append(selection_cut.VARIABLES(pho5,mass_mumu,mass_gmumu,key,event_weight))\n",
    "lg_near, lg_dr = pho5.Photon.nearest(pho5.Muon, axis=1, return_metric=True)\n",
    "fsr = selection_cut.muon(pho5,'fsr',lg_dr)\n",
    "gen_mumu = selection_cut.gen_mass(fsr,'mu')\n",
    "gen_mumu\n",
    "\n",
    "\n",
    "#dataF 74m  \n",
    "#dataG 10m\n",
    "#zg0 30m\n",
    "#mc 98m"
   ]
  },
  {
   "cell_type": "code",
   "execution_count": 58,
   "id": "c5f1f194",
   "metadata": {},
   "outputs": [],
   "source": [
    "gen_mumu = selection_cut.gen_mass(fsr,'mu')"
   ]
  },
  {
   "cell_type": "code",
   "execution_count": 57,
   "id": "de085431",
   "metadata": {},
   "outputs": [
    {
     "data": {
      "text/plain": [
       "13"
      ]
     },
     "execution_count": 57,
     "metadata": {},
     "output_type": "execute_result"
    }
   ],
   "source": [
    "ak.max(samples['GenDressedLepton']['pdgId'])"
   ]
  },
  {
   "cell_type": "code",
   "execution_count": 53,
   "id": "69105d77",
   "metadata": {},
   "outputs": [],
   "source": [
    "gen_muon_vectors_0 = ak.zip(\n",
    "    {\n",
    "        \"pt\": samples['GenDressedLepton']['pt'],\n",
    "        \"eta\": samples['GenDressedLepton']['eta'],\n",
    "        \"phi\": samples['GenDressedLepton']['phi'],\n",
    "        \"mass\": samples['GenDressedLepton']['mass']\n",
    "    },\n",
    "    with_name=\"PtEtaPhiMLorentzVector\"\n",
    ")\n",
    "# GEN_gamma = GEN[GEN['pdgId'] == 22]\n",
    "gen_photon_vector_0 = ak.zip(\n",
    "    {\n",
    "        \"pt\": samples['GenIsolatedPhoton']['pt'],\n",
    "        \"eta\": samples['GenIsolatedPhoton']['eta'],\n",
    "        \"phi\": samples['GenIsolatedPhoton']['phi'],\n",
    "        \"mass\": samples['GenIsolatedPhoton']['mass'],\n",
    "    },\n",
    "    with_name=\"PtEtaPhiMLorentzVector\"\n",
    ")\n",
    "gen_muon_vectors = gen_muon_vectors_0[ak.num(gen_muon_vectors_0)==2]\n",
    "gen_photon_vector = gen_photon_vector_0[ak.num(gen_muon_vectors_0)==2]\n",
    "# gen_muon_vectors = gen_muon_vectors_0[ak.num(gen_muon_vectors_0)==2][ak.num(gen_photon_vector_0['pt'])==1]\n",
    "# gen_photon_vector = gen_photon_vector_0[ak.num(gen_muon_vectors_0)==2][ak.num(gen_photon_vector_0['pt'])==1]"
   ]
  },
  {
   "cell_type": "code",
   "execution_count": 65,
   "id": "73e35e26",
   "metadata": {},
   "outputs": [
    {
     "data": {
      "text/plain": [
       "<Array [85.2, 92.7, 91.4, ... 83.2, 89.6, 85.7] type='89 * ?float32'>"
      ]
     },
     "execution_count": 65,
     "metadata": {},
     "output_type": "execute_result"
    }
   ],
   "source": [
    "samples = fsr\n",
    "gen_muon_vectors_0 = ak.zip(\n",
    "        {\n",
    "            \"pt\": samples['GenDressedLepton']['pt'],\n",
    "            \"eta\": samples['GenDressedLepton']['eta'],\n",
    "            \"phi\": samples['GenDressedLepton']['phi'],\n",
    "            \"mass\": samples['GenDressedLepton']['mass']\n",
    "        },\n",
    "        with_name=\"PtEtaPhiMLorentzVector\"\n",
    "    )\n",
    "gen_muon_vectors = gen_muon_vectors_0[ak.num(gen_muon_vectors_0)==2]\n",
    "# GEN_gamma = GEN[GEN['pdgId'] == 22]\n",
    "gen_photon_vector = ak.zip(\n",
    "    {\n",
    "        \"pt\": fsr['GenIsolatedPhoton']['pt'],\n",
    "        \"eta\": fsr['GenIsolatedPhoton']['eta'],\n",
    "        \"phi\": fsr['GenIsolatedPhoton']['phi'],\n",
    "        \"mass\": fsr['GenIsolatedPhoton']['mass'],\n",
    "    },\n",
    "    with_name=\"PtEtaPhiMLorentzVector\"\n",
    ")\n",
    "invariant_mass = (gen_muon_vectors[:, 0] + gen_muon_vectors[:, 1] ).mass\n",
    "# invariant_mass = (gen_muon_vectors[:, 0] + gen_muon_vectors[:, 1] + gen_photon_vector[:,0]).mass\n",
    "invariant_mass"
   ]
  },
  {
   "cell_type": "code",
   "execution_count": 63,
   "id": "0a8a2773",
   "metadata": {},
   "outputs": [
    {
     "data": {
      "text/plain": [
       "<Array [92.6, 90.9, 90.1, ... 93.5, 92.6, 90.4] type='6499 * ?float32'>"
      ]
     },
     "execution_count": 63,
     "metadata": {},
     "output_type": "execute_result"
    }
   ],
   "source": [
    "samples = fsr\n",
    "gen_muon_idxs = samples['Muon'][\"genPartIdx\"]\n",
    "GEN = samples['GenPart']\n",
    "gen_muon_vectors = ak.zip(\n",
    "    {\n",
    "        \"pt\": GEN[gen_muon_idxs]['pt'],\n",
    "        \"eta\": GEN[gen_muon_idxs]['eta'],\n",
    "        \"phi\": GEN[gen_muon_idxs]['phi'],\n",
    "        \"mass\": GEN[gen_muon_idxs]['mass']\n",
    "    },\n",
    "    with_name=\"PtEtaPhiMLorentzVector\"\n",
    ")\n",
    "# 获取gen level photon的四动量信息\n",
    "gen_photon_idx = samples.Photon[:, 0][\"genPartIdx\"]\n",
    "GEN = ak.flatten(samples['GenPart'])\n",
    "gen_photon_vector = ak.zip(\n",
    "    {\n",
    "        \"pt\": GEN[gen_photon_idx]['pt'],\n",
    "        \"eta\": GEN[gen_photon_idx]['eta'],\n",
    "        \"phi\": GEN[gen_photon_idx]['phi'],\n",
    "        \"mass\": GEN[gen_photon_idx]['mass'],\n",
    "    },\n",
    "    with_name=\"PtEtaPhiMLorentzVector\"\n",
    ")\n",
    "invariant_mass = (gen_muon_vectors[:, 0] + gen_muon_vectors[:, 1] ).mass\n",
    "invariant_mass"
   ]
  },
  {
   "cell_type": "code",
   "execution_count": 66,
   "id": "6f75f306",
   "metadata": {},
   "outputs": [
    {
     "name": "stderr",
     "output_type": "stream",
     "text": [
      "/home/pku/muty/anaconda3/lib/python3.8/site-packages/awkward/_connect/_numpy.py:195: RuntimeWarning: overflow encountered in sinh\n",
      "  result = getattr(ufunc, method)(\n",
      "/home/pku/muty/anaconda3/lib/python3.8/site-packages/awkward/_connect/_numpy.py:195: RuntimeWarning: invalid value encountered in multiply\n",
      "  result = getattr(ufunc, method)(\n",
      "/home/pku/muty/anaconda3/lib/python3.8/site-packages/awkward/_connect/_numpy.py:195: RuntimeWarning: overflow encountered in cosh\n",
      "  result = getattr(ufunc, method)(\n"
     ]
    },
    {
     "data": {
      "text/plain": [
       "<Array [671, nan, nan, 400, ... nan, nan, 815] type='6499 * ?float32'>"
      ]
     },
     "execution_count": 66,
     "metadata": {},
     "output_type": "execute_result"
    }
   ],
   "source": [
    "        GEN = samples['GenPart']\n",
    "        GEN_muons = GEN[abs(GEN['pdgId']) == 13]\n",
    "        GEN_gamma = GEN[GEN['pdgId'] == 22]\n",
    "        GEN_VARIABLES = {\n",
    "            'gen_muon1_pt':GEN_muons['pt'][:,0],\n",
    "            'gen_muon2_pt':GEN_muons['pt'][:,1],\n",
    "            'gen_muon1_eta':GEN_muons['eta'][:,0],\n",
    "            'gen_muon2_eta':GEN_muons['eta'][:,1],\n",
    "            'gen_gamma_pt':GEN_gamma['pt'][:,0],\n",
    "            'gen_gamma_eta':GEN_gamma['eta'][:,0],\n",
    "            }"
   ]
  },
  {
   "cell_type": "code",
   "execution_count": null,
   "id": "5864b37b",
   "metadata": {},
   "outputs": [],
   "source": [
    "import selection_cut\n",
    "reload(selection_cut)\n",
    "import fiducial_cut\n",
    "reload(fiducial_cut)\n",
    "event_phodrs = {key: {} for key in EVENT}\n",
    "fiducial_phodrs = {key: {} for key in EVENT}\n",
    "\n",
    "\n",
    "for key in EVENT.keys():\n",
    "    event_variables = []\n",
    "    fiducial_variables = []\n",
    "    for i in EVENT[key]:\n",
    "#muon_cut\n",
    "        if 'data' not in key:\n",
    "            event_weight = {'event_weight':np.sign(i.Generator.weight)}\n",
    "            mu0 = selection_cut.muon(i,'num',True)\n",
    "        elif key == 'dataF':\n",
    "            murun = selection_cut.muon(i,'run_num','F')\n",
    "            event_weight =  {'event_weight':'NONE'}\n",
    "            mu0 = selection_cut.muon(murun,'num',True)\n",
    "        elif key == 'dataG':\n",
    "            murun = selection_cut.muon(i,'run_num','G')\n",
    "            event_weight =  {'event_weight':'NONE'}\n",
    "            mu0 = selection_cut.muon(murun,'num',True)            \n",
    "        mu1 = selection_cut.muon(mu0,'trigger','double')\n",
    "        mu2,event2 = selection_cut.muon(mu1,'cutBasedID','tight')\n",
    "        mu3 = selection_cut.muon(mu2,'pf','tight')\n",
    "        mu4 = selection_cut.muon(mu3,'eta','2.4')\n",
    "        mu5 = selection_cut.muon(mu4,'pt',event2)\n",
    "        mu6 = selection_cut.muon(mu5,'pid',True)\n",
    "        mass_mumu = selection_cut.MASS(mu6,'mu')\n",
    "        mu_mass = selection_cut.muon(mu6,'mass',mass_mumu)\n",
    "#photon_cut\n",
    "        pho1 = selection_cut.photon(mu_mass, 'pt', '30')\n",
    "        pho2 = selection_cut.photon(pho1, 'eta', '2.5')\n",
    "        pho3 = selection_cut.photon(pho2, 'id', 'tight') #tight #B #C #D\n",
    "        pho4 = selection_cut.photon(pho3,'prompt',True)\n",
    "        gen_photon = pho4.GenPart[(pho4.GenPart.pdgId==22) & pho4.GenPart.hasFlags(['isLastCopy',\"isPrompt\"])]\n",
    "        photon4_near, photon4_gen_photon_dr = gen_photon.nearest(pho4.Photon, axis=1, return_metric=True)\n",
    "        mask = ak.fill_none(photon4_gen_photon_dr < 0.3, True)\n",
    "        pho5 = pho4[ak.num(pho4.Photon[ak.any(mask == True,axis=1)]) == 1]\n",
    "        lg_near, lg_dr = pho5.Photon.nearest(pho5.Muon, axis=1, return_metric=True)\n",
    "        fsr = selection_cut.muon(pho5,'fsr',lg_dr)\n",
    "        #\n",
    "        #Fiducial part\n",
    "        #\n",
    "        in_fiducial_1 = fiducial_cut.muon(fsr,'num','in')\n",
    "        off_fiducial_1 = fiducial_cut.muon(fsr,'num','off')\n",
    "        in_fiducial_2 = fiducial_cut.muon(in_fiducial_1,'eta','in')\n",
    "        off_fiducial_2 = fiducial_cut.muon(in_fiducial_1,'eta','off')\n",
    "        # all_off = ak.concatenate([off_fiducial_1, off_fiducial_2])\n",
    "        # fiducial_variables.append(fiducial_cut.VARIABLES(in_fiducial_8,False,False,False,False,all_off,key,event_weight))\n",
    "        in_fiducial_3 = fiducial_cut.muon(in_fiducial_2,'pt','in')\n",
    "        off_fiducial_3 = fiducial_cut.muon(in_fiducial_2,'pt','off')\n",
    "        in_fiducial_4 = fiducial_cut.muon(in_fiducial_3,'pid','in')\n",
    "        off_fiducial_4 = fiducial_cut.muon(in_fiducial_3,'pid','off')\n",
    "        gen_mass_mumu = fiducial_cut.gen_mass(in_fiducial_4,'mu')\n",
    "        in_fiducial_5 = fiducial_cut.muon(in_fiducial_4,'in_mass',gen_mass_mumu)\n",
    "        off_fiducial_5 = fiducial_cut.muon(in_fiducial_4,'off_mass',gen_mass_mumu)\n",
    "        in_fiducial_6 = fiducial_cut.photon(in_fiducial_5,'pt','in')\n",
    "        off_fiducial_6 = fiducial_cut.photon(in_fiducial_5,'pt','off')\n",
    "        in_fiducial_7 = fiducial_cut.photon(in_fiducial_6,'eta','in')\n",
    "        off_fiducial_7 = fiducial_cut.photon(in_fiducial_6,'eta','off')\n",
    "        in_fiducial_8 = fiducial_cut.muon(in_fiducial_7,'fsr','in')\n",
    "        off_fiducial_8 = fiducial_cut.muon(in_fiducial_7,'fsr','off')\n",
    "        gen_mass_mumu = fiducial_cut.gen_mass(in_fiducial_8,'mu')\n",
    "        gen_mass_gmumu = fiducial_cut.gen_mass(in_fiducial_8,'gmumu')\n",
    "        reco_mass_mumu = fiducial_cut.MASS(in_fiducial_8,'mu')\n",
    "        reco_mass_gmumu = fiducial_cut.MASS(in_fiducial_8,'gmumu')\n",
    "        all_off = ak.concatenate([off_fiducial_1, off_fiducial_2, off_fiducial_3, off_fiducial_4, off_fiducial_5, off_fiducial_6,off_fiducial_7,off_fiducial_8], axis=0)\n",
    "        reco_off_mass_mumu = fiducial_cut.MASS(all_off,'gmumu')\n",
    "        fiducial_variables.append(fiducial_cut.VARIABLES(in_fiducial_8,gen_mass_mumu,gen_mass_gmumu,reco_mass_mumu,reco_mass_gmumu,reco_off_mass_mumu,all_off,key,event_weight))\n",
    "    fiducial_phodrs[key] = fiducial_variables\n",
    "    print(key,'fiducial_phodrs',fiducial_phodrs[key][0])\n",
    "\n",
    "\n",
    "#dataF 74m  \n",
    "#dataG 10m\n",
    "#zg0 30m\n",
    "#mc 98m"
   ]
  }
 ],
 "metadata": {
  "kernelspec": {
   "display_name": "base",
   "language": "python",
   "name": "python3"
  },
  "language_info": {
   "codemirror_mode": {
    "name": "ipython",
    "version": 3
   },
   "file_extension": ".py",
   "mimetype": "text/x-python",
   "name": "python",
   "nbconvert_exporter": "python",
   "pygments_lexer": "ipython3",
   "version": "3.8.13"
  },
  "vscode": {
   "interpreter": {
    "hash": "558e35b4d220da685c9de597aa7b91581edf366202e451509f0c23176d2fa2bb"
   }
  }
 },
 "nbformat": 4,
 "nbformat_minor": 5
}
