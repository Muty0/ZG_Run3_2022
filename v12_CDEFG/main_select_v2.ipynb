{
 "cells": [
  {
   "attachments": {},
   "cell_type": "markdown",
   "id": "4bcae8d3-559c-438d-bffe-75f7e9ce5a58",
   "metadata": {},
   "source": [
    "# Coffea and Awkward\n",
    "\n",
    "**March 15, 2023 at Beijing**\n",
    "\n",
    "shift + command + k = delete line\n",
    "command + / = annotating code"
   ]
  },
  {
   "cell_type": "code",
   "execution_count": 1,
   "id": "ec394a10-cdf5-4cd7-81c1-d39841b267fb",
   "metadata": {},
   "outputs": [
    {
     "name": "stderr",
     "output_type": "stream",
     "text": [
      "/tmp/ipykernel_310944/3220351898.py:8: DeprecationWarning: the imp module is deprecated in favour of importlib; see the module's documentation for alternative uses\n",
      "  from imp import reload #每次修改调用函数后可以更新\n"
     ]
    }
   ],
   "source": [
    "import awkward as ak\n",
    "import uproot\n",
    "import hist\n",
    "import os\n",
    "import numpy as np\n",
    "from coffea.nanoevents import NanoEventsFactory, NanoAODSchema\n",
    "from coffea.nanoevents.methods.base import NanoEventsArray\n",
    "from imp import reload #每次修改调用函数后可以更新\n",
    "import correctionlib, rich\n",
    "import matplotlib.pyplot as plt\n",
    "import sys\n",
    "from coffea.lumi_tools import LumiMask"
   ]
  },
  {
   "attachments": {},
   "cell_type": "markdown",
   "id": "e4f03aff",
   "metadata": {},
   "source": [
    "### coffea读文件"
   ]
  },
  {
   "cell_type": "code",
   "execution_count": 2,
   "id": "3c506a49",
   "metadata": {},
   "outputs": [
    {
     "name": "stdout",
     "output_type": "stream",
     "text": [
      "zg3_22  is done!\n"
     ]
    }
   ],
   "source": [
    "import input_file \n",
    "reload(input_file)\n",
    "# test_events = input_file.input_file('test')# \n",
    "###############  DATASETS\n",
    "##### Electron channel\n",
    "# dataC_ele_events = input_file.input_file('dataC_ele')# 15min\n",
    "# dataD_ele_events = input_file.input_file('dataD_ele')# 5min\n",
    "# dataE_ele_events = input_file.input_file('dataE_ele')# 8min\n",
    "# dataF_ele_events = input_file.input_file('dataF_ele')# 26min\n",
    "# dataG_ele_events = input_file.input_file('dataG_ele')# 4min\n",
    "\n",
    "##### Muon channel\n",
    "# dataC_muon_events = input_file.input_file('dataC_muon')# 11min\n",
    "# dataD_muon_events = input_file.input_file('dataD_muon')# 5min\n",
    "# dataE_muon_events = input_file.input_file('dataE_muon')# 4min no tree55！！！\n",
    "# dataF_muon_events = input_file.input_file('dataF_muon')# --------\n",
    "# dataG_muon_events = input_file.input_file('dataG_muon')# 4min\n",
    "\n",
    "\n",
    "###############  MC\n",
    "##### 2022\n",
    "# zg0_22_events = input_file.input_file('zg0_22')# 5min\n",
    "# zg1_22_events = input_file.input_file('zg1_22')# 1min part!!!\n",
    "# zg2_22_events = input_file.input_file('zg2_22')# 1min\n",
    "zg3_22_events = input_file.input_file('zg3_22')# 1min\n",
    "# ttbar_22_events = input_file.input_file('tt_22')# 2min\n",
    "# wz_22_events = input_file.input_file('wz_22')# 2min\n",
    "# ww_22_events = input_file.input_file('ww_22')# 1min\n",
    "# zz_22_events = input_file.input_file('zz_22')# 1min\n",
    "# dy_22_events = input_file.input_file('dy_22')# 2min\n",
    "\n",
    "##### 2022EE\n",
    "# zg0_22EE_events = input_file.input_file('zg0_22EE')# 5min\n",
    "# zg1_22EE_events = input_file.input_file('zg1_22EE')# 2min part!!!\n",
    "# zg2_22EE_events = input_file.input_file('zg2_22EE')# 1min\n",
    "# zg3_22EE_events = input_file.input_file('zg3_22EE')# 1min\n",
    "# ttbar_22EE_events = input_file.input_file('tt_22EE')# 4min\n",
    "# wz_22EE_events = input_file.input_file('wz_22EE')# 2min30\n",
    "# ww_22EE_events = input_file.input_file('ww_22EE')# 1min\n",
    "# zz_22EE_events = input_file.input_file('zz_22EE')# 1min\n",
    "# dy_22EE_events = input_file.input_file('dy_22EE')# ----------\n",
    "\n",
    "\n",
    "\n",
    "#muon channel 19min\n",
    "#ele channel "
   ]
  },
  {
   "cell_type": "code",
   "execution_count": 14,
   "id": "2af92ad8",
   "metadata": {},
   "outputs": [],
   "source": [
    "EVENT_ELE = {\n",
    "    # 'test': test_events,\n",
    "    # 'dataC_ele':dataC_ele_events,\n",
    "    # 'dataD_ele':dataD_ele_events,\n",
    "    # # 'dataE_ele':dataE_ele_events,\n",
    "    # # 'dataF':dataF_events,\n",
    "    # # 'dataG':dataG_events,\n",
    "\n",
    "    # 'zg0_22': zg0_22_events,\n",
    "    # 'zg1_22': zg1_22_events,\n",
    "    'zg2_22': zg2_22_events,\n",
    "    'zg3_22': zg3_22_events,\n",
    "    # 'tt_22': ttbar_22_events,\n",
    "    # 'zz_22': zz_22_events, #No LHEpdf\n",
    "    # 'wz_22': wz_22_events,\n",
    "    # 'ww_22': ww_22_events,  \n",
    "    'dy_22': dy_22_events,\n",
    "\n",
    "    # 'zg2_22EE': zg2_events,\n",
    "    # 'zg3_22EE': zg3_events,\n",
    "    # 'tt': ttbar_events,\n",
    "    # 'zz': zz_events,\n",
    "    # 'wz': wz_events,\n",
    "    # 'ww': ww_events,\n",
    "    # 'dy_22': dy_22_events, #一个要求prompt，一个要求nonprompt\n",
    "\n",
    "}"
   ]
  },
  {
   "cell_type": "code",
   "execution_count": 17,
   "metadata": {},
   "outputs": [
    {
     "ename": "ValueError",
     "evalue": "in NumpyArray attempting to get -34279, index out of range\n\n(https://github.com/scikit-hep/awkward-1.0/blob/1.8.0/src/cpu-kernels/awkward_regularize_arrayslice.cpp#L14)",
     "output_type": "error",
     "traceback": [
      "\u001b[0;31m---------------------------------------------------------------------------\u001b[0m",
      "\u001b[0;31mValueError\u001b[0m                                Traceback (most recent call last)",
      "\u001b[0;32m/tmp/ipykernel_310944/1857994480.py\u001b[0m in \u001b[0;36m<cell line: 2>\u001b[0;34m()\u001b[0m\n\u001b[1;32m      1\u001b[0m \u001b[0mphoton\u001b[0m \u001b[0;34m=\u001b[0m \u001b[0mEVENT_MUON\u001b[0m\u001b[0;34m[\u001b[0m\u001b[0;34m'zg3_22'\u001b[0m\u001b[0;34m]\u001b[0m\u001b[0;34m[\u001b[0m\u001b[0;36m0\u001b[0m\u001b[0;34m]\u001b[0m\u001b[0;34m[\u001b[0m\u001b[0mak\u001b[0m\u001b[0;34m.\u001b[0m\u001b[0mnum\u001b[0m\u001b[0;34m(\u001b[0m\u001b[0mEVENT_MUON\u001b[0m\u001b[0;34m[\u001b[0m\u001b[0;34m'zg3_22'\u001b[0m\u001b[0;34m]\u001b[0m\u001b[0;34m[\u001b[0m\u001b[0;36m0\u001b[0m\u001b[0;34m]\u001b[0m\u001b[0;34m.\u001b[0m\u001b[0mPhoton\u001b[0m\u001b[0;34m.\u001b[0m\u001b[0mpt\u001b[0m \u001b[0;34m>\u001b[0m\u001b[0;36m50\u001b[0m\u001b[0;34m)\u001b[0m\u001b[0;34m>=\u001b[0m\u001b[0;36m1\u001b[0m\u001b[0;34m]\u001b[0m\u001b[0;34m\u001b[0m\u001b[0;34m\u001b[0m\u001b[0m\n\u001b[0;32m----> 2\u001b[0;31m \u001b[0mEVENT_MUON\u001b[0m\u001b[0;34m[\u001b[0m\u001b[0;34m'zg3_22'\u001b[0m\u001b[0;34m]\u001b[0m\u001b[0;34m[\u001b[0m\u001b[0;36m0\u001b[0m\u001b[0;34m]\u001b[0m\u001b[0;34m.\u001b[0m\u001b[0mevent\u001b[0m\u001b[0;34m[\u001b[0m\u001b[0;34m~\u001b[0m\u001b[0mphoton\u001b[0m\u001b[0;34m.\u001b[0m\u001b[0mevent\u001b[0m\u001b[0;34m]\u001b[0m\u001b[0;34m\u001b[0m\u001b[0;34m\u001b[0m\u001b[0m\n\u001b[0m",
      "\u001b[0;32m~/anaconda3/lib/python3.8/site-packages/awkward/highlevel.py\u001b[0m in \u001b[0;36m__getitem__\u001b[0;34m(self, where)\u001b[0m\n\u001b[1;32m    989\u001b[0m         \"\"\"\n\u001b[1;32m    990\u001b[0m         \u001b[0;32mif\u001b[0m \u001b[0;32mnot\u001b[0m \u001b[0mhasattr\u001b[0m\u001b[0;34m(\u001b[0m\u001b[0mself\u001b[0m\u001b[0;34m,\u001b[0m \u001b[0;34m\"_tracers\"\u001b[0m\u001b[0;34m)\u001b[0m\u001b[0;34m:\u001b[0m\u001b[0;34m\u001b[0m\u001b[0;34m\u001b[0m\u001b[0m\n\u001b[0;32m--> 991\u001b[0;31m             \u001b[0mtmp\u001b[0m \u001b[0;34m=\u001b[0m \u001b[0mak\u001b[0m\u001b[0;34m.\u001b[0m\u001b[0m_util\u001b[0m\u001b[0;34m.\u001b[0m\u001b[0mwrap\u001b[0m\u001b[0;34m(\u001b[0m\u001b[0mself\u001b[0m\u001b[0;34m.\u001b[0m\u001b[0mlayout\u001b[0m\u001b[0;34m[\u001b[0m\u001b[0mwhere\u001b[0m\u001b[0;34m]\u001b[0m\u001b[0;34m,\u001b[0m \u001b[0mself\u001b[0m\u001b[0;34m.\u001b[0m\u001b[0m_behavior\u001b[0m\u001b[0;34m)\u001b[0m\u001b[0;34m\u001b[0m\u001b[0;34m\u001b[0m\u001b[0m\n\u001b[0m\u001b[1;32m    992\u001b[0m         \u001b[0;32melse\u001b[0m\u001b[0;34m:\u001b[0m\u001b[0;34m\u001b[0m\u001b[0;34m\u001b[0m\u001b[0m\n\u001b[1;32m    993\u001b[0m             \u001b[0mtmp\u001b[0m \u001b[0;34m=\u001b[0m \u001b[0mak\u001b[0m\u001b[0;34m.\u001b[0m\u001b[0m_connect\u001b[0m\u001b[0;34m.\u001b[0m\u001b[0m_jax\u001b[0m\u001b[0;34m.\u001b[0m\u001b[0mjax_utils\u001b[0m\u001b[0;34m.\u001b[0m\u001b[0m_jaxtracers_getitem\u001b[0m\u001b[0;34m(\u001b[0m\u001b[0mself\u001b[0m\u001b[0;34m,\u001b[0m \u001b[0mwhere\u001b[0m\u001b[0;34m)\u001b[0m\u001b[0;34m\u001b[0m\u001b[0;34m\u001b[0m\u001b[0m\n",
      "\u001b[0;31mValueError\u001b[0m: in NumpyArray attempting to get -34279, index out of range\n\n(https://github.com/scikit-hep/awkward-1.0/blob/1.8.0/src/cpu-kernels/awkward_regularize_arrayslice.cpp#L14)"
     ]
    }
   ],
   "source": [
    "photon = EVENT_MUON['zg3_22'][0][ak.num(EVENT_MUON['zg3_22'][0].Photon.pt >50)>=1]\n",
    "EVENT_MUON['zg3_22'][0].event[~photon.event]"
   ]
  },
  {
   "cell_type": "code",
   "execution_count": 13,
   "metadata": {},
   "outputs": [
    {
     "data": {
      "text/plain": [
       "<Array [34278, 34302, ... 582619, 582610] type='4698 * uint64[parameters={\"__doc...'>"
      ]
     },
     "execution_count": 13,
     "metadata": {},
     "output_type": "execute_result"
    }
   ],
   "source": [
    "EVENT_MUON['zg3_22'][0].event"
   ]
  },
  {
   "cell_type": "code",
   "execution_count": 3,
   "metadata": {},
   "outputs": [],
   "source": [
    "EVENT_MUON = {\n",
    "    # 'test': test_events,\n",
    "    # 'dataC_muon':dataC_muon_events,\n",
    "    # 'dataD_muon':dataD_muon_events,\n",
    "    # 'dataE_muon':dataE_muon_events,\n",
    "    # 'dataF':dataF_events,\n",
    "    # 'dataG':dataG_events,\n",
    "    # 'zg0_22': zg0_22_events,\n",
    "    # 'zg1_22': zg1_22_events,\n",
    "    # 'zg2_22': zg2_22_events,\n",
    "    'zg3_22': zg3_22_events,\n",
    "    # 'tt_22': ttbar_22_events,\n",
    "    # 'zz_22': zz_22_events,\n",
    "    # 'wz_22': wz_22_events,\n",
    "    # 'ww_22': ww_22_events, \n",
    "    # 'dy_22': dy_22_events, #一个要求prompt，一个要求nonprompt\n",
    "\n",
    "}"
   ]
  },
  {
   "attachments": {},
   "cell_type": "markdown",
   "id": "44774ed4",
   "metadata": {},
   "source": [
    "## selection"
   ]
  },
  {
   "cell_type": "code",
   "execution_count": 20,
   "id": "fe171915",
   "metadata": {},
   "outputs": [
    {
     "name": "stdout",
     "output_type": "stream",
     "text": [
      "dataC_ele event_phodrs {'photon_pt': <Array [] type='0 * ?float32[parameters={\"__doc__\": \"pt\"}]'>, 'photon_eta': <Array [] type='0 * ?float32[parameters={\"__doc__\": \"eta\"}]'>}\n",
      "dataD_ele event_phodrs {'photon_pt': <Array [] type='0 * ?float32[parameters={\"__doc__\": \"pt\"}]'>, 'photon_eta': <Array [] type='0 * ?float32[parameters={\"__doc__\": \"eta\"}]'>}\n"
     ]
    }
   ],
   "source": [
    "import selection_cut\n",
    "reload(selection_cut)\n",
    "event_ele_phodrs = {key: {} for key in EVENT_ELE}\n",
    "\n",
    "for key in EVENT_ELE.keys():\n",
    "    event_ele_variables = []\n",
    "    for i in EVENT_ELE[key]:\n",
    "        if 'data' not in key:\n",
    "            event_weight = {'event_weight':np.sign(i.Generator.weight)}\n",
    "        elif 'dataC' in key:\n",
    "            i = selection_cut.run_num(i,'C')\n",
    "            event_weight =  {'event_weight':'NONE'}\n",
    "        elif 'dataD' in key:\n",
    "            i = selection_cut.run_num(i,'D')\n",
    "            event_weight =  {'event_weight':'NONE'}\n",
    "        elif 'dataE' in key:\n",
    "            i = selection_cut.run_num(i,'E')\n",
    "            event_weight =  {'event_weight':'NONE'}\n",
    "        # elif key == 'dataF':\n",
    "        #     murun = selection_cut.muon(i,'run_num','F')\n",
    "        #     event_weight =  {'event_weight':'NONE'}\n",
    "        #     mu0 = selection_cut.muon(murun,'num',True)\n",
    "        elif key == 'dataG':\n",
    "            i = selection_cut.run_num(i,'G')\n",
    "            event_weight =  {'event_weight':'NONE'}\n",
    "        leptons,photons,event = selection_cut.electron_nTuple(i,key,\"D\")\n",
    "        # mass_ee = selection_cut.MASS_Ele(leptons,photons,'ee')\n",
    "        # mass_gee = selection_cut.MASS_Ele(leptons,photons,'gee')\n",
    "        # event_ele_variables.append(selection_cut.VARIABLES('ele',key,leptons,photons,event,mass_ee,mass_gee,event_weight))    \n",
    "        event_ele_variables.append(selection_cut.VARIABLES('ele',key,leptons,photons,event,False,False,event_weight))    \n",
    "\n",
    "\n",
    "    event_ele_phodrs[key] = event_ele_variables\n",
    "    print(key,'event_phodrs',event_ele_phodrs[key][0])\n",
    "\n",
    "\n",
    "\n",
    "\n",
    "#dataC_ele 54min\n",
    "#dataD_ele 4min\n",
    "#zg0_22 #19min\n",
    "#zg1_22 2min\n",
    "#zg2_22 1min\n",
    "#zg3_22 1min\n",
    "#tt_22 25min\n",
    "#ww,wz,zz 5min\n",
    "#total 113min"
   ]
  },
  {
   "cell_type": "code",
   "execution_count": 21,
   "id": "7d33303f",
   "metadata": {},
   "outputs": [
    {
     "name": "stdout",
     "output_type": "stream",
     "text": [
      "dataC_ele\n",
      "dataD_ele\n"
     ]
    }
   ],
   "source": [
    "# ele!!!!\n",
    "# sample_names = [\"dataC_ele\",\"dataD_ele\",\"zg0_22\",\"zg1_22\", \"zg2_22\", \"zg3_22\",\"tt_22\",\"zz_22\", \"ww_22\", \"wz_22\",\"dy_22\"]#\n",
    "# sample_names = [\"zg0_22\",\"zg1_22\", \"zg2_22\", \"zg3_22\",\"tt_22\",\"zz_22\", \"ww_22\", \"wz_22\",\"dy_22\"]#,\n",
    "# sample_names = [\"zg0_22\",\"zg1_22\", \"zg2_22\", \"zg3_22\",\"tt_22\"]#\"tt\",\n",
    "sample_names = [\"dataC_ele\",\"dataD_ele\"]#,\"dy\"\"zg2\", \"zg3\"\n",
    "\n",
    "# 初始化一个字典，用于存储合并后的数据\n",
    "event_ele_final = {}\n",
    "\n",
    "# 遍历每个样本名称\n",
    "for sample_name in sample_names:\n",
    "    print(sample_name)\n",
    "    # 初始化一个字典，用于存储当前样本的合并数据\n",
    "    event_ele_final[sample_name] = {}\n",
    "\n",
    "    # 获取第一个条目中的信息键\n",
    "    info_keys = list(event_ele_phodrs[sample_name][0].keys())\n",
    "\n",
    "    # 遍历每个信息键\n",
    "    for info_key in info_keys:\n",
    "        # 从 event_muon_phodrs 中提取当前样本和信息键的数据\n",
    "        data_to_concatenate = [entry[info_key] for entry in event_ele_phodrs[sample_name]]\n",
    "\n",
    "        # 使用 ak.concatenate 将数据连接在一起\n",
    "        event_ele_final[sample_name][info_key] = ak.concatenate(data_to_concatenate)\n",
    "\n",
    "\n",
    "#all 95min"
   ]
  },
  {
   "cell_type": "code",
   "execution_count": 22,
   "id": "84ff5697",
   "metadata": {},
   "outputs": [
    {
     "data": {
      "text/plain": [
       "{'dataC_ele': {'photon_pt': <Array [33.2, 35, 34.9, ... 35.6, 35.1, 34.6] type='36 * ?float32[parameters={\"_...'>,\n",
       "  'photon_eta': <Array [2.47, -0.557, -0.45, ... 2.39, 2.43] type='36 * ?float32[parameters={\"__...'>},\n",
       " 'dataD_ele': {'photon_pt': <Array [35, 30.9, 42.7, ... 31.6, 36.3, 31.6] type='22 * ?float32[parameters={\"_...'>,\n",
       "  'photon_eta': <Array [-0.00108, 2.16, ... -0.733, -2.13] type='22 * ?float32[parameters={\"__do...'>}}"
      ]
     },
     "execution_count": 22,
     "metadata": {},
     "output_type": "execute_result"
    }
   ],
   "source": [
    "event_ele_final"
   ]
  },
  {
   "cell_type": "code",
   "execution_count": 23,
   "id": "c58c7372",
   "metadata": {},
   "outputs": [],
   "source": [
    "def save_event_dict(event_dict, file_prefix):\n",
    "    # data_subkeys = ['photon_pt', 'photon_eta', 'ele1_pt', 'ele2_pt', 'ele1_eta', 'ele2_eta', 'ele_mass','gee_mass','photon_endcap','photon_barrel']#,'npvsGood','Rho_Calo','Rho_tracker']#,,,'dr_lg','charge1','charge2'\n",
    "    data_subkeys = ['photon_pt','photon_eta']#['photon_r9','photon_seedGain','run']#'npvsGood','Rho_Calo','Rho_tracker'#'photon_endcap','photon_barrel'\n",
    "    # other_subkeys = data_subkeys + ['LHEPdfWeight','LHEScaleWeight','PSWeight']#['generator_weight', 'event_weight']#'LHEPdfWeight','LHEScaleWeight','PSWeight','GenDressedLepton','GenIsolatedPhoton','gen_gmumu','gen_mumu' 'gen_ele1_pt','gen_ele2_pt','gen_ele1_eta','gen_ele2_eta','gen_gmumu','gen_mumu',,'gen_gmumu'\n",
    "    other_subkeys = data_subkeys \n",
    "\n",
    "    for key, value in event_dict.items():\n",
    "        subkeys = other_subkeys if 'data' not in key else data_subkeys\n",
    "        for subkey in subkeys:\n",
    "            ak.to_parquet(value[subkey], f'{file_prefix}_{key}_{subkey}.parquet')\n",
    "\n"
   ]
  },
  {
   "cell_type": "code",
   "execution_count": 24,
   "id": "83a21a85",
   "metadata": {},
   "outputs": [],
   "source": [
    "# 存储数据\n",
    "# save_event_dict(event_ele_final, 'selection_ele_file/v2/A/event_ele_final')\n",
    "# save_event_dict(event_ele_final, 'selection_ele_file/v2/B/event_ele_final')\n",
    "# save_event_dict(event_ele_final, 'selection_ele_file/v2/C/event_ele_final')\n",
    "save_event_dict(event_ele_final, 'selection_ele_file/v2/D/event_ele_final')\n",
    "\n",
    "# save_event_dict(event_ele_final, 'ABCD/ABCD_file/ele_channel/A/event_ele_final')"
   ]
  },
  {
   "cell_type": "code",
   "execution_count": null,
   "metadata": {},
   "outputs": [],
   "source": []
  },
  {
   "cell_type": "code",
   "execution_count": null,
   "metadata": {},
   "outputs": [],
   "source": []
  },
  {
   "cell_type": "code",
   "execution_count": 4,
   "metadata": {},
   "outputs": [
    {
     "name": "stdout",
     "output_type": "stream",
     "text": [
      "zg3_22 event_phodrs {'photon_r9': <Array [0.969, 0.969, 0.955, ... 0.971, 0.98] type='319 * ?float32[parameters={\"...'>, 'photon_seedGain': <Array [6, 12, 1, 1, 12, ... 12, 12, 12, 6, 12] type='319 * ?uint8[parameters={\"...'>, 'run': <Array [1, 1, 1, 1, 1, 1, ... 1, 1, 1, 1, 1, 1] type='319 * ?uint32[parameters={...'>}\n"
     ]
    }
   ],
   "source": [
    "import selection_cut\n",
    "reload(selection_cut)\n",
    "event_muon_phodrs = {key: {} for key in EVENT_MUON}\n",
    "\n",
    "for key in EVENT_MUON.keys():\n",
    "    event_muon_variables = []\n",
    "    for i in EVENT_MUON[key]:\n",
    "        if 'data' not in key:\n",
    "            event_weight = {'event_weight':np.sign(i.Generator.weight)}\n",
    "        elif 'dataC' in key:\n",
    "            i = selection_cut.run_num(i,'C')\n",
    "            event_weight =  {'event_weight':'NONE'}\n",
    "        elif 'dataD' in key:\n",
    "            i = selection_cut.run_num(i,'D')\n",
    "            event_weight =  {'event_weight':'NONE'}\n",
    "        elif 'dataE' in key:\n",
    "            i = selection_cut.run_num(i,'E')\n",
    "            event_weight =  {'event_weight':'NONE'}\n",
    "        # elif key == 'dataF':\n",
    "        #     murun = selection_cut.muon(i,'run_num','F')\n",
    "        #     event_weight =  {'event_weight':'NONE'}\n",
    "        #     mu0 = selection_cut.muon(murun,'num',True)\n",
    "        elif key == 'dataG':\n",
    "            i = selection_cut.run_num(i,'G')\n",
    "            event_weight =  {'event_weight':'NONE'}\n",
    "        # leptons,photons,event = selection_cut.muon_nTuple(i,key,\"D\")\n",
    "        # mass_mu = selection_cut.MASS_Muon(leptons,photons,'mu')\n",
    "        # mass_gmumu = selection_cut.MASS_Muon(leptons,photons,'gmumu')\n",
    "        # event_muon_variables.append(selection_cut.VARIABLES('muon',key,leptons,photons,event,mass_mu,mass_gmumu,event_weight))   \n",
    "#ABCD\n",
    "        leptons,photons,event = selection_cut.muon_nTuple(i,key,\"A\")\n",
    "        event_muon_variables.append(selection_cut.VARIABLES('muon',key,leptons,photons,event,False,False,event_weight))   \n",
    "\n",
    "\n",
    "    event_muon_phodrs[key] = event_muon_variables\n",
    "    print(key,'event_phodrs',event_muon_phodrs[key][0])\n",
    "\n",
    "\n",
    "\n",
    "#dataC 28min\n",
    "#dataD 12min \n",
    "#zg0_22 #20min\n",
    "#zg1_22 2min\n",
    "#zg2_22 1min\n",
    "#zg3_22 1min\n",
    "#tt_22 25min\n",
    "#ww,wz,zz 5min\n",
    "#total 94min"
   ]
  },
  {
   "cell_type": "code",
   "execution_count": 5,
   "id": "d420844d",
   "metadata": {},
   "outputs": [
    {
     "name": "stdout",
     "output_type": "stream",
     "text": [
      "zg3_22\n"
     ]
    }
   ],
   "source": [
    "# muon!!!!\n",
    "# sample_names = [\"dataC_muon\",\"dataD_muon\",\"zg0_22\",\"zg1_22\", \"zg2_22\", \"zg3_22\",\"tt_22\",\"zz_22\", \"ww_22\", \"wz_22\",\"dy_22\"]\n",
    "# sample_names = [\"zg0_22\",\"zg1_22\", \"zg2_22\", \"zg3_22\",\"tt_22\",\"zz_22\", \"ww_22\", \"wz_22\",\"dy_22\"]#,\n",
    "# sample_names = [\"tt_22\",\"zz_22\", \"ww_22\", \"wz_22\"]#\"tt\",\n",
    "sample_names = [\"zg3_22\"]\n",
    "\n",
    "# 初始化一个字典，用于存储合并后的数据\n",
    "event_muon_final = {}\n",
    "\n",
    "# 遍历每个样本名称\n",
    "for sample_name in sample_names:\n",
    "    print(sample_name)\n",
    "    # 初始化一个字典，用于存储当前样本的合并数据\n",
    "    event_muon_final[sample_name] = {}\n",
    "\n",
    "    # 获取第一个条目中的信息键\n",
    "    info_keys = list(event_muon_phodrs[sample_name][0].keys())\n",
    "\n",
    "    # 遍历每个信息键\n",
    "    for info_key in info_keys:\n",
    "        # 从 event_muon_phodrs 中提取当前样本和信息键的数据\n",
    "        data_to_concatenate = [entry[info_key] for entry in event_muon_phodrs[sample_name]]\n",
    "\n",
    "        # 使用 ak.concatenate 将数据连接在一起\n",
    "        event_muon_final[sample_name][info_key] = ak.concatenate(data_to_concatenate)\n",
    "\n",
    "#dataE 1s\n",
    "#zg1,zg2,zg3 15min\n",
    "#tt 70min\n",
    "#zz,ww,wz 20min"
   ]
  },
  {
   "cell_type": "code",
   "execution_count": 6,
   "id": "72026cde",
   "metadata": {},
   "outputs": [
    {
     "data": {
      "text/plain": [
       "{'zg3_22': {'photon_r9': <Array [0.969, 0.969, 0.955, ... 0.971, 0.975] type='14825 * ?float32[parameters...'>,\n",
       "  'photon_seedGain': <Array [6, 12, 1, 1, 12, 1, ... 12, 6, 6, 6, 6] type='14825 * ?uint8[parameters=...'>,\n",
       "  'run': <Array [1, 1, 1, 1, 1, 1, ... 1, 1, 1, 1, 1, 1] type='14825 * ?uint32[parameters...'>}}"
      ]
     },
     "execution_count": 6,
     "metadata": {},
     "output_type": "execute_result"
    }
   ],
   "source": [
    "event_muon_final"
   ]
  },
  {
   "cell_type": "code",
   "execution_count": null,
   "metadata": {},
   "outputs": [],
   "source": [
    "def save_event_dict(event_dict, file_prefix):\n",
    "    # data_subkeys = ['photon_pt', 'photon_eta', 'muon1_pt', 'muon2_pt', 'muon1_eta', 'muon2_eta', 'mu_mass','gmumu_mass']#'photon_endcap','photon_barrel','npvsGood','Rho_Calo','Rho_tracker',,'dr_lg','charge1','charge2'\n",
    "    data_subkeys = ['photon_r9','photon_seedGain','run']#['npvsGood','Rho_Calo','Rho_tracker']\n",
    "    # other_subkeys = data_subkeys + ['nPU']#['generator_weight', 'event_weight']#'LHEPdfWeight','LHEScaleWeight','PSWeight','GenDressedLepton','GenIsolatedPhoton','gen_gmumu','gen_mumu' 'gen_muon1_pt','gen_muon2_pt','gen_muon1_eta','gen_muon2_eta','gen_gmumu','gen_mumu','LHEPdfWeight','LHEScaleWeight',,'gen_gmumu'\n",
    "    other_subkeys = data_subkeys\n",
    "\n",
    "    for key, value in event_dict.items():\n",
    "        subkeys = other_subkeys if 'data' not in key else data_subkeys\n",
    "        for subkey in subkeys:\n",
    "            ak.to_parquet(value[subkey], f'{file_prefix}_{key}_{subkey}.parquet')\n",
    "\n"
   ]
  },
  {
   "cell_type": "code",
   "execution_count": 11,
   "metadata": {},
   "outputs": [],
   "source": [
    "# 存储数据\n",
    "save_event_dict(event_muon_final, 'selection_muon_file/v2/A/event_muon_final')\n",
    "# save_event_dict(event_muon_final, 'selection_muon_file/v2/B/event_muon_final')\n",
    "# save_event_dict(event_muon_final, 'selection_muon_file/v2/C/event_muon_final')\n",
    "# save_event_dict(event_muon_final, 'selection_muon_file/v2/D/event_muon_final')\n",
    "\n",
    "# save_event_dict(event_muon_final, 'ABCD/ABCD_file/muon_channel/A/event_muon_final')\n"
   ]
  },
  {
   "cell_type": "code",
   "execution_count": null,
   "metadata": {},
   "outputs": [],
   "source": []
  },
  {
   "cell_type": "code",
   "execution_count": null,
   "metadata": {},
   "outputs": [],
   "source": []
  },
  {
   "cell_type": "code",
   "execution_count": null,
   "metadata": {},
   "outputs": [],
   "source": []
  },
  {
   "cell_type": "markdown",
   "id": "91264197",
   "metadata": {},
   "source": [
    "# Test"
   ]
  },
  {
   "cell_type": "code",
   "execution_count": 20,
   "metadata": {},
   "outputs": [
    {
     "name": "stdout",
     "output_type": "stream",
     "text": [
      "[[False], [], [], [True, False], ... False], [], [False], [True, True, False]]\n"
     ]
    }
   ],
   "source": [
    "print(EVENT_ELE['zg0_22'][0].Photon.pixelSeed)"
   ]
  },
  {
   "cell_type": "code",
   "execution_count": 22,
   "metadata": {},
   "outputs": [
    {
     "name": "stdout",
     "output_type": "stream",
     "text": [
      "[[12.8], [], [], [29.4, 21.3], [15.4], ... [12.4], [], [13.8], [37.7, 27.1, 10.7]]\n"
     ]
    }
   ],
   "source": [
    "print(EVENT_ELE['zg0_22'][0].Photon.pt)"
   ]
  },
  {
   "cell_type": "code",
   "execution_count": 6,
   "id": "c2540bc0",
   "metadata": {},
   "outputs": [
    {
     "name": "stdout",
     "output_type": "stream",
     "text": [
      "End 252\n"
     ]
    }
   ],
   "source": [
    "###ELECTRON\n",
    "\n",
    "import selection_cut\n",
    "reload(selection_cut)\n",
    "# sample = EVENT_ELE['dataD_ele'][10]\n",
    "# Tag = 'dataD'\n",
    "# sample = EVENT_ELE['wz_22'][0]\n",
    "# Tag = 'wz'\n",
    "sample = EVENT_ELE['zg3_22'][0]\n",
    "Tag = 'zg3_22'\n",
    "ABCD = \"A\"\n",
    "# print('Start (Electron channel, sample:',Tag, ', region:',ABCD,') ',len(sample))\n",
    "# ele0 = selection_cut.electron_nTuple(sample,Tag,ABCD)[0]\n",
    "# print('HLT:',len(ele0),'Efficiency:',f\"{len(ele0)/len(sample) * 100}%\")\n",
    "# ele1 = selection_cut.electron_nTuple(sample,Tag,ABCD)[1]\n",
    "# ele1_ele = selection_cut.electron_nTuple(sample,Tag,ABCD)[2]\n",
    "# print('pt, eta, medium id, charge, two ele:',len(ele1),'Efficiency:',f\"{len(ele1)/len(ele0) * 100}%\")\n",
    "# ele2 = selection_cut.electron_nTuple(sample,Tag,ABCD)[3]\n",
    "# ele2_ele = selection_cut.electron_nTuple(sample,Tag,ABCD)[4]\n",
    "# print('Z mass window:',len(ele2),'Efficiency:',f\"{len(ele2)/len(ele1) * 100}%\")\n",
    "# pho1 = selection_cut.electron_nTuple(sample,Tag,ABCD)[5]\n",
    "# pho1_ele = selection_cut.electron_nTuple(sample,Tag,ABCD)[6]\n",
    "# pho1_pho = selection_cut.electron_nTuple(sample,Tag,ABCD)[7]\n",
    "# print('Photon pt,eta,id, at least one photon:',len(pho1),'Efficiency:',f\"{len(pho1)/len(ele2) * 100}%\")\n",
    "# pho2 = selection_cut.electron_nTuple(sample,Tag,ABCD)[8]\n",
    "# pho2_ele = selection_cut.electron_nTuple(sample,Tag,ABCD)[9]\n",
    "# pho2_pho = selection_cut.electron_nTuple(sample,Tag,ABCD)[10]\n",
    "# print('Photon lepton dR, at least one photon:',len(pho2),'Efficiency:',f\"{len(pho2)/len(pho1) * 100}%\")\n",
    "# pho3 = selection_cut.electron_nTuple(sample,Tag,ABCD)[11]\n",
    "# pho3_ele = selection_cut.electron_nTuple(sample,Tag,ABCD)[12]\n",
    "# pho3_pho = selection_cut.electron_nTuple(sample,Tag,ABCD)[13]\n",
    "# print('Photon prompt (pixelSeed), at least one photon:',len(pho3),'Efficiency:',f\"{len(pho3)/len(pho2) * 100}%\")\n",
    "# pho4 = selection_cut.electron_nTuple(sample,Tag,ABCD)[14]\n",
    "# pho4_ele = selection_cut.electron_nTuple(sample,Tag,ABCD)[15]\n",
    "# pho4_pho = selection_cut.electron_nTuple(sample,Tag,ABCD)[16]\n",
    "# print('Photon prompt (Flav), at least one photon:',len(pho4),'Efficiency:',f\"{len(pho4)/len(pho3) * 100}%\")\n",
    "# pho5 = selection_cut.electron_nTuple(sample,Tag,ABCD)[17]\n",
    "# pho5_ele = selection_cut.electron_nTuple(sample,Tag,ABCD)[18]\n",
    "# pho5_pho = selection_cut.electron_nTuple(sample,Tag,ABCD)[19]\n",
    "# print('Photon prompt (dR), only one photon:',len(pho5),'Efficiency:',f\"{len(pho5)/len(pho4) * 100}%\")\n",
    "\n",
    "pho5_ele = selection_cut.electron_nTuple(sample,Tag,ABCD)[0]\n",
    "pho5_pho = selection_cut.electron_nTuple(sample,Tag,ABCD)[1]\n",
    "print('End',len(pho5_ele))\n"
   ]
  },
  {
   "cell_type": "code",
   "execution_count": 7,
   "id": "2b47d81e",
   "metadata": {},
   "outputs": [
    {
     "name": "stdout",
     "output_type": "stream",
     "text": [
      "End 319\n"
     ]
    }
   ],
   "source": [
    "### MUON\n",
    "import selection_cut\n",
    "reload(selection_cut)\n",
    "# sample = EVENT_MUON['dataD_muon'][10]\n",
    "# Tag = 'dataD'\n",
    "# sample = EVENT_MUON['wz_22'][0]\n",
    "# Tag = 'wz'\n",
    "sample = EVENT_MUON['zg3_22'][0]\n",
    "Tag = 'zg3_22'\n",
    "ABCD = 'A'\n",
    "# print('Start (Muon channel, sample:',Tag, ', region:',ABCD,') ',len(sample))\n",
    "# mu0 = selection_cut.muon_nTuple(sample,Tag,ABCD)[0]\n",
    "# print('HLT:',len(mu0),'Efficiency:',f\"{len(mu0)/len(sample) * 100}%\")\n",
    "# mu1 = selection_cut.muon_nTuple(sample,Tag,ABCD)[1]\n",
    "# mu1_mu = selection_cut.muon_nTuple(sample,Tag,ABCD)[2]\n",
    "# print('pt, eta, tight id&iso, charge, two mu:',len(mu1),'Efficiency:',f\"{len(mu1)/len(mu0) * 100}%\")\n",
    "# mu2 = selection_cut.muon_nTuple(sample,Tag,ABCD)[3]\n",
    "# mu2_mu = selection_cut.muon_nTuple(sample,Tag,ABCD)[4]\n",
    "# print('Z mass window:',len(mu2),'Efficiency:',f\"{len(mu2)/len(mu1) * 100}%\")\n",
    "# pho1 = selection_cut.muon_nTuple(sample,Tag,ABCD)[5]\n",
    "# pho1_mu = selection_cut.muon_nTuple(sample,Tag,ABCD)[6]\n",
    "# pho1_pho = selection_cut.muon_nTuple(sample,Tag,ABCD)[7]\n",
    "# print('Photon pt,eta,i, at least one photon:',len(pho1),'Efficiency:',f\"{len(pho1)/len(mu2) * 100}%\")\n",
    "# pho2 = selection_cut.muon_nTuple(sample,Tag,ABCD)[8]\n",
    "# pho2_mu = selection_cut.muon_nTuple(sample,Tag,ABCD)[9]\n",
    "# pho2_pho = selection_cut.muon_nTuple(sample,Tag,ABCD)[10]\n",
    "# print('Photon lepton dR, at least one photon:',len(pho2),'Efficiency:',f\"{len(pho2)/len(pho1) * 100}%\")\n",
    "# pho3 = selection_cut.muon_nTuple(sample,Tag,ABCD)[11]\n",
    "# pho3_mu = selection_cut.muon_nTuple(sample,Tag,ABCD)[12]\n",
    "# pho3_pho = selection_cut.muon_nTuple(sample,Tag,ABCD)[13]\n",
    "# print('Photon prompt (pixelSeed), at least one photon:',len(pho3),'Efficiency:',f\"{len(pho3)/len(pho2) * 100}%\")\n",
    "# pho4 = selection_cut.muon_nTuple(sample,Tag,ABCD)[14]\n",
    "# pho4_mu = selection_cut.muon_nTuple(sample,Tag,ABCD)[15]\n",
    "# pho4_pho = selection_cut.muon_nTuple(sample,Tag,ABCD)[16]\n",
    "# print('Photon prompt (Flav), at least one photon:',len(pho4),'Efficiency:',f\"{len(pho4)/len(pho3) * 100}%\")\n",
    "# pho5 = selection_cut.muon_nTuple(sample,Tag,ABCD)[17]\n",
    "# pho5_mu = selection_cut.muon_nTuple(sample,Tag,ABCD)[18]\n",
    "# pho5_pho = selection_cut.muon_nTuple(sample,Tag,ABCD)[19]\n",
    "# print('Photon prompt (dR), at least one photon:',len(pho5),'Efficiency:',f\"{len(pho5)/len(pho4) * 100}%\")\n",
    "\n",
    "pho5_mu = selection_cut.muon_nTuple(sample,Tag,ABCD)[0]\n",
    "pho5_pho = selection_cut.muon_nTuple(sample,Tag,ABCD)[1]\n",
    "print('End',len(pho5_mu))\n"
   ]
  },
  {
   "cell_type": "code",
   "execution_count": 5,
   "metadata": {},
   "outputs": [
    {
     "name": "stdout",
     "output_type": "stream",
     "text": [
      "pho5_ele 252\n",
      "pho5_pho 252\n",
      "pho5 252\n"
     ]
    }
   ],
   "source": [
    "sample = EVENT_ELE['zg3_22'][0]\n",
    "Tag = 'zg3_22'\n",
    "# sample = EVENT_ELE['dy_22'][10]\n",
    "# Tag = 'dy_22'\n",
    "ABCD = \"A\"\n",
    "\n",
    "ele0 = sample[sample.HLT.Ele23_Ele12_CaloIdL_TrackIdL_IsoVL]#\n",
    "eta_cut = ele0.Electron[(abs(ele0.Electron.eta) < 2.5) & ~((abs(ele0.Electron.eta) > 1.4442) & (abs(ele0.Electron.eta) < 1.566 ))]\n",
    "pt_cut = eta_cut[eta_cut.pt >= 20]\n",
    "id_cut = pt_cut[pt_cut.cutBased >= 3] #0:fail, 1:veto, 2:loose, 3:medium, 4:tight\n",
    "charge_num_cut = id_cut[(ak.sum(id_cut.pdgId,axis=1)==0) & (ak.num(id_cut.pdgId,axis=1)==2)]\n",
    "ele1_ele =  charge_num_cut[ak.max(charge_num_cut.pt, axis=1) >= 25]\n",
    "charge_num_event = ele0[(ak.sum(id_cut.pdgId,axis=1)==0) & (ak.num(id_cut.pdgId,axis=1)==2)]\n",
    "ele1 = charge_num_event[ak.max(charge_num_cut.pt, axis=1) >= 25]\n",
    "tem_ele = ele1_ele\n",
    "ele_vectors = ak.zip(\n",
    "{\n",
    "\"pt\": tem_ele[\"pt\"],\n",
    "\"eta\": tem_ele[\"eta\"],\n",
    "\"phi\": tem_ele[\"phi\"],\n",
    "\"mass\": tem_ele[\"mass\"],\n",
    "},\n",
    "with_name=\"PtEtaPhiMLorentzVector\",\n",
    ")\n",
    "mass_ee = (ele_vectors[:, 0] + ele_vectors[:, 1]).mass\n",
    "ele2_ele = ele1_ele[(mass_ee >= 71) & (mass_ee <= 111)]\n",
    "ele2 = ele1[(mass_ee >= 71) & (mass_ee <= 111)]\n",
    "#photon\n",
    "pt_cut = ele2.Photon[(ele2.Photon.pt > 30)]#&(ak.num(ele2.Photon.pt)<=2)\n",
    "eta_cut = pt_cut[(abs(pt_cut.eta) < 2.5) & ~((abs(pt_cut.eta) > 1.4442) & (abs(pt_cut.eta) < 1.566))]\n",
    "pt_id = (eta_cut.vidNestedWPBitmap[:] & 1) + 2*((eta_cut.vidNestedWPBitmap[:] >> 1) & 1) \n",
    "scEta_id = (eta_cut.vidNestedWPBitmap[:] >> 2 & 1) + 2*((eta_cut.vidNestedWPBitmap[:] >> 3) & 1) \n",
    "HoE_id = (eta_cut.vidNestedWPBitmap[:] >> 4 & 1) + 2*((eta_cut.vidNestedWPBitmap[:] >> 5) & 1) \n",
    "siesie_id = (eta_cut.vidNestedWPBitmap[:] >> 6 & 1) + 2*((eta_cut.vidNestedWPBitmap[:] >> 7) & 1) \n",
    "chiso_id = (eta_cut.vidNestedWPBitmap[:] >> 8 & 1) + 2*((eta_cut.vidNestedWPBitmap[:] >> 9) & 1) \n",
    "neuiso_id = (eta_cut.vidNestedWPBitmap[:] >> 10 & 1) + 2*((eta_cut.vidNestedWPBitmap[:] >> 11) & 1) \n",
    "phoiso_id = (eta_cut.vidNestedWPBitmap[:] >> 12 & 1) + 2*((eta_cut.vidNestedWPBitmap[:] >> 13) & 1)\n",
    "if ABCD == \"A\":\n",
    "    all_id_3 = (pt_id == 3) & (scEta_id == 3) & (HoE_id == 3) & (siesie_id == 3) & (chiso_id == 3) & (neuiso_id == 3) & (phoiso_id == 3)\n",
    "if ABCD == \"B\":\n",
    "    all_id_3 = (pt_id == 3) & (scEta_id == 3) & (HoE_id == 3) & (siesie_id == 3) & (chiso_id < 3) & (neuiso_id == 3) & (phoiso_id == 3)\n",
    "if ABCD == \"C\":\n",
    "    all_id_3 = (pt_id == 3) & (scEta_id == 3) & (HoE_id == 3) & (siesie_id < 3) & (chiso_id == 3) & (neuiso_id == 3) & (phoiso_id == 3)\n",
    "if ABCD == \"D\":\n",
    "    all_id_3 = (pt_id == 3) & (scEta_id == 3) & (HoE_id == 3) & (siesie_id < 3) & (chiso_id < 3) & (neuiso_id == 3) & (phoiso_id == 3)\n",
    "# all_id_3 = (pt_id == 3) & (scEta_id == 3) & (HoE_id == 3) & (siesie_id == 3) & (chiso_id == 3) & (neuiso_id == 3) & (phoiso_id == 3)\n",
    "id_cut = eta_cut[all_id_3]\n",
    "photon_per_event = (ak.num(id_cut,axis=1) >= 1)\n",
    "pho1 = ele2[photon_per_event]\n",
    "pho1_ele = ele2_ele[photon_per_event]\n",
    "pho1_pho = id_cut[photon_per_event]\n",
    "lg_near, lg_dr = pho1_pho.nearest(pho1.Electron, axis=1, return_metric=True) #find the nearest electron near each photon\n",
    "pho2 = pho1[ak.num(pho1_pho[lg_dr>0.5])>=1]\n",
    "pho2_pho = pho1_pho[lg_dr>0.5]\n",
    "pho2_pho = pho2_pho[ak.num(pho2_pho)>=1]\n",
    "pho2_ele = pho1_ele[ak.num(pho1_pho[lg_dr>0.5])>=1]\n",
    "pho3 = pho2[ak.num(pho2_pho[~pho2_pho.pixelSeed])>=1]\n",
    "pho3_ele = pho2_ele[ak.num(pho2_pho[~pho2_pho.pixelSeed])>=1]\n",
    "pho3_pho = pho2_pho[~pho2_pho.pixelSeed]\n",
    "pho3_pho = pho3_pho[ak.num(pho3_pho)>=1]\n",
    "if 'data' in Tag:\n",
    "    print('pho3_ele',pho3_ele)\n",
    "    print('pho3_pho',pho3_pho)\n",
    "    print('pho3',pho3)\n",
    "# return ele0,ele1,ele1_ele,ele2,ele2_ele,pho1,pho1_ele,pho1_pho,pho2,pho2_ele,pho2_pho,pho3,pho3_ele,pho3_pho#\n",
    "if 'data' not in Tag:\n",
    "    prompt_cut = (pho3_pho.genPartFlav == 1)\n",
    "    pho4 = pho3[ak.num(pho3_pho[prompt_cut])>=1]\n",
    "    pho4_ele = pho3_ele[ak.num(pho3_pho[prompt_cut])>=1]\n",
    "    pho4_pho = pho3_pho[prompt_cut]\n",
    "    pho4_pho = pho4_pho[ak.num(pho4_pho)>=1]\n",
    "    gen_photon = pho4.GenPart[(pho4.GenPart.pdgId==22) & pho4.GenPart.hasFlags(['isLastCopy',\"isPrompt\"])]\n",
    "    photon5_near, photon5_gen_photon_dr = pho4_pho.nearest(gen_photon, axis=1, return_metric=True)\n",
    "    mask = ak.fill_none(photon5_gen_photon_dr < 0.3, True)\n",
    "    selected_photons5 = pho4_pho[mask]\n",
    "    pho5 = pho4[ak.num(selected_photons5)>=1]\n",
    "    pho5_ele = pho4_ele[ak.num(selected_photons5)>=1]\n",
    "    pho5_pho = selected_photons5[ak.num(selected_photons5)>=1]\n",
    "    print('pho5_ele',len(pho5_ele))\n",
    "    print('pho5_pho',len(pho5_pho)) \n",
    "    print('pho5',len(pho5))\n",
    "# return ele0,ele1,ele1_ele,ele2,ele2_ele,pho1,pho1_ele,pho1_pho,pho2,pho2_ele,pho2_pho,pho3,pho3_ele,pho3_pho,pho4,pho4_ele,pho4_pho,pho5,pho5_ele,pho5_pho#\n"
   ]
  },
  {
   "cell_type": "code",
   "execution_count": 15,
   "metadata": {},
   "outputs": [
    {
     "name": "stdout",
     "output_type": "stream",
     "text": [
      "4698\n",
      "252\n"
     ]
    }
   ],
   "source": [
    "#------------ Electron -----------\n",
    "sample = EVENT_ELE['zg3_22'][0]\n",
    "Tag = 'zg3_22'\n",
    "# sample = EVENT_ELE['dy_22'][10]\n",
    "# Tag = 'dy_22'\n",
    "# ABCD = \"D\"\n",
    "ABCD = \"A\"\n",
    "\n",
    "#定义要用到的粒子\n",
    "Event = sample\n",
    "Electron = sample.Electron\n",
    "Photon = sample.Photon\n",
    "\n",
    "#罗列selection\n",
    "#electron\n",
    "ele_eta = (abs(Electron.eta) < 2.5) & ~((abs(Electron.eta) > 1.4442) & (abs(Electron.eta) < 1.566 ))\n",
    "ele_pt = (Electron.pt >= 20)\n",
    "ele_cutbased_id = (Electron.cutBased >= 3)\n",
    "\n",
    "#photon\n",
    "pho_pt = (Photon.pt >= 30)\n",
    "pho_eta = (abs(Photon.eta) < 2.5) & ~((abs(Photon.eta) > 1.4442) & (abs(Photon.eta) < 1.566))\n",
    "lg_near, lg_dr = Photon.nearest(Electron, axis=1, return_metric=True) #find the nearest electron near each photon\n",
    "pho_drlg = lg_dr>0.5\n",
    "pho_pixel = ~Photon.pixelSeed\n",
    "pho_genpartFlav = (Photon.genPartFlav == 1)\n",
    "# gen_photon = Event.GenPart[(Event.GenPart.pdgId==22) & Event.GenPart.hasFlags(['isLastCopy',\"isPrompt\"])]\n",
    "# genrecopho_near, genrecopho_dr = Photon.nearest(gen_photon, axis=1, return_metric=True)\n",
    "# pho_drrecogen = ak.fill_none(genrecopho_dr < 0.3, True)\n",
    "\n",
    "\n",
    "#联立选择条件\n",
    "ele_selection = ele_eta & ele_pt & ele_cutbased_id \n",
    "photon_selection = pho_pt & pho_eta & pho_drlg \n",
    "if 'data' in Tag:\n",
    "    photon_selection = photon_selection  \n",
    "elif 'data' not in Tag and 'dy' not in Tag:\n",
    "    photon_selection = photon_selection & pho_pixel & pho_genpartFlav \n",
    "elif 'dy' in Tag:\n",
    "    photon_selection = photon_selection & (~pho_pixel | ~pho_genpartFlav)\n",
    "else:\n",
    "    print('Wrong sample!')\n",
    "\n",
    "\n",
    "#处理通过object挑选的事件 要求有两个electron，两个electron异号，最大的electron pt>=25\n",
    "good_electron = Electron[ele_selection][(ak.num(Electron[ele_selection])==2) & (ak.sum(Electron[ele_selection].pdgId,axis=1)==0) & (ak.fill_none(ak.max(Electron[ele_selection].pt, axis=1) >= 25, False)) & (ak.num(Photon[photon_selection])>=1)]\n",
    "good_event = Event[(ak.num(Electron[ele_selection])==2) & (ak.sum(Electron[ele_selection].pdgId,axis=1)==0) & (ak.fill_none(ak.max(Electron[ele_selection].pt, axis=1) >= 25, False)) & (ak.num(Photon[photon_selection])>=1)]\n",
    "good_photon = Photon[photon_selection][(ak.num(Electron[ele_selection])==2) & (ak.sum(Electron[ele_selection].pdgId,axis=1)==0) & (ak.fill_none(ak.max(Electron[ele_selection].pt, axis=1) >= 25, False)) & (ak.num(Photon[photon_selection])>=1)]\n",
    "\n",
    "\n",
    "#最终处理事例，调用函数，mass在质量窗内，且通过trigger\n",
    "#mass质量窗\n",
    "tem_ele = good_electron\n",
    "ele_vectors = ak.zip(\n",
    "{\n",
    "\"pt\": tem_ele[\"pt\"],\n",
    "\"eta\": tem_ele[\"eta\"],\n",
    "\"phi\": tem_ele[\"phi\"],\n",
    "\"mass\": tem_ele[\"mass\"],\n",
    "},\n",
    "with_name=\"PtEtaPhiMLorentzVector\",\n",
    ")\n",
    "mass_ee = (ele_vectors[:, 0] + ele_vectors[:, 1]).mass\n",
    "\n",
    "#photon id\n",
    "pt_id = (good_photon.vidNestedWPBitmap[:] & 1) + 2*((good_photon.vidNestedWPBitmap[:] >> 1) & 1) \n",
    "scEta_id = (good_photon.vidNestedWPBitmap[:] >> 2 & 1) + 2*((good_photon.vidNestedWPBitmap[:] >> 3) & 1) \n",
    "HoE_id = (good_photon.vidNestedWPBitmap[:] >> 4 & 1) + 2*((good_photon.vidNestedWPBitmap[:] >> 5) & 1) \n",
    "siesie_id = (good_photon.vidNestedWPBitmap[:] >> 6 & 1) + 2*((good_photon.vidNestedWPBitmap[:] >> 7) & 1) \n",
    "chiso_id = (good_photon.vidNestedWPBitmap[:] >> 8 & 1) + 2*((good_photon.vidNestedWPBitmap[:] >> 9) & 1) \n",
    "neuiso_id = (good_photon.vidNestedWPBitmap[:] >> 10 & 1) + 2*((good_photon.vidNestedWPBitmap[:] >> 11) & 1) \n",
    "phoiso_id = (good_photon.vidNestedWPBitmap[:] >> 12 & 1) + 2*((good_photon.vidNestedWPBitmap[:] >> 13) & 1)\n",
    "if ABCD == \"A\":\n",
    "    all_id = (pt_id == 3) & (scEta_id == 3) & (HoE_id == 3) & (siesie_id == 3) & (chiso_id == 3) & (neuiso_id == 3) & (phoiso_id == 3)\n",
    "elif ABCD == \"B\":\n",
    "    all_id = (pt_id == 3) & (scEta_id == 3) & (HoE_id == 3) & (siesie_id == 3) & (chiso_id < 3) & (neuiso_id == 3) & (phoiso_id == 3)\n",
    "elif ABCD == \"C\":\n",
    "    all_id = (pt_id == 3) & (scEta_id == 3) & (HoE_id == 3) & (siesie_id < 3) & (chiso_id == 3) & (neuiso_id == 3) & (phoiso_id == 3)\n",
    "elif ABCD == \"D\":\n",
    "    all_id = (pt_id == 3) & (scEta_id == 3) & (HoE_id == 3) & (siesie_id < 3) & (chiso_id < 3) & (neuiso_id == 3) & (phoiso_id == 3)\n",
    "else:\n",
    "    print('Wrong ABCD value!')\n",
    "\n",
    "selected_good_event = good_event[(good_event.HLT.Ele23_Ele12_CaloIdL_TrackIdL_IsoVL) & ((mass_ee >= 71) & (mass_ee <= 111)) & (ak.num(good_photon[all_id])>=1)]\n",
    "selected_good_electron = good_electron[(good_event.HLT.Ele23_Ele12_CaloIdL_TrackIdL_IsoVL) & ((mass_ee >= 71) & (mass_ee <= 111)) & (ak.num(good_photon[all_id])>=1)]\n",
    "selected_good_photon = good_photon[(good_event.HLT.Ele23_Ele12_CaloIdL_TrackIdL_IsoVL) & ((mass_ee >= 71) & (mass_ee <= 111)) & (ak.num(good_photon[all_id])>=1)]\n",
    "\n",
    "\n",
    "print(len(Event))\n",
    "print(len(selected_good_photon))\n"
   ]
  },
  {
   "cell_type": "code",
   "execution_count": null,
   "metadata": {},
   "outputs": [],
   "source": [
    "sample = EVENT_ELE['zg3_22'][0]\n",
    "Tag = 'zg3_22'\n",
    "# sample = EVENT_ELE['dy_22'][10]\n",
    "# Tag = 'dy_22'\n",
    "ABCD = \"A\"\n",
    "# ABCD = \"D\"\n",
    "\n",
    "#定义要用到的粒子\n",
    "Event = sample\n",
    "Photon = sample.Photon\n",
    "Muon = sample.Muon\n",
    "\n",
    "#罗列selection\n",
    "#muon\n",
    "muon_eta = (abs(Muon.eta) < 2.5) & ~((abs(Muon.eta) > 1.4442) & (abs(Muon.eta) < 1.566 ))\n",
    "muon_pt = (Muon.pt >= 20)\n",
    "muon_cutbased_id = (Muon.cutBased >= 3)\n",
    "\n",
    "#photon\n",
    "pho_pt = (Photon.pt >= 30)\n",
    "pho_eta = (abs(Photon.eta) < 2.5) & ~((abs(Photon.eta) > 1.4442) & (abs(Photon.eta) < 1.566))\n",
    "eg_near, eg_dr = Photon.nearest(Electron, axis=1, return_metric=True) #find the nearest electron near each photon\n",
    "pho_dreg = eg_dr>0.5\n",
    "mug_near, mug_dr = Photon.nearest(Muon, axis=1, return_metric=True) #find the nearest electron near each photon\n",
    "pho_drmug = mug_dr>0.5\n",
    "pho_pixel = ~Photon.pixelSeed\n",
    "pho_pixel_dy = Photon.pixelSeed\n",
    "pho_genpartFlav = (Photon.genPartFlav == 1)\n",
    "pho_genpartFlav_dy = (Photon.genPartFlav != 1)\n",
    "gen_photon = Event.GenPart[(Event.GenPart.pdgId==22) & Event.GenPart.hasFlags(['isLastCopy',\"isPrompt\"])]\n",
    "genrecopho_near, genrecopho_dr = Photon.nearest(gen_photon, axis=1, return_metric=True)\n",
    "pho_drrecogen = ak.fill_none(genrecopho_dr < 0.3, True)\n",
    "pho_drrecogen_dy = ak.fill_none(genrecopho_dr >= 0.3, True)\n",
    "\n",
    "#联立选择条件\n",
    "ele_selection = ele_eta & ele_pt & ele_cutbased_id \n",
    "photon_selection = pho_pt & pho_eta\n",
    "if 'data' in Tag:\n",
    "    photon_selection = photon_selection & pho_pixel \n",
    "elif 'data' not in Tag and 'dy' not in Tag:\n",
    "    photon_selection = photon_selection & pho_pixel & pho_genpartFlav & pho_drrecogen\n",
    "elif 'dy' in Tag:\n",
    "    photon_selection = photon_selection & (pho_pixel_dy | pho_genpartFlav_dy | pho_drrecogen_dy)\n",
    "else:\n",
    "    print('Wrong sample!')\n",
    "photon_muonchannel_selection = photon_selection & pho_dreg\n",
    "\n",
    "\n",
    "#处理通过object挑选的事件 要求有两个electron，两个electron异号，最大的electron pt>=25\n",
    "\n",
    "#最终处理事例，调用函数，mass在质量窗内，且通过trigger\n",
    "#mass质量窗\n",
    "tem_ele = good_electron\n",
    "ele_vectors = ak.zip(\n",
    "{\n",
    "\"pt\": tem_ele[\"pt\"],\n",
    "\"eta\": tem_ele[\"eta\"],\n",
    "\"phi\": tem_ele[\"phi\"],\n",
    "\"mass\": tem_ele[\"mass\"],\n",
    "},\n",
    "with_name=\"PtEtaPhiMLorentzVector\",\n",
    ")\n",
    "mass_ee = (ele_vectors[:, 0] + ele_vectors[:, 1]).mass\n",
    "\n",
    "#photon id\n",
    "pt_id = (good_photon.vidNestedWPBitmap[:] & 1) + 2*((good_photon.vidNestedWPBitmap[:] >> 1) & 1) \n",
    "scEta_id = (good_photon.vidNestedWPBitmap[:] >> 2 & 1) + 2*((good_photon.vidNestedWPBitmap[:] >> 3) & 1) \n",
    "HoE_id = (good_photon.vidNestedWPBitmap[:] >> 4 & 1) + 2*((good_photon.vidNestedWPBitmap[:] >> 5) & 1) \n",
    "siesie_id = (good_photon.vidNestedWPBitmap[:] >> 6 & 1) + 2*((good_photon.vidNestedWPBitmap[:] >> 7) & 1) \n",
    "chiso_id = (good_photon.vidNestedWPBitmap[:] >> 8 & 1) + 2*((good_photon.vidNestedWPBitmap[:] >> 9) & 1) \n",
    "neuiso_id = (good_photon.vidNestedWPBitmap[:] >> 10 & 1) + 2*((good_photon.vidNestedWPBitmap[:] >> 11) & 1) \n",
    "phoiso_id = (good_photon.vidNestedWPBitmap[:] >> 12 & 1) + 2*((good_photon.vidNestedWPBitmap[:] >> 13) & 1)\n",
    "if ABCD == \"A\":\n",
    "    all_id = (pt_id == 3) & (scEta_id == 3) & (HoE_id == 3) & (siesie_id == 3) & (chiso_id == 3) & (neuiso_id == 3) & (phoiso_id == 3)\n",
    "elif ABCD == \"B\":\n",
    "    all_id = (pt_id == 3) & (scEta_id == 3) & (HoE_id == 3) & (siesie_id == 3) & (chiso_id < 3) & (neuiso_id == 3) & (phoiso_id == 3)\n",
    "elif ABCD == \"C\":\n",
    "    all_id = (pt_id == 3) & (scEta_id == 3) & (HoE_id == 3) & (siesie_id < 3) & (chiso_id == 3) & (neuiso_id == 3) & (phoiso_id == 3)\n",
    "elif ABCD == \"D\":\n",
    "    all_id = (pt_id == 3) & (scEta_id == 3) & (HoE_id == 3) & (siesie_id < 3) & (chiso_id < 3) & (neuiso_id == 3) & (phoiso_id == 3)\n",
    "else:\n",
    "    print('Wrong ABCD value!')\n",
    "\n",
    "good_electron = Electron[ele_selection][(ak.num(Electron[ele_selection])==2) & (ak.sum(Electron[ele_selection].pdgId,axis=1)==0) & (ak.fill_none(ak.max(Electron[ele_selection].pt, axis=1) >= 25, False)) & (ak.num(Photon[photon_muonchannel_selection])>=1)]\n",
    "good_event = Event[(ak.num(Electron[ele_selection])==2) & (ak.sum(Electron[ele_selection].pdgId,axis=1)==0) & (ak.fill_none(ak.max(Electron[ele_selection].pt, axis=1) >= 25, False)) & (ak.num(Photon[photon_muonchannel_selection])>=1)]\n",
    "good_photon = Photon[photon_muonchannel_selection][(ak.num(Electron[ele_selection])==2) & (ak.sum(Electron[ele_selection].pdgId,axis=1)==0) & (ak.fill_none(ak.max(Electron[ele_selection].pt, axis=1) >= 25, False)) & (ak.num(Photon[photon_muonchannel_selection])>=1)]\n",
    "\n",
    "selected_good_event = good_event[(good_event.HLT.Ele23_Ele12_CaloIdL_TrackIdL_IsoVL) & ((mass_ee >= 71) & (mass_ee <= 111)) & (ak.num(good_photon[all_id])>=1)]\n",
    "selected_good_electron = good_electron[(good_event.HLT.Ele23_Ele12_CaloIdL_TrackIdL_IsoVL) & ((mass_ee >= 71) & (mass_ee <= 111)) & (ak.num(good_photon[all_id])>=1)]\n",
    "selected_good_photon = good_photon[(good_event.HLT.Ele23_Ele12_CaloIdL_TrackIdL_IsoVL) & ((mass_ee >= 71) & (mass_ee <= 111)) & (ak.num(good_photon[all_id])>=1)]\n",
    "\n",
    "\n",
    "print(len(Event))\n",
    "print(len(selected_good_photon))\n"
   ]
  },
  {
   "cell_type": "code",
   "execution_count": null,
   "metadata": {},
   "outputs": [],
   "source": [
    "mu0 = sample[sample.HLT.Mu17_TrkIsoVVL_Mu8_TrkIsoVVL_DZ_Mass3p8]#\n",
    "eta_cut = mu0.Muon[abs(mu0.Muon.eta) < 2.4]\n",
    "pt_cut = eta_cut[eta_cut.pt >= 20]#[ ak.max(eta_cut.pt, axis=1) >= 25]\n",
    "id_cut = pt_cut[(pt_cut.tightId) & (pt_cut.pfIsoId >= 4)]\n",
    "charge_num_cut = id_cut[(ak.sum(id_cut.pdgId,axis=1)==0) & (ak.num(id_cut.pdgId,axis=1)==2)]\n",
    "mu1_mu =  charge_num_cut[ak.max(charge_num_cut.pt, axis=1) >= 25]\n",
    "charge_num_event = mu0[(ak.sum(id_cut.pdgId,axis=1)==0) & (ak.num(id_cut.pdgId,axis=1)==2)]\n",
    "mu1 = charge_num_event[ak.max(charge_num_cut.pt, axis=1) >= 25]\n",
    "tem_Muon = mu1_mu\n",
    "muon_vectors = ak.zip(\n",
    "{\n",
    "    \"pt\": tem_Muon[\"pt\"],\n",
    "    \"eta\": tem_Muon[\"eta\"],\n",
    "    \"phi\": tem_Muon[\"phi\"],\n",
    "    \"mass\": tem_Muon[\"mass\"],\n",
    "},\n",
    "with_name=\"PtEtaPhiMLorentzVector\",\n",
    ")\n",
    "mass_mumu = (muon_vectors[:, 0] + muon_vectors[:, 1]).mass\n",
    "mu2 = mu1[(mass_mumu >= 71) & (mass_mumu <= 111)]\n",
    "mu2_mu = mu1_mu[(mass_mumu >= 71) & (mass_mumu <= 111)]\n",
    "#photon\n",
    "pt_cut = mu2.Photon[(mu2.Photon.pt > 30)]#&(ak.num(mu2.Photon.pt)<=2)\n",
    "eta_cut = pt_cut[(abs(pt_cut.eta) < 2.5) & ~((abs(pt_cut.eta) > 1.4442) & (abs(pt_cut.eta) < 1.566))]\n",
    "pt_id = (eta_cut.vidNestedWPBitmap[:] & 1) + 2*((eta_cut.vidNestedWPBitmap[:] >> 1) & 1) \n",
    "scEta_id = (eta_cut.vidNestedWPBitmap[:] >> 2 & 1) + 2*((eta_cut.vidNestedWPBitmap[:] >> 3) & 1) \n",
    "HoE_id = (eta_cut.vidNestedWPBitmap[:] >> 4 & 1) + 2*((eta_cut.vidNestedWPBitmap[:] >> 5) & 1) \n",
    "siesie_id = (eta_cut.vidNestedWPBitmap[:] >> 6 & 1) + 2*((eta_cut.vidNestedWPBitmap[:] >> 7) & 1) \n",
    "chiso_id = (eta_cut.vidNestedWPBitmap[:] >> 8 & 1) + 2*((eta_cut.vidNestedWPBitmap[:] >> 9) & 1) \n",
    "neuiso_id = (eta_cut.vidNestedWPBitmap[:] >> 10 & 1) + 2*((eta_cut.vidNestedWPBitmap[:] >> 11) & 1) \n",
    "phoiso_id = (eta_cut.vidNestedWPBitmap[:] >> 12 & 1) + 2*((eta_cut.vidNestedWPBitmap[:] >> 13) & 1)\n",
    "##tight\n",
    "if ABCD == \"A\":\n",
    "    all_id_3 = (pt_id == 3) & (scEta_id == 3) & (HoE_id == 3) & (siesie_id == 3) & (chiso_id == 3) & (neuiso_id == 3) & (phoiso_id == 3)\n",
    "if ABCD == \"B\":\n",
    "    all_id_3 = (pt_id == 3) & (scEta_id == 3) & (HoE_id == 3) & (siesie_id == 3) & (chiso_id < 3) & (neuiso_id == 3) & (phoiso_id == 3)\n",
    "if ABCD == \"C\":\n",
    "    all_id_3 = (pt_id == 3) & (scEta_id == 3) & (HoE_id == 3) & (siesie_id < 3) & (chiso_id == 3) & (neuiso_id == 3) & (phoiso_id == 3)\n",
    "if ABCD == \"D\":\n",
    "    all_id_3 = (pt_id == 3) & (scEta_id == 3) & (HoE_id == 3) & (siesie_id < 3) & (chiso_id < 3) & (neuiso_id == 3) & (phoiso_id == 3)\n",
    "id_cut = eta_cut[all_id_3]\n",
    "photon_per_event = (ak.num(id_cut,axis=1) >= 1)\n",
    "pho1 = mu2[photon_per_event]\n",
    "pho1_mu = mu2_mu[photon_per_event]\n",
    "pho1_pho = id_cut[photon_per_event]\n",
    "lg_near, lg_dr = pho1_pho.nearest(pho1.Muon, axis=1, return_metric=True)\n",
    "pho2 = pho1[ak.num(pho1_pho[lg_dr>0.5])>=1]\n",
    "pho2_mu = pho1_mu[ak.num(pho1_pho[lg_dr>0.5])>=1]\n",
    "pho2_pho = pho1_pho[lg_dr>0.5]\n",
    "pho2_pho = pho2_pho[ak.num(pho2_pho)>=1]\n",
    "pho3 = pho2[ak.num(pho2_pho[~pho2_pho.pixelSeed])>=1]\n",
    "pho3_mu = pho2_mu[ak.num(pho2_pho[~pho2_pho.pixelSeed])>=1]\n",
    "pho3_pho = pho2_pho[~pho2_pho.pixelSeed]\n",
    "pho3_pho = pho3_pho[ak.num(pho3_pho)>=1]\n",
    "if 'data' in Tag:\n",
    "    return pho3_mu,pho3_pho,pho3\n",
    "    # return mu0,mu1,mu1_mu,mu2,mu2_mu,pho1,pho1_mu,pho1_pho,pho2,pho2_mu,pho2_pho,pho3,pho3_mu,pho3_pho\n",
    "if 'data' not in Tag:\n",
    "    prompt_cut = (pho3_pho.genPartFlav == 1)\n",
    "    pho4 = pho3[ak.num(pho3_pho[prompt_cut])>=1]\n",
    "    pho4_mu = pho3_mu[ak.num(pho3_pho[prompt_cut])>=1]\n",
    "    pho4_pho = pho3_pho[prompt_cut]\n",
    "    pho4_pho = pho4_pho[ak.num(pho4_pho)>=1]\n",
    "    gen_photon = pho4.GenPart[(pho4.GenPart.pdgId==22) & pho4.GenPart.hasFlags(['isLastCopy',\"isPrompt\"])]\n",
    "    photon5_near, photon5_gen_photon_dr = pho4_pho.nearest(gen_photon, axis=1, return_metric=True)\n",
    "    mask = ak.fill_none(photon5_gen_photon_dr < 0.3, True)\n",
    "    selected_photons5 = pho4_pho[mask]\n",
    "    pho5 = pho4[ak.num(selected_photons5)>=1]\n",
    "    pho5_mu = pho4_mu[ak.num(selected_photons5)>=1]\n",
    "    pho5_pho = selected_photons5[ak.num(selected_photons5)>=1]\n",
    "    return pho5_mu,pho5_pho,pho5\n",
    "    # return mu0,mu1,mu1_mu,mu2,mu2_mu,pho1,pho1_mu,pho1_pho,pho2,pho2_mu,pho2_pho,pho3,pho3_mu,pho3_pho,pho4,pho4_mu,pho4_pho,pho5,pho5_mu,pho5_pho\n",
    "\n",
    "    "
   ]
  },
  {
   "cell_type": "code",
   "execution_count": null,
   "metadata": {},
   "outputs": [],
   "source": []
  },
  {
   "cell_type": "code",
   "execution_count": 17,
   "id": "357670a9",
   "metadata": {},
   "outputs": [
    {
     "name": "stdout",
     "output_type": "stream",
     "text": [
      "zg0 event_phodrs {'photon_pt': <Array [[42], [36], ... [32.6], [33.8]] type='188 * option[var * float32[paramet...'>, 'photon_endcap': <Array [[False], [False], ... [True], [False]] type='188 * option[var * bool[par...'>, 'photon_barrel': <Array [[True], [True], ... [False], [True]] type='188 * option[var * bool[param...'>, 'Photon_genPartFlav': <Array [[1], [1], [1], ... [1], [1], [1]] type='188 * option[var * uint8[paramet...'>, 'Gen_statusflag': <Array [[10625, 22913, 4481, ... 12352, 12352]] type='188 * option[var * int32[p...'>, 'generator_weight': <Array [1, 1, 1, -1, 1, 1, ... -1, 1, 1, 1, 1] type='188 * ?float32'>, 'event_weight': <Array [1, 1, 1, -1, 1, 1, ... 1, -1, 1, 1, 1] type='202914 * float32'>}\n",
      "zg1 event_phodrs {'photon_pt': <Array [[95.3], [53.3], ... [86.5], [56.1]] type='521 * option[var * float32[par...'>, 'photon_endcap': <Array [[True], [False], ... [True], [True]] type='521 * option[var * bool[param...'>, 'photon_barrel': <Array [[False], [True], ... [False], [False]] type='521 * option[var * bool[par...'>, 'Photon_genPartFlav': <Array [[1], [1], [1], ... [1], [1], [1]] type='521 * option[var * uint8[paramet...'>, 'Gen_statusflag': <Array [[10625, 27009, 4481, ... 12352, 12352]] type='521 * option[var * int32[p...'>, 'generator_weight': <Array [1, 1, 1, 1, 1, 1, ... 1, 1, 1, 1, 1, 1] type='521 * ?float32'>, 'event_weight': <Array [1, -1, 1, 1, -1, ... 1, 1, 1, 1, -1] type='17928 * float32'>}\n",
      "zg2 event_phodrs {'photon_pt': <Array [[142], [108], ... [111], [179]] type='804 * option[var * float32[paramet...'>, 'photon_endcap': <Array [[False], [False], ... [True], [False]] type='804 * option[var * bool[par...'>, 'photon_barrel': <Array [[True], [True], ... [False], [True]] type='804 * option[var * bool[param...'>, 'Photon_genPartFlav': <Array [[1], [1], [1], ... [1], [1], [1]] type='804 * option[var * uint8[paramet...'>, 'Gen_statusflag': <Array [[18817, 22913, 4481, ... 12289, 8449]] type='804 * option[var * int32[pa...'>, 'generator_weight': <Array [1, 1, 1, 1, 1, 1, ... -1, 1, -1, 1, 1] type='804 * ?float32'>, 'event_weight': <Array [1, -1, 1, -1, 1, ... 1, 1, 1, -1, -1] type='20374 * float32'>}\n",
      "zg3 event_phodrs {'photon_pt': <Array [[300], [362], ... [257], [287]] type='30 * option[var * float32[paramete...'>, 'photon_endcap': <Array [[True], [False], ... [False], [False]] type='30 * option[var * bool[para...'>, 'photon_barrel': <Array [[False], [True], ... [True], [True]] type='30 * option[var * bool[parame...'>, 'Photon_genPartFlav': <Array [[1], [1], [1], ... [1], [1], [1]] type='30 * option[var * uint8[paramete...'>, 'Gen_statusflag': <Array [[10625, 10625, 4481, ... 12352, 12352]] type='30 * option[var * int32[pa...'>, 'generator_weight': <Array [1, 1, 1, 1, -1, 1, ... -1, 1, 1, -1, 1] type='30 * ?float32'>, 'event_weight': <Array [-1, -1, 1, -1, 1, 1, ... 1, 1, 1, 1, 1] type='639 * float32'>}\n"
     ]
    }
   ],
   "source": [
    "import selection_cut\n",
    "reload(selection_cut)\n",
    "event_phodrs = {key: {} for key in EVENT}\n",
    "\n",
    "\n",
    "for key in EVENT.keys():\n",
    "    event_variables = []\n",
    "    # fiducial_variables = []\n",
    "    for i in EVENT[key]:\n",
    "#muon_cut\n",
    "        if 'data' not in key:\n",
    "            event_weight = {'event_weight':np.sign(i.Generator.weight)}\n",
    "            mu0 = selection_cut.muon(i,'num',True)\n",
    "        elif key == 'dataF':\n",
    "            murun = selection_cut.muon(i,'run_num','F')\n",
    "            event_weight =  {'event_weight':'NONE'}\n",
    "            mu0 = selection_cut.muon(murun,'num',True)\n",
    "        elif key == 'dataG':\n",
    "            murun = selection_cut.muon(i,'run_num','G')\n",
    "            event_weight =  {'event_weight':'NONE'}\n",
    "            mu0 = selection_cut.muon(murun,'num',True)            \n",
    "        mu1 = selection_cut.muon(mu0,'trigger','double')\n",
    "        mu2,event2 = selection_cut.muon(mu1,'cutBasedID','tight')\n",
    "        mu3 = selection_cut.muon(mu2,'pf','tight')\n",
    "        mu4 = selection_cut.muon(mu3,'eta','2.4')\n",
    "        mu5 = selection_cut.muon(mu4,'pt',event2)\n",
    "        mu6 = selection_cut.muon(mu5,'pid',True)\n",
    "        mass_mumu = selection_cut.MASS(mu6,'mu')\n",
    "        mu_mass = selection_cut.muon(mu6,'mass',mass_mumu)\n",
    "#photon_cut\n",
    "        pho1 = selection_cut.photon(mu_mass, 'pt', '30')\n",
    "        pho2 = selection_cut.photon(pho1, 'eta', '2.5')\n",
    "        pho3 = selection_cut.photon(pho2, 'id', 'tight') #tight #B #C #D\n",
    "        if 'data' in key:\n",
    "            # event_variables.append(selection_cut.VARIABLES(pho3,mass_mumu,mass_gmumu,key,event_weight))\n",
    "            lg_near, lg_dr = pho3.Photon.nearest(pho3.Muon, axis=1, return_metric=True)\n",
    "            fsr = selection_cut.muon(pho3,'fsr',lg_dr)\n",
    "            mass_mumu = selection_cut.MASS(fsr,'mu')\n",
    "            mass_gmumu = selection_cut.MASS(fsr,'gmumu')\n",
    "            event_variables.append(selection_cut.VARIABLES(fsr,mass_mumu,mass_gmumu,False, False,key,event_weight))\n",
    "        else:\n",
    "            lg_near, lg_dr = pho3.Photon.nearest(pho3.Muon, axis=1, return_metric=True)\n",
    "            fsr = selection_cut.muon(pho3,'fsr',lg_dr)\n",
    "            # pho4 = selection_cut.photon(pho3,'prompt',True) #看细节\n",
    "            # pho4 = selection_cut.photon(pho3,'prompt',False) #看细节\n",
    "            # gen_photon = pho4.GenPart[(pho4.GenPart.pdgId==22) & pho4.GenPart.hasFlags(['isLastCopy',\"isPrompt\"])]\n",
    "            # photon4_near, photon4_gen_photon_dr = gen_photon.nearest(pho4.Photon, axis=1, return_metric=True)\n",
    "            # mask = ak.fill_none(photon4_gen_photon_dr < 0.3, True)\n",
    "            # pho5 = pho4[ak.num(pho4.Photon[ak.any(mask == True,axis=1)]) == 1]\n",
    "            # lg_near, lg_dr = pho5.Photon.nearest(pho5.Muon, axis=1, return_metric=True)\n",
    "            # fsr = selection_cut.muon(pho5,'fsr',lg_dr)\n",
    "            mass_mumu = selection_cut.MASS(fsr,'mu')\n",
    "            mass_gmumu = selection_cut.MASS(fsr,'gmumu')\n",
    "            event_variables.append(selection_cut.VARIABLES(fsr,mass_mumu,mass_gmumu,key,event_weight))\n",
    "            # gen_gmumu = selection_cut.gen_mass(fsr,'gmumu')\n",
    "            # gen_mumu = selection_cut.gen_mass(fsr,'mu')\n",
    "            # event_variables.append(selection_cut.VARIABLES(fsr,mass_mumu,mass_gmumu,gen_gmumu,gen_mumu,key,event_weight))\n",
    "    event_phodrs[key] = event_variables\n",
    "    print(key,'event_phodrs',event_phodrs[key][0])\n",
    "\n",
    "\n",
    "\n",
    "#dataF 74m  \n",
    "#dataG 10m\n",
    "#zg0 30m\n",
    "#mc 98m"
   ]
  },
  {
   "cell_type": "code",
   "execution_count": null,
   "id": "9ce56693",
   "metadata": {},
   "outputs": [],
   "source": []
  },
  {
   "cell_type": "code",
   "execution_count": null,
   "id": "9e1d6d63",
   "metadata": {},
   "outputs": [],
   "source": []
  },
  {
   "cell_type": "code",
   "execution_count": 18,
   "id": "6bc7ce14",
   "metadata": {},
   "outputs": [],
   "source": [
    "#清理内存\n",
    "# import gc\n",
    "\n",
    "# del EVENT\n",
    "# gc.collect()"
   ]
  },
  {
   "cell_type": "code",
   "execution_count": 19,
   "id": "04828efa",
   "metadata": {},
   "outputs": [
    {
     "name": "stdout",
     "output_type": "stream",
     "text": [
      "zg0\n",
      "zg1\n",
      "zg2\n",
      "zg3\n"
     ]
    }
   ],
   "source": [
    "# 样本名称列表\n",
    "# sample_names = [\"dataF\", \"dataG\",\"zg1\", \"zg2\", \"zg3\", \"tt\", \"zz\", \"ww\", \"wz\"]\n",
    "# sample_names = [\"zg0\"]\n",
    "sample_names = [\"zg0\",\"zg1\", \"zg2\", \"zg3\"]\n",
    "# sample_names = [\"tt\", \"zz\", \"ww\", \"wz\"]#\"tt\",\n",
    "# sample_names = [\"dataF\", \"dataG\"]\n",
    "# sample_names = [\"dy1\",\"dy2\"]#,\"dy\"\"zg2\", \"zg3\"\n",
    "\n",
    "# 初始化一个字典，用于存储合并后的数据\n",
    "event_final = {}\n",
    "\n",
    "# 遍历每个样本名称\n",
    "for sample_name in sample_names:\n",
    "    print(sample_name)\n",
    "    # 初始化一个字典，用于存储当前样本的合并数据\n",
    "    event_final[sample_name] = {}\n",
    "\n",
    "    # 获取第一个条目中的信息键\n",
    "    info_keys = list(event_phodrs[sample_name][0].keys())\n",
    "\n",
    "    # 遍历每个信息键\n",
    "    for info_key in info_keys:\n",
    "        # 从 event_muon_phodrs 中提取当前样本和信息键的数据\n",
    "        data_to_concatenate = [entry[info_key] for entry in event_phodrs[sample_name]]\n",
    "\n",
    "        # 使用 ak.concatenate 将数据连接在一起\n",
    "        event_final[sample_name][info_key] = ak.concatenate(data_to_concatenate)\n",
    "\n",
    "#zg0 10min\n",
    "#zg1 \n",
    "#dy1 dy2 277min"
   ]
  },
  {
   "cell_type": "code",
   "execution_count": 20,
   "id": "f549a91b",
   "metadata": {},
   "outputs": [],
   "source": [
    "def save_event_dict(event_dict, file_prefix):\n",
    "    # data_subkeys = ['photon_pt', 'photon_eta', 'muon1_pt', 'muon2_pt', 'muon1_eta', 'muon2_eta', 'muon_mass','gmumu_mass','photon_endcap','photon_barrel','npvsGood','Rho_Calo','Rho_tracker']#,'npvsGood','Rho_Calo','Rho_tracker',,'dr_lg','charge1','charge2'\n",
    "    data_subkeys = ['Photon_genPartFlav','Gen_statusflag','photon_pt','photon_endcap','photon_barrel',]\n",
    "    other_subkeys = data_subkeys + ['generator_weight', 'event_weight',]#'LHEPdfWeight','LHEScaleWeight','PSWeight','GenDressedLepton','GenIsolatedPhoton','gen_gmumu','gen_mumu' 'gen_muon1_pt','gen_muon2_pt','gen_muon1_eta','gen_muon2_eta','gen_gmumu','gen_mumu','LHEPdfWeight','LHEScaleWeight',,'gen_gmumu'\n",
    "    # other_subkeys = data_subkeys\n",
    "\n",
    "    for key, value in event_dict.items():\n",
    "        subkeys = other_subkeys if 'data' not in key else data_subkeys\n",
    "        for subkey in subkeys:\n",
    "            ak.to_parquet(value[subkey], f'{file_prefix}_{key}_{subkey}.parquet')\n",
    "\n"
   ]
  },
  {
   "cell_type": "code",
   "execution_count": 21,
   "id": "ec54381b",
   "metadata": {},
   "outputs": [],
   "source": [
    "# 存储数据\n",
    "# save_event_dict(event_final, 'selection_file/event_final')\n",
    "save_event_dict(event_final, 'ABCD_file/closure_test/A/event_final')\n",
    "# save_event_dict(event_final, 'ABCD_file/B/event_final')\n",
    "# save_event_dict(event_final, 'test_file/D/event_final')"
   ]
  },
  {
   "cell_type": "code",
   "execution_count": null,
   "id": "0cedd3f5",
   "metadata": {},
   "outputs": [],
   "source": []
  },
  {
   "cell_type": "markdown",
   "id": "e12de0ad",
   "metadata": {},
   "source": [
    "# TEST"
   ]
  },
  {
   "cell_type": "code",
   "execution_count": 12,
   "id": "1f527774",
   "metadata": {},
   "outputs": [],
   "source": [
    "sample = EVENT['zg3'][0]\n",
    "pass_mu = (sample['GenDressedLepton'].pt > 10) \n",
    "pass_pho = (sample['GenIsolatedPhoton'].pt > 10)\n",
    "sample_tem_test = sample['GenDressedLepton'][abs(sample['GenDressedLepton'].eta) < 2.4]#2.4\n",
    "in_fiducial_1 = sample[(ak.num(pass_pho,axis=1)==1) & (ak.num(pass_mu,axis=1)==2)]\n",
    "out_fiducial_1 = sample[~((ak.num(pass_pho,axis=1)==1) & (ak.num(pass_mu,axis=1)==2))]\n",
    "in_fiducial_2 = in_fiducial_1[ak.num(sample_tem.eta)==2]\n",
    "out_fiducial_2 = in_fiducial_1[ak.num(sample_tem.eta)!=2]\n",
    "\n",
    "\n",
    "out_fiducial_all = sample[(~((ak.num(pass_pho,axis=1)==1) & (ak.num(pass_mu,axis=1)==2))) | (ak.num(sample_tem_test.eta)!=2)]"
   ]
  },
  {
   "cell_type": "code",
   "execution_count": 13,
   "id": "d10f3822",
   "metadata": {},
   "outputs": [
    {
     "name": "stdout",
     "output_type": "stream",
     "text": [
      "292\n",
      "347\n",
      "356\n"
     ]
    }
   ],
   "source": [
    "print(len(in_fiducial_1))\n",
    "print(len(out_fiducial_1))\n",
    "print(len(out_fiducial_all))"
   ]
  },
  {
   "cell_type": "code",
   "execution_count": 10,
   "id": "ce8936f8",
   "metadata": {},
   "outputs": [],
   "source": [
    "sample = EVENT['zg3'][0]\n",
    "pass_mu = (sample['GenDressedLepton'].pt > 10) \n",
    "pass_pho = (sample['GenIsolatedPhoton'].pt > 10)\n",
    "in_fiducial_1 = sample[(ak.num(pass_pho,axis=1)==1) & (ak.num(pass_mu,axis=1)==2)]\n",
    "out_fiducial_1 = sample[~((ak.num(pass_pho,axis=1)==1) & (ak.num(pass_mu,axis=1)==2))]\n",
    "sample_tem = in_fiducial_1['GenDressedLepton'][abs(in_fiducial_1['GenDressedLepton'].eta) < 2.4]#2.4\n",
    "in_fiducial_2 = in_fiducial_1[ak.num(sample_tem.eta)==2]\n",
    "out_fiducial_2 = in_fiducial_1[ak.num(sample_tem.eta)!=2]"
   ]
  },
  {
   "cell_type": "code",
   "execution_count": 6,
   "id": "a2433281",
   "metadata": {},
   "outputs": [
    {
     "name": "stdout",
     "output_type": "stream",
     "text": [
      "292\n",
      "347\n",
      "283\n",
      "9\n"
     ]
    }
   ],
   "source": [
    "print(len(in_fiducial_1))\n",
    "print(len(out_fiducial_1))\n",
    "print(len(in_fiducial_2))\n",
    "print(len(out_fiducial_2))"
   ]
  },
  {
   "cell_type": "code",
   "execution_count": 6,
   "id": "1ef76411",
   "metadata": {},
   "outputs": [
    {
     "data": {
      "text/plain": [
       "<Array [83.8, 91.6, 89.6, ... 90.3, 90.1, 92.4] type='30 * ?float32'>"
      ]
     },
     "execution_count": 6,
     "metadata": {},
     "output_type": "execute_result"
    }
   ],
   "source": [
    "import selection_cut\n",
    "reload(selection_cut)\n",
    "\n",
    "i = EVENT['zg3'][0]\n",
    "event_weight = {'event_weight':np.sign(i.Generator.weight)}\n",
    "mu0 = selection_cut.muon(i,'num',True)          \n",
    "mu1 = selection_cut.muon(mu0,'trigger','double')\n",
    "mu2,event2 = selection_cut.muon(mu1,'cutBasedID','tight')\n",
    "mu3 = selection_cut.muon(mu2,'pf','tight')\n",
    "mu4 = selection_cut.muon(mu3,'eta','2.4')\n",
    "mu5 = selection_cut.muon(mu4,'pt',event2)\n",
    "mu6 = selection_cut.muon(mu5,'pid',True)\n",
    "mass_mumu = selection_cut.MASS(mu6,'mu')\n",
    "mu_mass = selection_cut.muon(mu6,'mass',mass_mumu)\n",
    "#photon_cut\n",
    "pho1 = selection_cut.photon(mu_mass, 'pt', '30')\n",
    "pho2 = selection_cut.photon(pho1, 'eta', '2.5')\n",
    "pho3 = selection_cut.photon(pho2, 'id', 'tight') #tight\n",
    "pho4 = selection_cut.photon(pho3,'prompt',True)\n",
    "gen_photon = pho4.GenPart[(pho4.GenPart.pdgId==22) & pho4.GenPart.hasFlags(['isLastCopy',\"isPrompt\"])]\n",
    "photon4_near, photon4_gen_photon_dr = gen_photon.nearest(pho4.Photon, axis=1, return_metric=True)\n",
    "mask = ak.fill_none(photon4_gen_photon_dr < 0.3, True)\n",
    "pho5 = pho4[ak.num(pho4.Photon[ak.any(mask == True,axis=1)]) == 1]\n",
    "# event_variables.append(selection_cut.VARIABLES(pho5,mass_mumu,mass_gmumu,key,event_weight))\n",
    "lg_near, lg_dr = pho5.Photon.nearest(pho5.Muon, axis=1, return_metric=True)\n",
    "fsr = selection_cut.muon(pho5,'fsr',lg_dr)\n",
    "gen_mumu = selection_cut.gen_mass(fsr,'mu')\n",
    "gen_mumu\n",
    "\n",
    "\n",
    "#dataF 74m  \n",
    "#dataG 10m\n",
    "#zg0 30m\n",
    "#mc 98m"
   ]
  },
  {
   "cell_type": "code",
   "execution_count": 58,
   "id": "c5f1f194",
   "metadata": {},
   "outputs": [],
   "source": [
    "gen_mumu = selection_cut.gen_mass(fsr,'mu')"
   ]
  },
  {
   "cell_type": "code",
   "execution_count": 57,
   "id": "de085431",
   "metadata": {},
   "outputs": [
    {
     "data": {
      "text/plain": [
       "13"
      ]
     },
     "execution_count": 57,
     "metadata": {},
     "output_type": "execute_result"
    }
   ],
   "source": [
    "ak.max(samples['GenDressedLepton']['pdgId'])"
   ]
  },
  {
   "cell_type": "code",
   "execution_count": 53,
   "id": "69105d77",
   "metadata": {},
   "outputs": [],
   "source": [
    "gen_muon_vectors_0 = ak.zip(\n",
    "    {\n",
    "        \"pt\": samples['GenDressedLepton']['pt'],\n",
    "        \"eta\": samples['GenDressedLepton']['eta'],\n",
    "        \"phi\": samples['GenDressedLepton']['phi'],\n",
    "        \"mass\": samples['GenDressedLepton']['mass']\n",
    "    },\n",
    "    with_name=\"PtEtaPhiMLorentzVector\"\n",
    ")\n",
    "# GEN_gamma = GEN[GEN['pdgId'] == 22]\n",
    "gen_photon_vector_0 = ak.zip(\n",
    "    {\n",
    "        \"pt\": samples['GenIsolatedPhoton']['pt'],\n",
    "        \"eta\": samples['GenIsolatedPhoton']['eta'],\n",
    "        \"phi\": samples['GenIsolatedPhoton']['phi'],\n",
    "        \"mass\": samples['GenIsolatedPhoton']['mass'],\n",
    "    },\n",
    "    with_name=\"PtEtaPhiMLorentzVector\"\n",
    ")\n",
    "gen_muon_vectors = gen_muon_vectors_0[ak.num(gen_muon_vectors_0)==2]\n",
    "gen_photon_vector = gen_photon_vector_0[ak.num(gen_muon_vectors_0)==2]\n",
    "# gen_muon_vectors = gen_muon_vectors_0[ak.num(gen_muon_vectors_0)==2][ak.num(gen_photon_vector_0['pt'])==1]\n",
    "# gen_photon_vector = gen_photon_vector_0[ak.num(gen_muon_vectors_0)==2][ak.num(gen_photon_vector_0['pt'])==1]"
   ]
  },
  {
   "cell_type": "code",
   "execution_count": 65,
   "id": "73e35e26",
   "metadata": {},
   "outputs": [
    {
     "data": {
      "text/plain": [
       "<Array [85.2, 92.7, 91.4, ... 83.2, 89.6, 85.7] type='89 * ?float32'>"
      ]
     },
     "execution_count": 65,
     "metadata": {},
     "output_type": "execute_result"
    }
   ],
   "source": [
    "samples = fsr\n",
    "gen_muon_vectors_0 = ak.zip(\n",
    "        {\n",
    "            \"pt\": samples['GenDressedLepton']['pt'],\n",
    "            \"eta\": samples['GenDressedLepton']['eta'],\n",
    "            \"phi\": samples['GenDressedLepton']['phi'],\n",
    "            \"mass\": samples['GenDressedLepton']['mass']\n",
    "        },\n",
    "        with_name=\"PtEtaPhiMLorentzVector\"\n",
    "    )\n",
    "gen_muon_vectors = gen_muon_vectors_0[ak.num(gen_muon_vectors_0)==2]\n",
    "# GEN_gamma = GEN[GEN['pdgId'] == 22]\n",
    "gen_photon_vector = ak.zip(\n",
    "    {\n",
    "        \"pt\": fsr['GenIsolatedPhoton']['pt'],\n",
    "        \"eta\": fsr['GenIsolatedPhoton']['eta'],\n",
    "        \"phi\": fsr['GenIsolatedPhoton']['phi'],\n",
    "        \"mass\": fsr['GenIsolatedPhoton']['mass'],\n",
    "    },\n",
    "    with_name=\"PtEtaPhiMLorentzVector\"\n",
    ")\n",
    "invariant_mass = (gen_muon_vectors[:, 0] + gen_muon_vectors[:, 1] ).mass\n",
    "# invariant_mass = (gen_muon_vectors[:, 0] + gen_muon_vectors[:, 1] + gen_photon_vector[:,0]).mass\n",
    "invariant_mass"
   ]
  },
  {
   "cell_type": "code",
   "execution_count": 63,
   "id": "0a8a2773",
   "metadata": {},
   "outputs": [
    {
     "data": {
      "text/plain": [
       "<Array [92.6, 90.9, 90.1, ... 93.5, 92.6, 90.4] type='6499 * ?float32'>"
      ]
     },
     "execution_count": 63,
     "metadata": {},
     "output_type": "execute_result"
    }
   ],
   "source": [
    "samples = fsr\n",
    "gen_muon_idxs = samples['Muon'][\"genPartIdx\"]\n",
    "GEN = samples['GenPart']\n",
    "gen_muon_vectors = ak.zip(\n",
    "    {\n",
    "        \"pt\": GEN[gen_muon_idxs]['pt'],\n",
    "        \"eta\": GEN[gen_muon_idxs]['eta'],\n",
    "        \"phi\": GEN[gen_muon_idxs]['phi'],\n",
    "        \"mass\": GEN[gen_muon_idxs]['mass']\n",
    "    },\n",
    "    with_name=\"PtEtaPhiMLorentzVector\"\n",
    ")\n",
    "# 获取gen level photon的四动量信息\n",
    "gen_photon_idx = samples.Photon[:, 0][\"genPartIdx\"]\n",
    "GEN = ak.flatten(samples['GenPart'])\n",
    "gen_photon_vector = ak.zip(\n",
    "    {\n",
    "        \"pt\": GEN[gen_photon_idx]['pt'],\n",
    "        \"eta\": GEN[gen_photon_idx]['eta'],\n",
    "        \"phi\": GEN[gen_photon_idx]['phi'],\n",
    "        \"mass\": GEN[gen_photon_idx]['mass'],\n",
    "    },\n",
    "    with_name=\"PtEtaPhiMLorentzVector\"\n",
    ")\n",
    "invariant_mass = (gen_muon_vectors[:, 0] + gen_muon_vectors[:, 1] ).mass\n",
    "invariant_mass"
   ]
  },
  {
   "cell_type": "code",
   "execution_count": 66,
   "id": "6f75f306",
   "metadata": {},
   "outputs": [
    {
     "name": "stderr",
     "output_type": "stream",
     "text": [
      "/home/pku/muty/anaconda3/lib/python3.8/site-packages/awkward/_connect/_numpy.py:195: RuntimeWarning: overflow encountered in sinh\n",
      "  result = getattr(ufunc, method)(\n",
      "/home/pku/muty/anaconda3/lib/python3.8/site-packages/awkward/_connect/_numpy.py:195: RuntimeWarning: invalid value encountered in multiply\n",
      "  result = getattr(ufunc, method)(\n",
      "/home/pku/muty/anaconda3/lib/python3.8/site-packages/awkward/_connect/_numpy.py:195: RuntimeWarning: overflow encountered in cosh\n",
      "  result = getattr(ufunc, method)(\n"
     ]
    },
    {
     "data": {
      "text/plain": [
       "<Array [671, nan, nan, 400, ... nan, nan, 815] type='6499 * ?float32'>"
      ]
     },
     "execution_count": 66,
     "metadata": {},
     "output_type": "execute_result"
    }
   ],
   "source": [
    "        GEN = samples['GenPart']\n",
    "        GEN_muons = GEN[abs(GEN['pdgId']) == 13]\n",
    "        GEN_gamma = GEN[GEN['pdgId'] == 22]\n",
    "        GEN_VARIABLES = {\n",
    "            'gen_muon1_pt':GEN_muons['pt'][:,0],\n",
    "            'gen_muon2_pt':GEN_muons['pt'][:,1],\n",
    "            'gen_muon1_eta':GEN_muons['eta'][:,0],\n",
    "            'gen_muon2_eta':GEN_muons['eta'][:,1],\n",
    "            'gen_gamma_pt':GEN_gamma['pt'][:,0],\n",
    "            'gen_gamma_eta':GEN_gamma['eta'][:,0],\n",
    "            }"
   ]
  }
 ],
 "metadata": {
  "kernelspec": {
   "display_name": "base",
   "language": "python",
   "name": "python3"
  },
  "language_info": {
   "codemirror_mode": {
    "name": "ipython",
    "version": 3
   },
   "file_extension": ".py",
   "mimetype": "text/x-python",
   "name": "python",
   "nbconvert_exporter": "python",
   "pygments_lexer": "ipython3",
   "version": "3.8.13"
  },
  "vscode": {
   "interpreter": {
    "hash": "558e35b4d220da685c9de597aa7b91581edf366202e451509f0c23176d2fa2bb"
   }
  }
 },
 "nbformat": 4,
 "nbformat_minor": 5
}
