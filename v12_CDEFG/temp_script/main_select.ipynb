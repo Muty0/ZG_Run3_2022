{
 "cells": [
  {
   "attachments": {},
   "cell_type": "markdown",
   "id": "4bcae8d3-559c-438d-bffe-75f7e9ce5a58",
   "metadata": {},
   "source": [
    "# Coffea and Awkward\n",
    "\n",
    "**March 15, 2023 at Beijing**\n",
    "\n",
    "shift + command + k = delete line\n",
    "command + / = annotating code"
   ]
  },
  {
   "cell_type": "code",
   "execution_count": 1,
   "id": "ec394a10-cdf5-4cd7-81c1-d39841b267fb",
   "metadata": {},
   "outputs": [
    {
     "name": "stderr",
     "output_type": "stream",
     "text": [
      "/tmp/ipykernel_199071/3220351898.py:8: DeprecationWarning: the imp module is deprecated in favour of importlib; see the module's documentation for alternative uses\n",
      "  from imp import reload #每次修改调用函数后可以更新\n"
     ]
    }
   ],
   "source": [
    "import awkward as ak\n",
    "import uproot\n",
    "import hist\n",
    "import os\n",
    "import numpy as np\n",
    "from coffea.nanoevents import NanoEventsFactory, NanoAODSchema\n",
    "from coffea.nanoevents.methods.base import NanoEventsArray\n",
    "from imp import reload #每次修改调用函数后可以更新\n",
    "import correctionlib, rich\n",
    "import matplotlib.pyplot as plt\n",
    "import sys\n",
    "from coffea.lumi_tools import LumiMask"
   ]
  },
  {
   "attachments": {},
   "cell_type": "markdown",
   "id": "e4f03aff",
   "metadata": {},
   "source": [
    "### coffea读文件"
   ]
  },
  {
   "cell_type": "code",
   "execution_count": 2,
   "id": "3c506a49",
   "metadata": {},
   "outputs": [
    {
     "name": "stdout",
     "output_type": "stream",
     "text": [
      "dataE_muon  is done!\n",
      "dataG_muon  is done!\n"
     ]
    }
   ],
   "source": [
    "import input_file \n",
    "reload(input_file)\n",
    "# test_events = input_file.input_file('test')# \n",
    "###############  DATASETS\n",
    "##### Electron channel\n",
    "# dataC_ele_events = input_file.input_file('dataC_ele')# 15min\n",
    "# dataD_ele_events = input_file.input_file('dataD_ele')# 5min\n",
    "# dataE_ele_events = input_file.input_file('dataE_ele')# 8min\n",
    "# dataF_ele_events = input_file.input_file('dataF_ele')# 26min\n",
    "# dataG_ele_events = input_file.input_file('dataG_ele')# 4min\n",
    "\n",
    "##### Muon channel\n",
    "# dataC_muon_events = input_file.input_file('dataC_muon')# 11min\n",
    "# dataD_muon_events = input_file.input_file('dataD_muon')# 5min\n",
    "dataE_muon_events = input_file.input_file('dataE_muon')# 5min \n",
    "# dataF_muon_events = input_file.input_file('dataF_muon')# --------\n",
    "dataG_muon_events = input_file.input_file('dataG_muon')# 4min\n",
    "\n",
    "\n",
    "###############  MC\n",
    "##### 2022\n",
    "# zg0_22_events = input_file.input_file('zg0_22')# 5min\n",
    "# zg1_22_events = input_file.input_file('zg1_22')# 1min part!!!\n",
    "# zg2_22_events = input_file.input_file('zg2_22')# 1min\n",
    "# zg3_22_events = input_file.input_file('zg3_22')# 1min\n",
    "# ttbar_22_events = input_file.input_file('tt_22')# 2min\n",
    "# wz_22_events = input_file.input_file('wz_22')# 2min\n",
    "# ww_22_events = input_file.input_file('ww_22')# 1min\n",
    "# zz_22_events = input_file.input_file('zz_22')# 1min\n",
    "# dy_22_events = input_file.input_file('dy_22')# 2min\n",
    "\n",
    "##### 2022EE\n",
    "# zg0_22EE_events = input_file.input_file('zg0_22EE')# 5min\n",
    "# zg1_22EE_events = input_file.input_file('zg1_22EE')# 2min part!!!\n",
    "# zg2_22EE_events = input_file.input_file('zg2_22EE')# 1min\n",
    "# zg3_22EE_events = input_file.input_file('zg3_22EE')# 1min\n",
    "# ttbar_22EE_events = input_file.input_file('tt_22EE')# 4min\n",
    "# wz_22EE_events = input_file.input_file('wz_22EE')# 2min30\n",
    "# ww_22EE_events = input_file.input_file('ww_22EE')# 1min\n",
    "# zz_22EE_events = input_file.input_file('zz_22EE')# 1min\n",
    "# dy_22EE_events = input_file.input_file('dy_22EE')# ----------\n",
    "\n",
    "#muon channel 19min\n",
    "#ele channel "
   ]
  },
  {
   "cell_type": "code",
   "execution_count": 3,
   "id": "2af92ad8",
   "metadata": {},
   "outputs": [],
   "source": [
    "EVENT_ELE = {\n",
    "    # 'test': test_events,\n",
    "    # 'dataC_ele':dataC_ele_events,\n",
    "    # 'dataD_ele':dataD_ele_events,\n",
    "    'dataE_ele':dataE_ele_events,\n",
    "    # # 'dataF':dataF_events,\n",
    "    'dataG_ele':dataG_ele_events,\n",
    "\n",
    "    # 'zg0_22': zg0_22_events,\n",
    "    # 'zg1_22': zg1_22_events,\n",
    "    # 'zg2_22': zg2_22_events,\n",
    "    # 'zg3_22': zg3_22_events,\n",
    "    # 'tt_22': ttbar_22_events,\n",
    "    # 'zz_22': zz_22_events, \n",
    "    # 'wz_22': wz_22_events,\n",
    "    # 'ww_22': ww_22_events,  \n",
    "    # 'dy_22': dy_22_events,\n",
    "\n",
    "    'zg0_22EE': zg0_22EE_events,\n",
    "    'zg1_22EE': zg1_22EE_events,\n",
    "    'zg2_22EE': zg2_22EE_events,\n",
    "    'zg3_22EE': zg3_22EE_events,\n",
    "    'tt_22EE': ttbar_22EE_events,\n",
    "    'zz_22EE': zz_22EE_events, #No LHEpdf\n",
    "    'wz_22EE': wz_22EE_events,\n",
    "    'ww_22EE': ww_22EE_events,  \n",
    "    'dy_22EE': dy_22EE_events,\n",
    "\n",
    "}"
   ]
  },
  {
   "cell_type": "code",
   "execution_count": null,
   "metadata": {},
   "outputs": [],
   "source": []
  },
  {
   "cell_type": "code",
   "execution_count": 3,
   "metadata": {},
   "outputs": [],
   "source": [
    "EVENT_MUON = {\n",
    "    # 'test': test_events,\n",
    "    # 'dataC_muon':dataC_muon_events,\n",
    "    # 'dataD_muon':dataD_muon_events,\n",
    "    'dataE_muon':dataE_muon_events,\n",
    "    # 'dataF':dataF_events,\n",
    "    'dataG_muon':dataG_muon_events,\n",
    "\n",
    "    # 'zg0_22': zg0_22_events,\n",
    "    # 'zg1_22': zg1_22_events,\n",
    "    # 'zg2_22': zg2_22_events,\n",
    "    # 'zg3_22': zg3_22_events,\n",
    "    # 'tt_22': ttbar_22_events,\n",
    "    # 'zz_22': zz_22_events,\n",
    "    # 'wz_22': wz_22_events,\n",
    "    # 'ww_22': ww_22_events, \n",
    "    # 'dy_22': dy_22_events, #一个要求prompt，一个要求nonprompt\n",
    "\n",
    "    # 'zg0_22EE': zg0_22EE_events,\n",
    "    # 'zg1_22EE': zg1_22EE_events,\n",
    "    # 'zg2_22EE': zg2_22EE_events,\n",
    "    # 'zg3_22EE': zg3_22EE_events,\n",
    "    # 'tt_22EE': ttbar_22EE_events,\n",
    "    # 'zz_22EE': zz_22EE_events, #No LHEpdf\n",
    "    # 'wz_22EE': wz_22EE_events,\n",
    "    # 'ww_22EE': ww_22EE_events,  \n",
    "    # 'dy_22EE': dy_22EE_events,\n",
    "\n",
    "}"
   ]
  },
  {
   "attachments": {},
   "cell_type": "markdown",
   "id": "44774ed4",
   "metadata": {},
   "source": [
    "## selection"
   ]
  },
  {
   "cell_type": "code",
   "execution_count": null,
   "id": "fe171915",
   "metadata": {},
   "outputs": [
    {
     "name": "stdout",
     "output_type": "stream",
     "text": [
      "zg0_22 event_phodrs {'photon_pt': <Array [37.3, 41.1, 30.6, ... 33.6, 36.8, 32.9] type='293 * ?float32[parameters=...'>, 'LHEPdfWeight': <Array [[1, 1, 0.996, ... 1, 0.958, 1.04]] type='293 * option[[var * float32[par...'>, 'LHEScaleWeight': <Array [[1.08, 1.19, 1.28, ... 0.885, 0.955]] type='293 * option[[var * float32[...'>, 'PSWeight': <Array [[1.01, 0.98, 0.969, ... 1.28, 2.21]] type='293 * option[[var * float32[p...'>}\n",
      "zg1_22 event_phodrs {'photon_pt': <Array [81.9, 55.3, 49.8, ... 69.8, 81.6, 74.5] type='15627 * ?float32[parameter...'>, 'LHEPdfWeight': <Array [[1, 0.996, 1, 1, ... 1, 0.971, 1.03]] type='15627 * option[[var * float3...'>, 'LHEScaleWeight': <Array [[0.92, 0.975, 1.06, ... 0.854, 0.993]] type='15627 * option[[var * float...'>, 'PSWeight': <Array [[0.716, 0.944, 1.48, ... 1.22, 0.614]] type='15627 * option[[var * float...'>}\n",
      "zg2_22 event_phodrs {'photon_pt': <Array [261, 127, 105, 149, ... 97.5, 106, 125] type='549 * ?float32[parameters=...'>, 'LHEPdfWeight': <Array [[1, 1, 0.997, ... 1, 0.973, 1.03]] type='549 * option[[var * float32[par...'>, 'LHEScaleWeight': <Array [[1.14, 1.1, 1.07, ... 0.868, 0.881]] type='549 * option[[var * float32[p...'>, 'PSWeight': <Array [[0.789, 1.15, 1.33, ... 1.13, 1.09]] type='549 * option[[var * float32[p...'>}\n",
      "zg3_22 event_phodrs {'photon_pt': <Array [195, 424, 366, 308, ... 215, 250, 226] type='248 * ?float32[parameters={...'>, 'LHEPdfWeight': <Array [[1, 0.999, 0.998, ... 1, 0.967, 1.03]] type='248 * option[[var * float32...'>, 'LHEScaleWeight': <Array [[1.16, 1.17, 1.2, ... 0.834, 0.773]] type='248 * option[[var * float32[p...'>, 'PSWeight': <Array [[0.906, 0.309, 1.12, ... 0.888, 0.498]] type='248 * option[[var * float3...'>}\n",
      "tt_22 event_phodrs {'photon_pt': <Array [56.9, 50.8, 31.9, ... 45.2, 49.9, 47.9] type='8 * ?float32[parameters={\"...'>, 'LHEPdfWeight': <Array [[1, 1, 0.998, 1, ... 1, 0.967, 1.04]] type='8 * option[[var * float32[pa...'>, 'LHEScaleWeight': <Array [[1.28, 1.04, 0.812, ... 0.776, 0.694]] type='8 * option[[var * float32[p...'>, 'PSWeight': <Array [[1.1, 0.91, 0.877, ... 1.09, 0.722]] type='8 * option[[var * float32[par...'>}\n"
     ]
    }
   ],
   "source": [
    "import selection_cut\n",
    "reload(selection_cut)\n",
    "event_ele_phodrs = {key: {} for key in EVENT_ELE}\n",
    "\n",
    "for key in EVENT_ELE.keys():\n",
    "    event_ele_variables = []\n",
    "    for i in EVENT_ELE[key]:\n",
    "        if 'data' not in key:\n",
    "            event_weight = {'event_weight':np.sign(i.Generator.weight)}\n",
    "        elif 'dataC' in key:\n",
    "            i = selection_cut.run_num(i,'C')\n",
    "            event_weight =  {'event_weight':'NONE'}\n",
    "        elif 'dataD' in key:\n",
    "            i = selection_cut.run_num(i,'D')\n",
    "            event_weight =  {'event_weight':'NONE'}\n",
    "        elif 'dataE' in key:\n",
    "            i = selection_cut.run_num(i,'E')\n",
    "            event_weight =  {'event_weight':'NONE'}\n",
    "        # elif key == 'dataF':\n",
    "        #     murun = selection_cut.muon(i,'run_num','F')\n",
    "        #     event_weight =  {'event_weight':'NONE'}\n",
    "        #     mu0 = selection_cut.muon(murun,'num',True)\n",
    "        elif key == 'dataG':\n",
    "            i = selection_cut.run_num(i,'G')\n",
    "            event_weight =  {'event_weight':'NONE'}\n",
    "        leptons,photons,event = selection_cut.electron_nTuple(i,key,\"A\")\n",
    "        # mass_ee = selection_cut.MASS_Ele(leptons,photons,'ee')\n",
    "        # mass_gee = selection_cut.MASS_Ele(leptons,photons,'gee')\n",
    "        # event_ele_variables.append(selection_cut.VARIABLES('ele',key,leptons,photons,event,mass_ee,mass_gee,event_weight))    \n",
    "        event_ele_variables.append(selection_cut.VARIABLES('ele',key,leptons,photons,event,False,False,event_weight))    \n",
    "\n",
    "\n",
    "    event_ele_phodrs[key] = event_ele_variables\n",
    "    print(key,'event_phodrs',event_ele_phodrs[key][0])\n",
    "\n",
    "\n",
    "\n",
    "\n",
    "#dataC_ele 54min\n",
    "#dataD_ele 4min\n",
    "#zg0_22 #19min\n",
    "#zg1_22 2min\n",
    "#zg2_22 1min\n",
    "#zg3_22 1min\n",
    "#tt_22 25min\n",
    "#ww,wz,zz 5min\n",
    "#total 113min"
   ]
  },
  {
   "cell_type": "code",
   "execution_count": 5,
   "id": "7d33303f",
   "metadata": {},
   "outputs": [
    {
     "name": "stdout",
     "output_type": "stream",
     "text": [
      "zg0_22\n"
     ]
    },
    {
     "name": "stdout",
     "output_type": "stream",
     "text": [
      "zg1_22\n",
      "zg2_22\n",
      "zg3_22\n",
      "tt_22\n"
     ]
    }
   ],
   "source": [
    "# ele!!!!\n",
    "# sample_names = [\"dataC_ele\",\"dataD_ele\",\"zg0_22\",\"zg1_22\", \"zg2_22\", \"zg3_22\",\"tt_22\",\"zz_22\", \"ww_22\", \"wz_22\",\"dy_22\"]#\n",
    "# sample_names = [\"zg0_22\",\"zg1_22\", \"zg2_22\", \"zg3_22\"]#,\n",
    "sample_names = [\"zg0_22\",\"zg1_22\", \"zg2_22\", \"zg3_22\",\"tt_22\"]#\"tt\",\n",
    "# sample_names = [\"dataC_ele\",\"dataD_ele\"]#,\"dy\"\"zg2\", \"zg3\"\n",
    "\n",
    "# 初始化一个字典，用于存储合并后的数据\n",
    "event_ele_final = {}\n",
    "\n",
    "# 遍历每个样本名称\n",
    "for sample_name in sample_names:\n",
    "    print(sample_name)\n",
    "    # 初始化一个字典，用于存储当前样本的合并数据\n",
    "    event_ele_final[sample_name] = {}\n",
    "\n",
    "    # 获取第一个条目中的信息键\n",
    "    info_keys = list(event_ele_phodrs[sample_name][0].keys())\n",
    "\n",
    "    # 遍历每个信息键\n",
    "    for info_key in info_keys:\n",
    "        # 从 event_muon_phodrs 中提取当前样本和信息键的数据\n",
    "        data_to_concatenate = [entry[info_key] for entry in event_ele_phodrs[sample_name]]\n",
    "\n",
    "        # 使用 ak.concatenate 将数据连接在一起\n",
    "        event_ele_final[sample_name][info_key] = ak.concatenate(data_to_concatenate)\n",
    "\n",
    "\n",
    "#all 95min"
   ]
  },
  {
   "cell_type": "code",
   "execution_count": 13,
   "id": "84ff5697",
   "metadata": {},
   "outputs": [
    {
     "ename": "NameError",
     "evalue": "name 'event_ele_final' is not defined",
     "output_type": "error",
     "traceback": [
      "\u001b[0;31m---------------------------------------------------------------------------\u001b[0m",
      "\u001b[0;31mNameError\u001b[0m                                 Traceback (most recent call last)",
      "\u001b[0;32m/tmp/ipykernel_60956/3882037327.py\u001b[0m in \u001b[0;36m<cell line: 1>\u001b[0;34m()\u001b[0m\n\u001b[0;32m----> 1\u001b[0;31m \u001b[0mevent_ele_final\u001b[0m\u001b[0;34m\u001b[0m\u001b[0;34m\u001b[0m\u001b[0m\n\u001b[0m",
      "\u001b[0;31mNameError\u001b[0m: name 'event_ele_final' is not defined"
     ]
    }
   ],
   "source": [
    "event_ele_final"
   ]
  },
  {
   "cell_type": "code",
   "execution_count": 9,
   "id": "c58c7372",
   "metadata": {},
   "outputs": [],
   "source": [
    "def save_event_dict(event_dict, file_prefix):\n",
    "    # data_subkeys = ['photon_pt', 'photon_eta', 'ele1_pt', 'ele2_pt', 'ele1_eta', 'ele2_eta', 'ele_mass','gee_mass','photon_endcap','photon_barrel']#,'npvsGood','Rho_Calo','Rho_tracker']#,,,'dr_lg','charge1','charge2'\n",
    "    data_subkeys = ['photon_pt']#['photon_r9','photon_seedGain','run']#'npvsGood','Rho_Calo','Rho_tracker'#'photon_endcap','photon_barrel'\n",
    "    other_subkeys = data_subkeys + ['LHEPdfWeight','LHEScaleWeight','PSWeight']#['generator_weight', 'event_weight']#'LHEPdfWeight','LHEScaleWeight','PSWeight','GenDressedLepton','GenIsolatedPhoton','gen_gmumu','gen_mumu' 'gen_ele1_pt','gen_ele2_pt','gen_ele1_eta','gen_ele2_eta','gen_gmumu','gen_mumu',,'gen_gmumu'\n",
    "    other_subkeys = data_subkeys \n",
    "\n",
    "    for key, value in event_dict.items():\n",
    "        subkeys = other_subkeys if 'data' not in key else data_subkeys\n",
    "        for subkey in subkeys:\n",
    "            ak.to_parquet(value[subkey], f'{file_prefix}_{key}_{subkey}.parquet')\n",
    "\n"
   ]
  },
  {
   "cell_type": "code",
   "execution_count": 10,
   "id": "83a21a85",
   "metadata": {},
   "outputs": [],
   "source": [
    "# 存储数据\n",
    "save_event_dict(event_ele_final, 'selection_ele_file/v2/A/event_ele_final')\n",
    "# save_event_dict(event_ele_final, 'selection_ele_file/v2/B/event_ele_final')\n",
    "# save_event_dict(event_ele_final, 'selection_ele_file/v2/C/event_ele_final')\n",
    "# save_event_dict(event_ele_final, 'selection_ele_file/v2/D/event_ele_final')\n",
    "\n",
    "# save_event_dict(event_ele_final, 'ABCD/ABCD_file/ele_channel/A/event_ele_final')"
   ]
  },
  {
   "cell_type": "code",
   "execution_count": null,
   "metadata": {},
   "outputs": [],
   "source": []
  },
  {
   "cell_type": "code",
   "execution_count": null,
   "metadata": {},
   "outputs": [],
   "source": []
  },
  {
   "cell_type": "code",
   "execution_count": 4,
   "metadata": {},
   "outputs": [
    {
     "name": "stdout",
     "output_type": "stream",
     "text": [
      "dataE_muon event_phodrs {'photon_pt': <Array [56.6, 57.4, 64.2, 33.4] type='4 * ?float32[parameters={\"__doc__\": \"pt\"}]'>, 'photon_eta': <Array [-1.02, 0.445, 0.56, -1.18] type='4 * ?float32[parameters={\"__doc__\": \"et...'>, 'muon1_pt': <Array [58.5, 112, 67.6, 35.7] type='4 * ?float32[parameters={\"__doc__\": \"pt\"}]'>, 'muon2_pt': <Array [34.7, 33.3, 53.1, 31.8] type='4 * ?float32[parameters={\"__doc__\": \"pt\"}]'>, 'muon1_eta': <Array [-0.388, 0.124, -0.785, 0.891] type='4 * ?float32[parameters={\"__doc__\": ...'>, 'muon2_eta': <Array [0.353, -0.575, -1.54, -0.787] type='4 * ?float32[parameters={\"__doc__\": ...'>}\n",
      "dataG_muon event_phodrs {'photon_pt': <Array [44.3, 52.3, 34.4, ... 51, 53.5, 81.4] type='9 * ?float32[parameters={\"__...'>, 'photon_eta': <Array [1.03, -0.719, -1.6, ... 0.758, 1.62] type='9 * ?float32[parameters={\"__d...'>, 'muon1_pt': <Array [45.4, 73.5, 65, ... 67.1, 50, 40.1] type='9 * ?float32[parameters={\"__do...'>, 'muon2_pt': <Array [42.9, 20, 26.1, ... 52.2, 49.3, 28.9] type='9 * ?float32[parameters={\"__...'>, 'muon1_eta': <Array [-0.731, -0.94, -1, ... -1.76, 0.657] type='9 * ?float32[parameters={\"__d...'>, 'muon2_eta': <Array [0.114, 0.519, -0.0588, ... -2.14, 2.34] type='9 * ?float32[parameters={\"...'>}\n"
     ]
    }
   ],
   "source": [
    "import selection_cut\n",
    "reload(selection_cut)\n",
    "event_muon_phodrs = {key: {} for key in EVENT_MUON}\n",
    "\n",
    "for key in EVENT_MUON.keys():\n",
    "    event_muon_variables = []\n",
    "    for i in EVENT_MUON[key]:\n",
    "        if 'data' not in key:\n",
    "            event_weight = {'event_weight':np.sign(i.Generator.weight)}\n",
    "        elif 'dataC' in key:\n",
    "            i = selection_cut.run_num(i,'C')\n",
    "            event_weight =  {'event_weight':'NONE'}\n",
    "        elif 'dataD' in key:\n",
    "            i = selection_cut.run_num(i,'D')\n",
    "            event_weight =  {'event_weight':'NONE'}\n",
    "        elif 'dataE' in key:\n",
    "            i = selection_cut.run_num(i,'E')\n",
    "            event_weight =  {'event_weight':'NONE'}\n",
    "        elif 'dataF' in key:\n",
    "            i = selection_cut.run_num(i,'F')\n",
    "            event_weight =  {'event_weight':'NONE'}\n",
    "        elif key == 'dataG':\n",
    "            i = selection_cut.run_num(i,'G')\n",
    "            event_weight =  {'event_weight':'NONE'}\n",
    "        # leptons,photons,event = selection_cut.muon_nTuple(i,key,\"A\")\n",
    "        # mass_mu = selection_cut.MASS_Muon(leptons,photons,'mu')\n",
    "        # mass_gmumu = selection_cut.MASS_Muon(leptons,photons,'gmumu')\n",
    "        # event_muon_variables.append(selection_cut.VARIABLES('muon',key,leptons,photons,event,mass_mu,mass_gmumu,event_weight))   \n",
    "#ABCD\n",
    "        leptons,photons,event = selection_cut.muon_nTuple(i,key,\"A\")\n",
    "        event_muon_variables.append(selection_cut.VARIABLES('muon',key,leptons,photons,event,False,False,event_weight))   \n",
    "\n",
    "\n",
    "    event_muon_phodrs[key] = event_muon_variables\n",
    "    print(key,'event_phodrs',event_muon_phodrs[key][0])\n",
    "\n",
    "\n",
    "\n",
    "#dataC 28min\n",
    "#dataD 12min \n",
    "#zg0_22 #20min\n",
    "#zg1_22 2min\n",
    "#zg2_22 1min\n",
    "#zg3_22 1min\n",
    "#tt_22 25min\n",
    "#ww,wz,zz 5min\n",
    "#total_CD 94min\n",
    "#total_EG "
   ]
  },
  {
   "cell_type": "code",
   "execution_count": 5,
   "id": "d420844d",
   "metadata": {},
   "outputs": [
    {
     "name": "stdout",
     "output_type": "stream",
     "text": [
      "dataE_muon\n",
      "dataG_muon\n"
     ]
    }
   ],
   "source": [
    "# muon!!!!\n",
    "# sample_names = [\"dataC_muon\",\"dataD_muon\",\"zg0_22\",\"zg1_22\", \"zg2_22\", \"zg3_22\",\"tt_22\",\"zz_22\", \"ww_22\", \"wz_22\",\"dy_22\"]\n",
    "# sample_names = [\"dataE_muon\",\"dataG_muon\",\"zg0_22EE\",\"zg1_22EE\", \"zg2_22EE\", \"zg3_22EE\",\"tt_22EE\",\"zz_22EE\", \"ww_22EE\", \"wz_22EE\",\"dy_22EE\"]\n",
    "# sample_names = [\"zg0_22\",\"zg1_22\", \"zg2_22\", \"zg3_22\",\"tt_22\"]#,,\"zz_22\", \"ww_22\", \"wz_22\",\"dy_22\"\n",
    "sample_names = [\"dataE_muon\",\"dataG_muon\"]#\"tt\",\n",
    "# sample_names = [\"dataC_muon\",\"dataD_muon\"]\n",
    "\n",
    "# 初始化一个字典，用于存储合并后的数据\n",
    "event_muon_final = {}\n",
    "\n",
    "# 遍历每个样本名称\n",
    "for sample_name in sample_names:\n",
    "    print(sample_name)\n",
    "    # 初始化一个字典，用于存储当前样本的合并数据\n",
    "    event_muon_final[sample_name] = {}\n",
    "\n",
    "    # 获取第一个条目中的信息键\n",
    "    info_keys = list(event_muon_phodrs[sample_name][0].keys())\n",
    "\n",
    "    # 遍历每个信息键\n",
    "    for info_key in info_keys:\n",
    "        # 从 event_muon_phodrs 中提取当前样本和信息键的数据\n",
    "        data_to_concatenate = [entry[info_key] for entry in event_muon_phodrs[sample_name]]\n",
    "\n",
    "        # 使用 ak.concatenate 将数据连接在一起\n",
    "        event_muon_final[sample_name][info_key] = ak.concatenate(data_to_concatenate)\n",
    "\n",
    "#dataE 1s\n",
    "#zg1,zg2,zg3 15min\n",
    "#tt 70min\n",
    "#zz,ww,wz 20min"
   ]
  },
  {
   "cell_type": "code",
   "execution_count": 6,
   "id": "72026cde",
   "metadata": {},
   "outputs": [
    {
     "data": {
      "text/plain": [
       "{'dataE_muon': {'photon_pt': <Array [56.6, 57.4, 64.2, ... 30.3, 31.2, 34.7] type='1665 * ?float32[parameters...'>,\n",
       "  'photon_eta': <Array [-1.02, 0.445, 0.56, ... 0.549, -0.212] type='1665 * ?float32[parameters=...'>,\n",
       "  'muon1_pt': <Array [58.5, 112, 67.6, ... 36.6, 44, 43.4] type='1665 * ?float32[parameters={\"...'>,\n",
       "  'muon2_pt': <Array [34.7, 33.3, 53.1, ... 29.9, 38.8, 32] type='1665 * ?float32[parameters={...'>,\n",
       "  'muon1_eta': <Array [-0.388, 0.124, ... -0.764, -0.69] type='1665 * ?float32[parameters={\"__d...'>,\n",
       "  'muon2_eta': <Array [0.353, -0.575, -1.54, ... 0.129, -2.07] type='1665 * ?float32[parameters...'>},\n",
       " 'dataG_muon': {'photon_pt': <Array [44.3, 52.3, 34.4, ... 88.9, 35.2, 49] type='697 * ?float32[parameters={\"...'>,\n",
       "  'photon_eta': <Array [1.03, -0.719, -1.6, ... 1.8, -0.364] type='697 * ?float32[parameters={\"_...'>,\n",
       "  'muon1_pt': <Array [45.4, 73.5, 65, ... 82.5, 33.9, 65.5] type='697 * ?float32[parameters={\"...'>,\n",
       "  'muon2_pt': <Array [42.9, 20, 26.1, ... 34.4, 24.2, 24.1] type='697 * ?float32[parameters={\"...'>,\n",
       "  'muon1_eta': <Array [-0.731, -0.94, -1, ... 2.2, -1.2] type='697 * ?float32[parameters={\"__do...'>,\n",
       "  'muon2_eta': <Array [0.114, 0.519, ... 0.377, -0.138] type='697 * ?float32[parameters={\"__doc...'>}}"
      ]
     },
     "execution_count": 6,
     "metadata": {},
     "output_type": "execute_result"
    }
   ],
   "source": [
    "event_muon_final"
   ]
  },
  {
   "cell_type": "code",
   "execution_count": 7,
   "metadata": {},
   "outputs": [],
   "source": [
    "def save_event_dict(event_dict, file_prefix):\n",
    "    # data_subkeys = ['photon_pt', 'photon_eta', 'muon1_pt', 'muon2_pt', 'muon1_eta', 'muon2_eta', 'mu_mass','gmumu_mass']#'photon_endcap','photon_barrel','npvsGood','Rho_Calo','Rho_tracker',,'dr_lg','charge1','charge2'\n",
    "    data_subkeys =  ['photon_pt', 'photon_eta', 'muon1_pt', 'muon2_pt', 'muon1_eta', 'muon2_eta', ]#'mu_mass','gmumu_mass']#['photon_r9','photon_seedGain','run']#['npvsGood','Rho_Calo','Rho_tracker']\n",
    "    # other_subkeys = data_subkeys + ['generator_weight', 'event_weight']#['nPU']#['LHEPdfWeight','LHEScaleWeight','PSWeight']#'LHEPdfWeight','LHEScaleWeight','PSWeight','GenDressedLepton','GenIsolatedPhoton','gen_gmumu','gen_mumu' 'gen_muon1_pt','gen_muon2_pt','gen_muon1_eta','gen_muon2_eta','gen_gmumu','gen_mumu','LHEPdfWeight','LHEScaleWeight',,'gen_gmumu'\n",
    "    other_subkeys = data_subkeys\n",
    "\n",
    "    for key, value in event_dict.items():\n",
    "        subkeys = other_subkeys if 'data' not in key else data_subkeys\n",
    "        for subkey in subkeys:\n",
    "            ak.to_parquet(value[subkey], f'{file_prefix}_{key}_{subkey}.parquet')\n",
    "\n"
   ]
  },
  {
   "cell_type": "code",
   "execution_count": 8,
   "metadata": {},
   "outputs": [],
   "source": [
    "# 存储数据\n",
    "# save_event_dict(event_muon_final, '../selection_muon_file/v2/A/event_muon_final')\n",
    "# save_event_dict(event_muon_final, 'selection_muon_file/v2/B/event_muon_final')\n",
    "# save_event_dict(event_muon_final, 'selection_muon_file/v2/C/event_muon_final')\n",
    "# save_event_dict(event_muon_final, 'selection_muon_file/v2/D/event_muon_final')\n",
    "\n",
    "\n",
    "save_event_dict(event_muon_final, '../selection_EFG_muon_file/A/event_muon_final')"
   ]
  },
  {
   "cell_type": "code",
   "execution_count": null,
   "metadata": {},
   "outputs": [],
   "source": []
  },
  {
   "cell_type": "code",
   "execution_count": null,
   "metadata": {},
   "outputs": [],
   "source": []
  },
  {
   "cell_type": "code",
   "execution_count": null,
   "metadata": {},
   "outputs": [],
   "source": []
  },
  {
   "cell_type": "markdown",
   "id": "91264197",
   "metadata": {},
   "source": [
    "# Test"
   ]
  },
  {
   "cell_type": "code",
   "execution_count": 20,
   "metadata": {},
   "outputs": [
    {
     "name": "stdout",
     "output_type": "stream",
     "text": [
      "[[False], [], [], [True, False], ... False], [], [False], [True, True, False]]\n"
     ]
    }
   ],
   "source": [
    "print(EVENT_ELE['zg0_22'][0].Photon.pixelSeed)"
   ]
  },
  {
   "cell_type": "code",
   "execution_count": 22,
   "metadata": {},
   "outputs": [
    {
     "name": "stdout",
     "output_type": "stream",
     "text": [
      "[[12.8], [], [], [29.4, 21.3], [15.4], ... [12.4], [], [13.8], [37.7, 27.1, 10.7]]\n"
     ]
    }
   ],
   "source": [
    "print(EVENT_ELE['zg0_22'][0].Photon.pt)"
   ]
  },
  {
   "cell_type": "code",
   "execution_count": 224,
   "id": "c2540bc0",
   "metadata": {},
   "outputs": [
    {
     "name": "stdout",
     "output_type": "stream",
     "text": [
      "End 15627\n"
     ]
    }
   ],
   "source": [
    "###ELECTRON\n",
    "\n",
    "import selection_cut\n",
    "reload(selection_cut)\n",
    "# sample = EVENT_ELE['dataD_ele'][10]\n",
    "# Tag = 'dataD'\n",
    "# sample = EVENT_ELE['wz_22'][0]\n",
    "# Tag = 'wz'\n",
    "sample = EVENT_ELE['zg1_22'][0]\n",
    "Tag = 'zg1_22'\n",
    "ABCD = \"A\"\n",
    "# print('Start (Electron channel, sample:',Tag, ', region:',ABCD,') ',len(sample))\n",
    "# ele0 = selection_cut.electron_nTuple(sample,Tag,ABCD)[0]\n",
    "# print('HLT:',len(ele0),'Efficiency:',f\"{len(ele0)/len(sample) * 100}%\")\n",
    "# ele1 = selection_cut.electron_nTuple(sample,Tag,ABCD)[1]\n",
    "# ele1_ele = selection_cut.electron_nTuple(sample,Tag,ABCD)[2]\n",
    "# print('pt, eta, medium id, charge, two ele:',len(ele1),'Efficiency:',f\"{len(ele1)/len(ele0) * 100}%\")\n",
    "# ele2 = selection_cut.electron_nTuple(sample,Tag,ABCD)[3]\n",
    "# ele2_ele = selection_cut.electron_nTuple(sample,Tag,ABCD)[4]\n",
    "# print('Z mass window:',len(ele2),'Efficiency:',f\"{len(ele2)/len(ele1) * 100}%\")\n",
    "# pho1 = selection_cut.electron_nTuple(sample,Tag,ABCD)[5]\n",
    "# pho1_ele = selection_cut.electron_nTuple(sample,Tag,ABCD)[6]\n",
    "# pho1_pho = selection_cut.electron_nTuple(sample,Tag,ABCD)[7]\n",
    "# print('Photon pt,eta,id, at least one photon:',len(pho1),'Efficiency:',f\"{len(pho1)/len(ele2) * 100}%\")\n",
    "# pho2 = selection_cut.electron_nTuple(sample,Tag,ABCD)[8]\n",
    "# pho2_ele = selection_cut.electron_nTuple(sample,Tag,ABCD)[9]\n",
    "# pho2_pho = selection_cut.electron_nTuple(sample,Tag,ABCD)[10]\n",
    "# print('Photon lepton dR, at least one photon:',len(pho2),'Efficiency:',f\"{len(pho2)/len(pho1) * 100}%\")\n",
    "# pho3 = selection_cut.electron_nTuple(sample,Tag,ABCD)[11]\n",
    "# pho3_ele = selection_cut.electron_nTuple(sample,Tag,ABCD)[12]\n",
    "# pho3_pho = selection_cut.electron_nTuple(sample,Tag,ABCD)[13]\n",
    "# print('Photon prompt (pixelSeed), at least one photon:',len(pho3),'Efficiency:',f\"{len(pho3)/len(pho2) * 100}%\")\n",
    "# pho4 = selection_cut.electron_nTuple(sample,Tag,ABCD)[14]\n",
    "# pho4_ele = selection_cut.electron_nTuple(sample,Tag,ABCD)[15]\n",
    "# pho4_pho = selection_cut.electron_nTuple(sample,Tag,ABCD)[16]\n",
    "# print('Photon prompt (Flav), at least one photon:',len(pho4),'Efficiency:',f\"{len(pho4)/len(pho3) * 100}%\")\n",
    "# pho5 = selection_cut.electron_nTuple(sample,Tag,ABCD)[17]\n",
    "# pho5_ele = selection_cut.electron_nTuple(sample,Tag,ABCD)[18]\n",
    "# pho5_pho = selection_cut.electron_nTuple(sample,Tag,ABCD)[19]\n",
    "# print('Photon prompt (dR), only one photon:',len(pho5),'Efficiency:',f\"{len(pho5)/len(pho4) * 100}%\")\n",
    "\n",
    "pho5_ele = selection_cut.electron_nTuple(sample,Tag,ABCD)[0]\n",
    "pho5_pho = selection_cut.electron_nTuple(sample,Tag,ABCD)[1]\n",
    "print('End',len(pho5_ele))\n"
   ]
  },
  {
   "cell_type": "code",
   "execution_count": 227,
   "id": "2b47d81e",
   "metadata": {},
   "outputs": [
    {
     "name": "stdout",
     "output_type": "stream",
     "text": [
      "End 22032\n"
     ]
    }
   ],
   "source": [
    "### MUON\n",
    "import selection_cut\n",
    "reload(selection_cut)\n",
    "# sample = EVENT_MUON['dataD_muon'][10]\n",
    "# Tag = 'dataD'\n",
    "# sample = EVENT_MUON['wz_22'][0]\n",
    "# Tag = 'wz'\n",
    "sample = EVENT_MUON['zg1_22'][0]\n",
    "Tag = 'zg1_22'\n",
    "ABCD = 'A'\n",
    "# print('Start (Muon channel, sample:',Tag, ', region:',ABCD,') ',len(sample))\n",
    "# mu0 = selection_cut.muon_nTuple(sample,Tag,ABCD)[0]\n",
    "# print('HLT:',len(mu0),'Efficiency:',f\"{len(mu0)/len(sample) * 100}%\")\n",
    "# mu1 = selection_cut.muon_nTuple(sample,Tag,ABCD)[1]\n",
    "# mu1_mu = selection_cut.muon_nTuple(sample,Tag,ABCD)[2]\n",
    "# print('pt, eta, tight id&iso, charge, two mu:',len(mu1),'Efficiency:',f\"{len(mu1)/len(mu0) * 100}%\")\n",
    "# mu2 = selection_cut.muon_nTuple(sample,Tag,ABCD)[3]\n",
    "# mu2_mu = selection_cut.muon_nTuple(sample,Tag,ABCD)[4]\n",
    "# print('Z mass window:',len(mu2),'Efficiency:',f\"{len(mu2)/len(mu1) * 100}%\")\n",
    "# pho1 = selection_cut.muon_nTuple(sample,Tag,ABCD)[5]\n",
    "# pho1_mu = selection_cut.muon_nTuple(sample,Tag,ABCD)[6]\n",
    "# pho1_pho = selection_cut.muon_nTuple(sample,Tag,ABCD)[7]\n",
    "# print('Photon pt,eta,i, at least one photon:',len(pho1),'Efficiency:',f\"{len(pho1)/len(mu2) * 100}%\")\n",
    "# pho2 = selection_cut.muon_nTuple(sample,Tag,ABCD)[8]\n",
    "# pho2_mu = selection_cut.muon_nTuple(sample,Tag,ABCD)[9]\n",
    "# pho2_pho = selection_cut.muon_nTuple(sample,Tag,ABCD)[10]\n",
    "# print('Photon lepton dR, at least one photon:',len(pho2),'Efficiency:',f\"{len(pho2)/len(pho1) * 100}%\")\n",
    "# pho3 = selection_cut.muon_nTuple(sample,Tag,ABCD)[11]\n",
    "# pho3_mu = selection_cut.muon_nTuple(sample,Tag,ABCD)[12]\n",
    "# pho3_pho = selection_cut.muon_nTuple(sample,Tag,ABCD)[13]\n",
    "# print('Photon prompt (pixelSeed), at least one photon:',len(pho3),'Efficiency:',f\"{len(pho3)/len(pho2) * 100}%\")\n",
    "# pho4 = selection_cut.muon_nTuple(sample,Tag,ABCD)[14]\n",
    "# pho4_mu = selection_cut.muon_nTuple(sample,Tag,ABCD)[15]\n",
    "# pho4_pho = selection_cut.muon_nTuple(sample,Tag,ABCD)[16]\n",
    "# print('Photon prompt (Flav), at least one photon:',len(pho4),'Efficiency:',f\"{len(pho4)/len(pho3) * 100}%\")\n",
    "# pho5 = selection_cut.muon_nTuple(sample,Tag,ABCD)[17]\n",
    "# pho5_mu = selection_cut.muon_nTuple(sample,Tag,ABCD)[18]\n",
    "# pho5_pho = selection_cut.muon_nTuple(sample,Tag,ABCD)[19]\n",
    "# print('Photon prompt (dR), at least one photon:',len(pho5),'Efficiency:',f\"{len(pho5)/len(pho4) * 100}%\")\n",
    "\n",
    "pho5_mu = selection_cut.muon_nTuple(sample,Tag,ABCD)[0]\n",
    "pho5_pho = selection_cut.muon_nTuple(sample,Tag,ABCD)[1]\n",
    "print('End',len(pho5_mu))\n"
   ]
  },
  {
   "cell_type": "code",
   "execution_count": 205,
   "metadata": {},
   "outputs": [
    {
     "data": {
      "text/plain": [
       "<Array [1, 1, 1, 1, 1, 1, ... 1, 1, 1, 1, 1, 1] type='116 * ?int64'>"
      ]
     },
     "execution_count": 205,
     "metadata": {},
     "output_type": "execute_result"
    }
   ],
   "source": [
    "ak.num(pho5_pho)"
   ]
  },
  {
   "cell_type": "code",
   "execution_count": null,
   "metadata": {},
   "outputs": [],
   "source": [
    "\n",
    "    "
   ]
  },
  {
   "cell_type": "code",
   "execution_count": 232,
   "metadata": {},
   "outputs": [
    {
     "data": {
      "text/plain": [
       "<Array [[0.123, 0.872], ... [0.314, -0.471]] type='1836 * option[var * float32[p...'>"
      ]
     },
     "execution_count": 232,
     "metadata": {},
     "output_type": "execute_result"
    }
   ],
   "source": [
    "pho4.Muon.eta"
   ]
  },
  {
   "cell_type": "code",
   "execution_count": 233,
   "id": "51fc314e",
   "metadata": {},
   "outputs": [
    {
     "data": {
      "text/plain": [
       "<Array [[0.123, 0.872], ... [0.314, -0.471]] type='1836 * option[var * float32[p...'>"
      ]
     },
     "execution_count": 233,
     "metadata": {},
     "output_type": "execute_result"
    }
   ],
   "source": [
    "pho4_mu.eta"
   ]
  },
  {
   "cell_type": "code",
   "execution_count": 234,
   "metadata": {},
   "outputs": [
    {
     "data": {
      "text/plain": [
       "<Array [[0.857, -2.68], ... 0.46], [0.399]] type='1836 * option[var * float32[pa...'>"
      ]
     },
     "execution_count": 234,
     "metadata": {},
     "output_type": "execute_result"
    }
   ],
   "source": [
    "pho4.Photon.eta"
   ]
  },
  {
   "cell_type": "code",
   "execution_count": 235,
   "metadata": {},
   "outputs": [
    {
     "data": {
      "text/plain": [
       "<Array [[0.857], [-2.03], ... [0.46], [0.399]] type='1836 * option[var * float32...'>"
      ]
     },
     "execution_count": 235,
     "metadata": {},
     "output_type": "execute_result"
    }
   ],
   "source": [
    "pho4_pho.eta"
   ]
  },
  {
   "cell_type": "code",
   "execution_count": null,
   "id": "360dd5cb",
   "metadata": {},
   "outputs": [],
   "source": []
  },
  {
   "cell_type": "code",
   "execution_count": 17,
   "id": "357670a9",
   "metadata": {},
   "outputs": [
    {
     "name": "stdout",
     "output_type": "stream",
     "text": [
      "zg0 event_phodrs {'photon_pt': <Array [[42], [36], ... [32.6], [33.8]] type='188 * option[var * float32[paramet...'>, 'photon_endcap': <Array [[False], [False], ... [True], [False]] type='188 * option[var * bool[par...'>, 'photon_barrel': <Array [[True], [True], ... [False], [True]] type='188 * option[var * bool[param...'>, 'Photon_genPartFlav': <Array [[1], [1], [1], ... [1], [1], [1]] type='188 * option[var * uint8[paramet...'>, 'Gen_statusflag': <Array [[10625, 22913, 4481, ... 12352, 12352]] type='188 * option[var * int32[p...'>, 'generator_weight': <Array [1, 1, 1, -1, 1, 1, ... -1, 1, 1, 1, 1] type='188 * ?float32'>, 'event_weight': <Array [1, 1, 1, -1, 1, 1, ... 1, -1, 1, 1, 1] type='202914 * float32'>}\n",
      "zg1 event_phodrs {'photon_pt': <Array [[95.3], [53.3], ... [86.5], [56.1]] type='521 * option[var * float32[par...'>, 'photon_endcap': <Array [[True], [False], ... [True], [True]] type='521 * option[var * bool[param...'>, 'photon_barrel': <Array [[False], [True], ... [False], [False]] type='521 * option[var * bool[par...'>, 'Photon_genPartFlav': <Array [[1], [1], [1], ... [1], [1], [1]] type='521 * option[var * uint8[paramet...'>, 'Gen_statusflag': <Array [[10625, 27009, 4481, ... 12352, 12352]] type='521 * option[var * int32[p...'>, 'generator_weight': <Array [1, 1, 1, 1, 1, 1, ... 1, 1, 1, 1, 1, 1] type='521 * ?float32'>, 'event_weight': <Array [1, -1, 1, 1, -1, ... 1, 1, 1, 1, -1] type='17928 * float32'>}\n",
      "zg2 event_phodrs {'photon_pt': <Array [[142], [108], ... [111], [179]] type='804 * option[var * float32[paramet...'>, 'photon_endcap': <Array [[False], [False], ... [True], [False]] type='804 * option[var * bool[par...'>, 'photon_barrel': <Array [[True], [True], ... [False], [True]] type='804 * option[var * bool[param...'>, 'Photon_genPartFlav': <Array [[1], [1], [1], ... [1], [1], [1]] type='804 * option[var * uint8[paramet...'>, 'Gen_statusflag': <Array [[18817, 22913, 4481, ... 12289, 8449]] type='804 * option[var * int32[pa...'>, 'generator_weight': <Array [1, 1, 1, 1, 1, 1, ... -1, 1, -1, 1, 1] type='804 * ?float32'>, 'event_weight': <Array [1, -1, 1, -1, 1, ... 1, 1, 1, -1, -1] type='20374 * float32'>}\n",
      "zg3 event_phodrs {'photon_pt': <Array [[300], [362], ... [257], [287]] type='30 * option[var * float32[paramete...'>, 'photon_endcap': <Array [[True], [False], ... [False], [False]] type='30 * option[var * bool[para...'>, 'photon_barrel': <Array [[False], [True], ... [True], [True]] type='30 * option[var * bool[parame...'>, 'Photon_genPartFlav': <Array [[1], [1], [1], ... [1], [1], [1]] type='30 * option[var * uint8[paramete...'>, 'Gen_statusflag': <Array [[10625, 10625, 4481, ... 12352, 12352]] type='30 * option[var * int32[pa...'>, 'generator_weight': <Array [1, 1, 1, 1, -1, 1, ... -1, 1, 1, -1, 1] type='30 * ?float32'>, 'event_weight': <Array [-1, -1, 1, -1, 1, 1, ... 1, 1, 1, 1, 1] type='639 * float32'>}\n"
     ]
    }
   ],
   "source": [
    "import selection_cut\n",
    "reload(selection_cut)\n",
    "event_phodrs = {key: {} for key in EVENT}\n",
    "\n",
    "\n",
    "for key in EVENT.keys():\n",
    "    event_variables = []\n",
    "    # fiducial_variables = []\n",
    "    for i in EVENT[key]:\n",
    "#muon_cut\n",
    "        if 'data' not in key:\n",
    "            event_weight = {'event_weight':np.sign(i.Generator.weight)}\n",
    "            mu0 = selection_cut.muon(i,'num',True)\n",
    "        elif key == 'dataF':\n",
    "            murun = selection_cut.muon(i,'run_num','F')\n",
    "            event_weight =  {'event_weight':'NONE'}\n",
    "            mu0 = selection_cut.muon(murun,'num',True)\n",
    "        elif key == 'dataG':\n",
    "            murun = selection_cut.muon(i,'run_num','G')\n",
    "            event_weight =  {'event_weight':'NONE'}\n",
    "            mu0 = selection_cut.muon(murun,'num',True)            \n",
    "        mu1 = selection_cut.muon(mu0,'trigger','double')\n",
    "        mu2,event2 = selection_cut.muon(mu1,'cutBasedID','tight')\n",
    "        mu3 = selection_cut.muon(mu2,'pf','tight')\n",
    "        mu4 = selection_cut.muon(mu3,'eta','2.4')\n",
    "        mu5 = selection_cut.muon(mu4,'pt',event2)\n",
    "        mu6 = selection_cut.muon(mu5,'pid',True)\n",
    "        mass_mumu = selection_cut.MASS(mu6,'mu')\n",
    "        mu_mass = selection_cut.muon(mu6,'mass',mass_mumu)\n",
    "#photon_cut\n",
    "        pho1 = selection_cut.photon(mu_mass, 'pt', '30')\n",
    "        pho2 = selection_cut.photon(pho1, 'eta', '2.5')\n",
    "        pho3 = selection_cut.photon(pho2, 'id', 'tight') #tight #B #C #D\n",
    "        if 'data' in key:\n",
    "            # event_variables.append(selection_cut.VARIABLES(pho3,mass_mumu,mass_gmumu,key,event_weight))\n",
    "            lg_near, lg_dr = pho3.Photon.nearest(pho3.Muon, axis=1, return_metric=True)\n",
    "            fsr = selection_cut.muon(pho3,'fsr',lg_dr)\n",
    "            mass_mumu = selection_cut.MASS(fsr,'mu')\n",
    "            mass_gmumu = selection_cut.MASS(fsr,'gmumu')\n",
    "            event_variables.append(selection_cut.VARIABLES(fsr,mass_mumu,mass_gmumu,False, False,key,event_weight))\n",
    "        else:\n",
    "            lg_near, lg_dr = pho3.Photon.nearest(pho3.Muon, axis=1, return_metric=True)\n",
    "            fsr = selection_cut.muon(pho3,'fsr',lg_dr)\n",
    "            # pho4 = selection_cut.photon(pho3,'prompt',True) #看细节\n",
    "            # pho4 = selection_cut.photon(pho3,'prompt',False) #看细节\n",
    "            # gen_photon = pho4.GenPart[(pho4.GenPart.pdgId==22) & pho4.GenPart.hasFlags(['isLastCopy',\"isPrompt\"])]\n",
    "            # photon4_near, photon4_gen_photon_dr = gen_photon.nearest(pho4.Photon, axis=1, return_metric=True)\n",
    "            # mask = ak.fill_none(photon4_gen_photon_dr < 0.3, True)\n",
    "            # pho5 = pho4[ak.num(pho4.Photon[ak.any(mask == True,axis=1)]) == 1]\n",
    "            # lg_near, lg_dr = pho5.Photon.nearest(pho5.Muon, axis=1, return_metric=True)\n",
    "            # fsr = selection_cut.muon(pho5,'fsr',lg_dr)\n",
    "            mass_mumu = selection_cut.MASS(fsr,'mu')\n",
    "            mass_gmumu = selection_cut.MASS(fsr,'gmumu')\n",
    "            event_variables.append(selection_cut.VARIABLES(fsr,mass_mumu,mass_gmumu,key,event_weight))\n",
    "            # gen_gmumu = selection_cut.gen_mass(fsr,'gmumu')\n",
    "            # gen_mumu = selection_cut.gen_mass(fsr,'mu')\n",
    "            # event_variables.append(selection_cut.VARIABLES(fsr,mass_mumu,mass_gmumu,gen_gmumu,gen_mumu,key,event_weight))\n",
    "    event_phodrs[key] = event_variables\n",
    "    print(key,'event_phodrs',event_phodrs[key][0])\n",
    "\n",
    "\n",
    "\n",
    "#dataF 74m  \n",
    "#dataG 10m\n",
    "#zg0 30m\n",
    "#mc 98m"
   ]
  },
  {
   "cell_type": "code",
   "execution_count": null,
   "id": "9ce56693",
   "metadata": {},
   "outputs": [],
   "source": []
  },
  {
   "cell_type": "code",
   "execution_count": null,
   "id": "9e1d6d63",
   "metadata": {},
   "outputs": [],
   "source": []
  },
  {
   "cell_type": "code",
   "execution_count": 18,
   "id": "6bc7ce14",
   "metadata": {},
   "outputs": [],
   "source": [
    "#清理内存\n",
    "# import gc\n",
    "\n",
    "# del EVENT\n",
    "# gc.collect()"
   ]
  },
  {
   "cell_type": "code",
   "execution_count": 19,
   "id": "04828efa",
   "metadata": {},
   "outputs": [
    {
     "name": "stdout",
     "output_type": "stream",
     "text": [
      "zg0\n",
      "zg1\n",
      "zg2\n",
      "zg3\n"
     ]
    }
   ],
   "source": [
    "# 样本名称列表\n",
    "# sample_names = [\"dataF\", \"dataG\",\"zg1\", \"zg2\", \"zg3\", \"tt\", \"zz\", \"ww\", \"wz\"]\n",
    "# sample_names = [\"zg0\"]\n",
    "sample_names = [\"zg0\",\"zg1\", \"zg2\", \"zg3\"]\n",
    "# sample_names = [\"tt\", \"zz\", \"ww\", \"wz\"]#\"tt\",\n",
    "# sample_names = [\"dataF\", \"dataG\"]\n",
    "# sample_names = [\"dy1\",\"dy2\"]#,\"dy\"\"zg2\", \"zg3\"\n",
    "\n",
    "# 初始化一个字典，用于存储合并后的数据\n",
    "event_final = {}\n",
    "\n",
    "# 遍历每个样本名称\n",
    "for sample_name in sample_names:\n",
    "    print(sample_name)\n",
    "    # 初始化一个字典，用于存储当前样本的合并数据\n",
    "    event_final[sample_name] = {}\n",
    "\n",
    "    # 获取第一个条目中的信息键\n",
    "    info_keys = list(event_phodrs[sample_name][0].keys())\n",
    "\n",
    "    # 遍历每个信息键\n",
    "    for info_key in info_keys:\n",
    "        # 从 event_muon_phodrs 中提取当前样本和信息键的数据\n",
    "        data_to_concatenate = [entry[info_key] for entry in event_phodrs[sample_name]]\n",
    "\n",
    "        # 使用 ak.concatenate 将数据连接在一起\n",
    "        event_final[sample_name][info_key] = ak.concatenate(data_to_concatenate)\n",
    "\n",
    "#zg0 10min\n",
    "#zg1 \n",
    "#dy1 dy2 277min"
   ]
  },
  {
   "cell_type": "code",
   "execution_count": 20,
   "id": "f549a91b",
   "metadata": {},
   "outputs": [],
   "source": [
    "def save_event_dict(event_dict, file_prefix):\n",
    "    # data_subkeys = ['photon_pt', 'photon_eta', 'muon1_pt', 'muon2_pt', 'muon1_eta', 'muon2_eta', 'muon_mass','gmumu_mass','photon_endcap','photon_barrel','npvsGood','Rho_Calo','Rho_tracker']#,'npvsGood','Rho_Calo','Rho_tracker',,'dr_lg','charge1','charge2'\n",
    "    data_subkeys = ['Photon_genPartFlav','Gen_statusflag','photon_pt','photon_endcap','photon_barrel',]\n",
    "    other_subkeys = data_subkeys + ['generator_weight', 'event_weight',]#'LHEPdfWeight','LHEScaleWeight','PSWeight','GenDressedLepton','GenIsolatedPhoton','gen_gmumu','gen_mumu' 'gen_muon1_pt','gen_muon2_pt','gen_muon1_eta','gen_muon2_eta','gen_gmumu','gen_mumu','LHEPdfWeight','LHEScaleWeight',,'gen_gmumu'\n",
    "    # other_subkeys = data_subkeys\n",
    "\n",
    "    for key, value in event_dict.items():\n",
    "        subkeys = other_subkeys if 'data' not in key else data_subkeys\n",
    "        for subkey in subkeys:\n",
    "            ak.to_parquet(value[subkey], f'{file_prefix}_{key}_{subkey}.parquet')\n",
    "\n"
   ]
  },
  {
   "cell_type": "code",
   "execution_count": 21,
   "id": "ec54381b",
   "metadata": {},
   "outputs": [],
   "source": [
    "# 存储数据\n",
    "# save_event_dict(event_final, 'selection_file/event_final')\n",
    "save_event_dict(event_final, 'ABCD_file/closure_test/A/event_final')\n",
    "# save_event_dict(event_final, 'ABCD_file/B/event_final')\n",
    "# save_event_dict(event_final, 'test_file/D/event_final')"
   ]
  },
  {
   "cell_type": "code",
   "execution_count": null,
   "id": "0cedd3f5",
   "metadata": {},
   "outputs": [],
   "source": []
  },
  {
   "cell_type": "markdown",
   "id": "e12de0ad",
   "metadata": {},
   "source": [
    "# TEST"
   ]
  },
  {
   "cell_type": "code",
   "execution_count": 12,
   "id": "1f527774",
   "metadata": {},
   "outputs": [],
   "source": [
    "sample = EVENT['zg3'][0]\n",
    "pass_mu = (sample['GenDressedLepton'].pt > 10) \n",
    "pass_pho = (sample['GenIsolatedPhoton'].pt > 10)\n",
    "sample_tem_test = sample['GenDressedLepton'][abs(sample['GenDressedLepton'].eta) < 2.4]#2.4\n",
    "in_fiducial_1 = sample[(ak.num(pass_pho,axis=1)==1) & (ak.num(pass_mu,axis=1)==2)]\n",
    "out_fiducial_1 = sample[~((ak.num(pass_pho,axis=1)==1) & (ak.num(pass_mu,axis=1)==2))]\n",
    "in_fiducial_2 = in_fiducial_1[ak.num(sample_tem.eta)==2]\n",
    "out_fiducial_2 = in_fiducial_1[ak.num(sample_tem.eta)!=2]\n",
    "\n",
    "\n",
    "out_fiducial_all = sample[(~((ak.num(pass_pho,axis=1)==1) & (ak.num(pass_mu,axis=1)==2))) | (ak.num(sample_tem_test.eta)!=2)]"
   ]
  },
  {
   "cell_type": "code",
   "execution_count": 13,
   "id": "d10f3822",
   "metadata": {},
   "outputs": [
    {
     "name": "stdout",
     "output_type": "stream",
     "text": [
      "292\n",
      "347\n",
      "356\n"
     ]
    }
   ],
   "source": [
    "print(len(in_fiducial_1))\n",
    "print(len(out_fiducial_1))\n",
    "print(len(out_fiducial_all))"
   ]
  },
  {
   "cell_type": "code",
   "execution_count": 10,
   "id": "ce8936f8",
   "metadata": {},
   "outputs": [],
   "source": [
    "sample = EVENT['zg3'][0]\n",
    "pass_mu = (sample['GenDressedLepton'].pt > 10) \n",
    "pass_pho = (sample['GenIsolatedPhoton'].pt > 10)\n",
    "in_fiducial_1 = sample[(ak.num(pass_pho,axis=1)==1) & (ak.num(pass_mu,axis=1)==2)]\n",
    "out_fiducial_1 = sample[~((ak.num(pass_pho,axis=1)==1) & (ak.num(pass_mu,axis=1)==2))]\n",
    "sample_tem = in_fiducial_1['GenDressedLepton'][abs(in_fiducial_1['GenDressedLepton'].eta) < 2.4]#2.4\n",
    "in_fiducial_2 = in_fiducial_1[ak.num(sample_tem.eta)==2]\n",
    "out_fiducial_2 = in_fiducial_1[ak.num(sample_tem.eta)!=2]"
   ]
  },
  {
   "cell_type": "code",
   "execution_count": 6,
   "id": "a2433281",
   "metadata": {},
   "outputs": [
    {
     "name": "stdout",
     "output_type": "stream",
     "text": [
      "292\n",
      "347\n",
      "283\n",
      "9\n"
     ]
    }
   ],
   "source": [
    "print(len(in_fiducial_1))\n",
    "print(len(out_fiducial_1))\n",
    "print(len(in_fiducial_2))\n",
    "print(len(out_fiducial_2))"
   ]
  },
  {
   "cell_type": "code",
   "execution_count": 6,
   "id": "1ef76411",
   "metadata": {},
   "outputs": [
    {
     "data": {
      "text/plain": [
       "<Array [83.8, 91.6, 89.6, ... 90.3, 90.1, 92.4] type='30 * ?float32'>"
      ]
     },
     "execution_count": 6,
     "metadata": {},
     "output_type": "execute_result"
    }
   ],
   "source": [
    "import selection_cut\n",
    "reload(selection_cut)\n",
    "\n",
    "i = EVENT['zg3'][0]\n",
    "event_weight = {'event_weight':np.sign(i.Generator.weight)}\n",
    "mu0 = selection_cut.muon(i,'num',True)          \n",
    "mu1 = selection_cut.muon(mu0,'trigger','double')\n",
    "mu2,event2 = selection_cut.muon(mu1,'cutBasedID','tight')\n",
    "mu3 = selection_cut.muon(mu2,'pf','tight')\n",
    "mu4 = selection_cut.muon(mu3,'eta','2.4')\n",
    "mu5 = selection_cut.muon(mu4,'pt',event2)\n",
    "mu6 = selection_cut.muon(mu5,'pid',True)\n",
    "mass_mumu = selection_cut.MASS(mu6,'mu')\n",
    "mu_mass = selection_cut.muon(mu6,'mass',mass_mumu)\n",
    "#photon_cut\n",
    "pho1 = selection_cut.photon(mu_mass, 'pt', '30')\n",
    "pho2 = selection_cut.photon(pho1, 'eta', '2.5')\n",
    "pho3 = selection_cut.photon(pho2, 'id', 'tight') #tight\n",
    "pho4 = selection_cut.photon(pho3,'prompt',True)\n",
    "gen_photon = pho4.GenPart[(pho4.GenPart.pdgId==22) & pho4.GenPart.hasFlags(['isLastCopy',\"isPrompt\"])]\n",
    "photon4_near, photon4_gen_photon_dr = gen_photon.nearest(pho4.Photon, axis=1, return_metric=True)\n",
    "mask = ak.fill_none(photon4_gen_photon_dr < 0.3, True)\n",
    "pho5 = pho4[ak.num(pho4.Photon[ak.any(mask == True,axis=1)]) == 1]\n",
    "# event_variables.append(selection_cut.VARIABLES(pho5,mass_mumu,mass_gmumu,key,event_weight))\n",
    "lg_near, lg_dr = pho5.Photon.nearest(pho5.Muon, axis=1, return_metric=True)\n",
    "fsr = selection_cut.muon(pho5,'fsr',lg_dr)\n",
    "gen_mumu = selection_cut.gen_mass(fsr,'mu')\n",
    "gen_mumu\n",
    "\n",
    "\n",
    "#dataF 74m  \n",
    "#dataG 10m\n",
    "#zg0 30m\n",
    "#mc 98m"
   ]
  },
  {
   "cell_type": "code",
   "execution_count": 58,
   "id": "c5f1f194",
   "metadata": {},
   "outputs": [],
   "source": [
    "gen_mumu = selection_cut.gen_mass(fsr,'mu')"
   ]
  },
  {
   "cell_type": "code",
   "execution_count": 57,
   "id": "de085431",
   "metadata": {},
   "outputs": [
    {
     "data": {
      "text/plain": [
       "13"
      ]
     },
     "execution_count": 57,
     "metadata": {},
     "output_type": "execute_result"
    }
   ],
   "source": [
    "ak.max(samples['GenDressedLepton']['pdgId'])"
   ]
  },
  {
   "cell_type": "code",
   "execution_count": 53,
   "id": "69105d77",
   "metadata": {},
   "outputs": [],
   "source": [
    "gen_muon_vectors_0 = ak.zip(\n",
    "    {\n",
    "        \"pt\": samples['GenDressedLepton']['pt'],\n",
    "        \"eta\": samples['GenDressedLepton']['eta'],\n",
    "        \"phi\": samples['GenDressedLepton']['phi'],\n",
    "        \"mass\": samples['GenDressedLepton']['mass']\n",
    "    },\n",
    "    with_name=\"PtEtaPhiMLorentzVector\"\n",
    ")\n",
    "# GEN_gamma = GEN[GEN['pdgId'] == 22]\n",
    "gen_photon_vector_0 = ak.zip(\n",
    "    {\n",
    "        \"pt\": samples['GenIsolatedPhoton']['pt'],\n",
    "        \"eta\": samples['GenIsolatedPhoton']['eta'],\n",
    "        \"phi\": samples['GenIsolatedPhoton']['phi'],\n",
    "        \"mass\": samples['GenIsolatedPhoton']['mass'],\n",
    "    },\n",
    "    with_name=\"PtEtaPhiMLorentzVector\"\n",
    ")\n",
    "gen_muon_vectors = gen_muon_vectors_0[ak.num(gen_muon_vectors_0)==2]\n",
    "gen_photon_vector = gen_photon_vector_0[ak.num(gen_muon_vectors_0)==2]\n",
    "# gen_muon_vectors = gen_muon_vectors_0[ak.num(gen_muon_vectors_0)==2][ak.num(gen_photon_vector_0['pt'])==1]\n",
    "# gen_photon_vector = gen_photon_vector_0[ak.num(gen_muon_vectors_0)==2][ak.num(gen_photon_vector_0['pt'])==1]"
   ]
  },
  {
   "cell_type": "code",
   "execution_count": 65,
   "id": "73e35e26",
   "metadata": {},
   "outputs": [
    {
     "data": {
      "text/plain": [
       "<Array [85.2, 92.7, 91.4, ... 83.2, 89.6, 85.7] type='89 * ?float32'>"
      ]
     },
     "execution_count": 65,
     "metadata": {},
     "output_type": "execute_result"
    }
   ],
   "source": [
    "samples = fsr\n",
    "gen_muon_vectors_0 = ak.zip(\n",
    "        {\n",
    "            \"pt\": samples['GenDressedLepton']['pt'],\n",
    "            \"eta\": samples['GenDressedLepton']['eta'],\n",
    "            \"phi\": samples['GenDressedLepton']['phi'],\n",
    "            \"mass\": samples['GenDressedLepton']['mass']\n",
    "        },\n",
    "        with_name=\"PtEtaPhiMLorentzVector\"\n",
    "    )\n",
    "gen_muon_vectors = gen_muon_vectors_0[ak.num(gen_muon_vectors_0)==2]\n",
    "# GEN_gamma = GEN[GEN['pdgId'] == 22]\n",
    "gen_photon_vector = ak.zip(\n",
    "    {\n",
    "        \"pt\": fsr['GenIsolatedPhoton']['pt'],\n",
    "        \"eta\": fsr['GenIsolatedPhoton']['eta'],\n",
    "        \"phi\": fsr['GenIsolatedPhoton']['phi'],\n",
    "        \"mass\": fsr['GenIsolatedPhoton']['mass'],\n",
    "    },\n",
    "    with_name=\"PtEtaPhiMLorentzVector\"\n",
    ")\n",
    "invariant_mass = (gen_muon_vectors[:, 0] + gen_muon_vectors[:, 1] ).mass\n",
    "# invariant_mass = (gen_muon_vectors[:, 0] + gen_muon_vectors[:, 1] + gen_photon_vector[:,0]).mass\n",
    "invariant_mass"
   ]
  },
  {
   "cell_type": "code",
   "execution_count": 63,
   "id": "0a8a2773",
   "metadata": {},
   "outputs": [
    {
     "data": {
      "text/plain": [
       "<Array [92.6, 90.9, 90.1, ... 93.5, 92.6, 90.4] type='6499 * ?float32'>"
      ]
     },
     "execution_count": 63,
     "metadata": {},
     "output_type": "execute_result"
    }
   ],
   "source": [
    "samples = fsr\n",
    "gen_muon_idxs = samples['Muon'][\"genPartIdx\"]\n",
    "GEN = samples['GenPart']\n",
    "gen_muon_vectors = ak.zip(\n",
    "    {\n",
    "        \"pt\": GEN[gen_muon_idxs]['pt'],\n",
    "        \"eta\": GEN[gen_muon_idxs]['eta'],\n",
    "        \"phi\": GEN[gen_muon_idxs]['phi'],\n",
    "        \"mass\": GEN[gen_muon_idxs]['mass']\n",
    "    },\n",
    "    with_name=\"PtEtaPhiMLorentzVector\"\n",
    ")\n",
    "# 获取gen level photon的四动量信息\n",
    "gen_photon_idx = samples.Photon[:, 0][\"genPartIdx\"]\n",
    "GEN = ak.flatten(samples['GenPart'])\n",
    "gen_photon_vector = ak.zip(\n",
    "    {\n",
    "        \"pt\": GEN[gen_photon_idx]['pt'],\n",
    "        \"eta\": GEN[gen_photon_idx]['eta'],\n",
    "        \"phi\": GEN[gen_photon_idx]['phi'],\n",
    "        \"mass\": GEN[gen_photon_idx]['mass'],\n",
    "    },\n",
    "    with_name=\"PtEtaPhiMLorentzVector\"\n",
    ")\n",
    "invariant_mass = (gen_muon_vectors[:, 0] + gen_muon_vectors[:, 1] ).mass\n",
    "invariant_mass"
   ]
  },
  {
   "cell_type": "code",
   "execution_count": 66,
   "id": "6f75f306",
   "metadata": {},
   "outputs": [
    {
     "name": "stderr",
     "output_type": "stream",
     "text": [
      "/home/pku/muty/anaconda3/lib/python3.8/site-packages/awkward/_connect/_numpy.py:195: RuntimeWarning: overflow encountered in sinh\n",
      "  result = getattr(ufunc, method)(\n",
      "/home/pku/muty/anaconda3/lib/python3.8/site-packages/awkward/_connect/_numpy.py:195: RuntimeWarning: invalid value encountered in multiply\n",
      "  result = getattr(ufunc, method)(\n",
      "/home/pku/muty/anaconda3/lib/python3.8/site-packages/awkward/_connect/_numpy.py:195: RuntimeWarning: overflow encountered in cosh\n",
      "  result = getattr(ufunc, method)(\n"
     ]
    },
    {
     "data": {
      "text/plain": [
       "<Array [671, nan, nan, 400, ... nan, nan, 815] type='6499 * ?float32'>"
      ]
     },
     "execution_count": 66,
     "metadata": {},
     "output_type": "execute_result"
    }
   ],
   "source": [
    "        GEN = samples['GenPart']\n",
    "        GEN_muons = GEN[abs(GEN['pdgId']) == 13]\n",
    "        GEN_gamma = GEN[GEN['pdgId'] == 22]\n",
    "        GEN_VARIABLES = {\n",
    "            'gen_muon1_pt':GEN_muons['pt'][:,0],\n",
    "            'gen_muon2_pt':GEN_muons['pt'][:,1],\n",
    "            'gen_muon1_eta':GEN_muons['eta'][:,0],\n",
    "            'gen_muon2_eta':GEN_muons['eta'][:,1],\n",
    "            'gen_gamma_pt':GEN_gamma['pt'][:,0],\n",
    "            'gen_gamma_eta':GEN_gamma['eta'][:,0],\n",
    "            }"
   ]
  }
 ],
 "metadata": {
  "kernelspec": {
   "display_name": "base",
   "language": "python",
   "name": "python3"
  },
  "language_info": {
   "codemirror_mode": {
    "name": "ipython",
    "version": 3
   },
   "file_extension": ".py",
   "mimetype": "text/x-python",
   "name": "python",
   "nbconvert_exporter": "python",
   "pygments_lexer": "ipython3",
   "version": "3.8.13"
  },
  "vscode": {
   "interpreter": {
    "hash": "558e35b4d220da685c9de597aa7b91581edf366202e451509f0c23176d2fa2bb"
   }
  }
 },
 "nbformat": 4,
 "nbformat_minor": 5
}
