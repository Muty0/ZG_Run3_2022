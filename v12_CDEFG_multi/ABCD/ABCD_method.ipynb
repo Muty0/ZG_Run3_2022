{
 "cells": [
  {
   "cell_type": "markdown",
   "metadata": {},
   "source": [
    "## ABCD method"
   ]
  },
  {
   "cell_type": "markdown",
   "metadata": {},
   "source": [
    "### calculate cb,cc,cd"
   ]
  },
  {
   "cell_type": "code",
   "execution_count": 1,
   "metadata": {},
   "outputs": [
    {
     "name": "stderr",
     "output_type": "stream",
     "text": [
      "/tmp/ipykernel_329876/4119456318.py:8: DeprecationWarning: the imp module is deprecated in favour of importlib; see the module's documentation for alternative uses\n",
      "  from imp import reload #每次修改调用函数后可以更新\n"
     ]
    }
   ],
   "source": [
    "import awkward as ak\n",
    "import uproot\n",
    "import hist\n",
    "import os\n",
    "import numpy as np\n",
    "from coffea.nanoevents import NanoEventsFactory, NanoAODSchema\n",
    "from coffea.nanoevents.methods.base import NanoEventsArray\n",
    "from imp import reload #每次修改调用函数后可以更新\n",
    "import correctionlib, rich\n",
    "import matplotlib.pyplot as plt\n",
    "import sys\n",
    "import pyarrow as pa\n",
    "import pyarrow.parquet as pq\n",
    "import pandas as pd"
   ]
  },
  {
   "cell_type": "markdown",
   "metadata": {},
   "source": [
    "### 录入文件"
   ]
  },
  {
   "cell_type": "code",
   "execution_count": 29,
   "metadata": {},
   "outputs": [],
   "source": [
    "def load_event_dict(file_prefix, keys):\n",
    "    data_subkeys = ['photon_pt', 'photon_endcap','photon_barrel']#'photon_eta', 'muon1_pt', 'muon2_pt', 'muon1_eta', 'muon2_eta', 'muon_mass','gmumu_mass',\n",
    "    other_subkeys = data_subkeys + ['generator_weight', 'event_weight']\n",
    "    \n",
    "    event_dict = {}\n",
    "    for key in keys:\n",
    "        subkeys = other_subkeys if 'data' not in key else data_subkeys\n",
    "        event_dict[key] = {}\n",
    "        for subkey in subkeys:\n",
    "            event_dict[key][subkey] = ak.from_parquet(f'{file_prefix}_{key}_{subkey}.parquet')\n",
    "    return event_dict"
   ]
  },
  {
   "cell_type": "code",
   "execution_count": 30,
   "metadata": {},
   "outputs": [],
   "source": [
    "keys = ['dataC_muon','dataD_muon',\"zg0_22\",\"zg1_22\", \"zg2_22\", \"zg3_22\",\"tt_22\",\"zz_22\", \"ww_22\", \"wz_22\",\"dy_22\"]  \n",
    "# 读取数据\n",
    "\n",
    "event_A = load_event_dict('../selection_muon_file/v2/A/event_muon_final', keys)\n",
    "event_B = load_event_dict('../selection_muon_file/v2/B/event_muon_final', keys)\n",
    "event_C = load_event_dict('../selection_muon_file/v2/C/event_muon_final', keys)\n",
    "event_D = load_event_dict('../selection_muon_file/v2/D/event_muon_final', keys)"
   ]
  },
  {
   "cell_type": "code",
   "execution_count": 9,
   "metadata": {},
   "outputs": [],
   "source": [
    "keys = ['dataC_ele','dataD_ele',\"zg0_22\",\"zg1_22\", \"zg2_22\", \"zg3_22\",\"tt_22\",\"zz_22\", \"ww_22\", \"wz_22\",\"dy_22\"]  \n",
    "# 读取数据 \n",
    "event_A = load_event_dict('../selection_ele_file/v2/A/event_ele_final', keys)\n",
    "event_B = load_event_dict('../selection_ele_file/v2/B/event_ele_final', keys)\n",
    "event_C = load_event_dict('../selection_ele_file/v2/C/event_ele_final', keys)\n",
    "event_D = load_event_dict('../selection_ele_file/v2/D/event_ele_final', keys)"
   ]
  },
  {
   "cell_type": "markdown",
   "metadata": {},
   "source": [
    "### A"
   ]
  },
  {
   "cell_type": "code",
   "execution_count": 31,
   "metadata": {},
   "outputs": [],
   "source": [
    "# 合并key\n",
    "data_keys = [\"dataC_muon\", \"dataD_muon\"]\n",
    "info_keys = list(event_A[\"dataD_muon\"].keys())\n",
    "\n",
    "# data_keys = [\"dataC_ele\", \"dataD_ele\"]\n",
    "# info_keys = list(event_A[\"dataD_ele\"].keys())\n",
    "\n",
    "event_A[\"data\"] = {}\n",
    "\n",
    "\n",
    "# 遍历每个信息键\n",
    "for info_key in info_keys:\n",
    "    # 从 event_final 中提取 \"data1\", \"data2\", \"data3\", \"data4\" 这四个 key 的数据\n",
    "    data_to_concatenate = [event_A[data_key][info_key] for data_key in data_keys]\n",
    "\n",
    "    # 使用 ak.concatenate 将数据连接在一起\n",
    "    event_A[\"data\"][info_key] = ak.concatenate(data_to_concatenate)\n",
    "\n",
    "del event_A[\"dataC_muon\"]\n",
    "del event_A[\"dataD_muon\"]\n",
    "# del event_A[\"dataC_ele\"]\n",
    "# del event_A[\"dataD_ele\"]\n",
    "\n",
    "# zg_keys = [\"zg0_22\",\"zg1_22\", \"zg2_22\", \"zg3_22\"]\n",
    "# event_A[\"zg\"] = {}\n",
    "\n",
    "# info_keys = list(event_A[\"zg0_22\"].keys())\n",
    "\n",
    "# # 遍历每个信息键\n",
    "# for info_key in info_keys:\n",
    "#     # 从 event_final 中提取 \"zg1\", \"zg2\", \"zg3\", \"zg4\" 这四个 key 的数据\n",
    "#     zg_to_concatenate = [event_A[zg_key][info_key] for zg_key in zg_keys]\n",
    "\n",
    "#     # 使用 ak.concatenate 将数据连接在一起\n",
    "#     event_A[\"zg\"][info_key] = ak.concatenate(zg_to_concatenate)\n"
   ]
  },
  {
   "cell_type": "code",
   "execution_count": 32,
   "metadata": {},
   "outputs": [
    {
     "name": "stdout",
     "output_type": "stream",
     "text": [
      "Total events:\n",
      "data: 2030\n",
      "zg0_22: 33590\n",
      "zg1_22: 488728\n",
      "zg2_22: 10329\n",
      "zg3_22: 14825\n",
      "tt_22: 777\n",
      "zz_22: 48\n",
      "ww_22: 59\n",
      "wz_22: 204\n",
      "dy_22: 1112\n",
      "\n",
      "For endcap:\n",
      "data: 426\n",
      "zg0_22: 6673\n",
      "zg1_22: 95912\n",
      "zg2_22: 2096\n",
      "zg3_22: 2700\n",
      "tt_22: 118\n",
      "zz_22: 6\n",
      "ww_22: 12\n",
      "wz_22: 52\n",
      "dy_22: 241\n",
      "\n",
      "For barrel:\n",
      "data: 1599\n",
      "zg0_22: 26815\n",
      "zg1_22: 391170\n",
      "zg2_22: 8197\n",
      "zg3_22: 12075\n",
      "tt_22: 655\n",
      "zz_22: 42\n",
      "ww_22: 46\n",
      "wz_22: 152\n",
      "dy_22: 867\n"
     ]
    }
   ],
   "source": [
    "\n",
    "# 定义一个函数来计算endcap和barrel的事件数\n",
    "def count_events(key, condition_key):\n",
    "    return ak.sum(event_A[key][condition_key])\n",
    "    # return ak.sum(ak.flatten(event_A[key][condition_key]))\n",
    "\n",
    "\n",
    "keys = [\"data\",\"zg0_22\",\"zg1_22\", \"zg2_22\", \"zg3_22\",\"tt_22\",\"zz_22\", \"ww_22\", \"wz_22\",\"dy_22\"]#, \"zg0\", \"zg1\", \"zg2\", \"zg3\", \"tt\", \"zz\", \"wz\", \"ww\",\"dy\",\"zg\"]\n",
    "# 用于保存endcap和barrel的事件数的字典\n",
    "endcap_counts = {}\n",
    "barrel_counts = {}\n",
    "print(\"Total events:\")\n",
    "for key in keys:\n",
    "    print(f\"{key}:\", len(event_A[key]['photon_pt']))\n",
    "\n",
    "print(\"\\nFor endcap:\")\n",
    "for key in keys:\n",
    "    count = count_events(key, 'photon_endcap')\n",
    "    print(f\"{key}:\", count)\n",
    "    endcap_counts[key] = count  # 保存到字典中\n",
    "\n",
    "print(\"\\nFor barrel:\")\n",
    "for key in keys:\n",
    "    count = count_events(key, 'photon_barrel')\n",
    "    print(f\"{key}:\", count)\n",
    "    barrel_counts[key] = count  # 保存到字典中\n",
    "\n",
    "# 将事件数保存到特定的变量中\n",
    "for key in keys:\n",
    "    vars()['A_' + key + '_endcap'] = endcap_counts[key]\n",
    "    vars()['A_' + key + '_barrel'] = barrel_counts[key]\n"
   ]
  },
  {
   "cell_type": "markdown",
   "metadata": {},
   "source": [
    "### B"
   ]
  },
  {
   "cell_type": "code",
   "execution_count": 33,
   "metadata": {},
   "outputs": [],
   "source": [
    "# 合并key\n",
    "# data_keys = [\"dataF\", \"dataG\"]\n",
    "event_B[\"data\"] = {}\n",
    "\n",
    "# info_keys = list(event_B[\"dataF\"].keys())\n",
    "\n",
    "# 遍历每个信息键\n",
    "for info_key in info_keys:\n",
    "    # 从 event_final 中提取 \"data1\", \"data2\", \"data3\", \"data4\" 这四个 key 的数据\n",
    "    data_to_concatenate = [event_B[data_key][info_key] for data_key in data_keys]\n",
    "\n",
    "    # 使用 ak.concatenate 将数据连接在一起\n",
    "    event_B[\"data\"][info_key] = ak.concatenate(data_to_concatenate)\n",
    "\n",
    "# del event_B[\"dataC_muon\"]\n",
    "# del event_B[\"dataD_muon\"]\n",
    "# del event_B[\"dataC_ele\"]\n",
    "# del event_B[\"dataD_ele\"]"
   ]
  },
  {
   "cell_type": "code",
   "execution_count": 34,
   "metadata": {},
   "outputs": [
    {
     "name": "stdout",
     "output_type": "stream",
     "text": [
      "Total events:\n",
      "data: 1946\n",
      "zg0_22: 8200\n",
      "zg1_22: 131017\n",
      "zg2_22: 2832\n",
      "zg3_22: 4191\n",
      "tt_22: 262\n",
      "zz_22: 13\n",
      "ww_22: 11\n",
      "wz_22: 75\n",
      "dy_22: 386\n",
      "\n",
      "For endcap:\n",
      "data: 246\n",
      "zg0_22: 1658\n",
      "zg1_22: 25822\n",
      "zg2_22: 508\n",
      "zg3_22: 744\n",
      "tt_22: 43\n",
      "zz_22: 4\n",
      "ww_22: 3\n",
      "wz_22: 10\n",
      "dy_22: 64\n",
      "\n",
      "For barrel:\n",
      "data: 1691\n",
      "zg0_22: 6521\n",
      "zg1_22: 104771\n",
      "zg2_22: 2318\n",
      "zg3_22: 3433\n",
      "tt_22: 218\n",
      "zz_22: 9\n",
      "ww_22: 8\n",
      "wz_22: 65\n",
      "dy_22: 322\n"
     ]
    }
   ],
   "source": [
    "\n",
    "# 定义一个函数来计算endcap和barrel的事件数\n",
    "def count_events(key, condition_key):\n",
    "    return ak.sum(event_B[key][condition_key])\n",
    "    # return ak.sum(ak.flatten(event_B[key][condition_key]))\n",
    "\n",
    "# keys = [\"data\", \"zg0\", \"zg1\", \"zg2\", \"zg3\", \"tt\", \"zz\", \"wz\", \"ww\",\"dy\"]\n",
    "# 用于保存endcap和barrel的事件数的字典\n",
    "endcap_counts = {}\n",
    "barrel_counts = {}\n",
    "print(\"Total events:\")\n",
    "for key in keys:\n",
    "    print(f\"{key}:\", len(event_B[key]['photon_pt']))\n",
    "\n",
    "print(\"\\nFor endcap:\")\n",
    "for key in keys:\n",
    "    count = count_events(key, 'photon_endcap')\n",
    "    print(f\"{key}:\", count)\n",
    "    endcap_counts[key] = count  # 保存到字典中\n",
    "\n",
    "print(\"\\nFor barrel:\")\n",
    "for key in keys:\n",
    "    count = count_events(key, 'photon_barrel')\n",
    "    print(f\"{key}:\", count)\n",
    "    barrel_counts[key] = count  # 保存到字典中\n",
    "\n",
    "# 将事件数保存到特定的变量中\n",
    "for key in keys:\n",
    "    vars()['B_' + key + '_endcap'] = endcap_counts[key]\n",
    "    vars()['B_' + key + '_barrel'] = barrel_counts[key]\n"
   ]
  },
  {
   "cell_type": "markdown",
   "metadata": {},
   "source": [
    "### C"
   ]
  },
  {
   "cell_type": "code",
   "execution_count": 35,
   "metadata": {},
   "outputs": [],
   "source": [
    "# 合并key\n",
    "event_C[\"data\"] = {}\n",
    "\n",
    "# 遍历每个信息键\n",
    "for info_key in info_keys:\n",
    "    # 从 event_final 中提取 \"data1\", \"data2\", \"data3\", \"data4\" 这四个 key 的数据\n",
    "    data_to_concatenate = [event_C[data_key][info_key] for data_key in data_keys]\n",
    "\n",
    "    # 使用 ak.concatenate 将数据连接在一起\n",
    "    event_C[\"data\"][info_key] = ak.concatenate(data_to_concatenate)\n",
    "\n",
    "# del event_C[\"dataC_muon\"]\n",
    "# del event_C[\"dataD_muon\"]\n"
   ]
  },
  {
   "cell_type": "code",
   "execution_count": 36,
   "metadata": {},
   "outputs": [
    {
     "name": "stdout",
     "output_type": "stream",
     "text": [
      "Total events:\n",
      "data: 28\n",
      "zg0_22: 512\n",
      "zg1_22: 1016\n",
      "zg2_22: 2\n",
      "zg3_22: 1\n",
      "tt_22: 5\n",
      "zz_22: 1\n",
      "ww_22: 0\n",
      "wz_22: 4\n",
      "dy_22: 13\n",
      "\n",
      "For endcap:\n",
      "data: 16\n",
      "zg0_22: 325\n",
      "zg1_22: 740\n",
      "zg2_22: 2\n",
      "zg3_22: 0\n",
      "tt_22: 2\n",
      "zz_22: 1\n",
      "ww_22: 0\n",
      "wz_22: 4\n",
      "dy_22: 9\n",
      "\n",
      "For barrel:\n",
      "data: 11\n",
      "zg0_22: 183\n",
      "zg1_22: 268\n",
      "zg2_22: 0\n",
      "zg3_22: 1\n",
      "tt_22: 3\n",
      "zz_22: 0\n",
      "ww_22: 0\n",
      "wz_22: 0\n",
      "dy_22: 4\n"
     ]
    }
   ],
   "source": [
    "\n",
    "# 定义一个函数来计算endcap和barrel的事件数\n",
    "def count_events(key, condition_key):\n",
    "    if len(event_C[key][condition_key]) != 0:\n",
    "        return ak.sum(event_C[key][condition_key])\n",
    "        # return ak.sum(ak.flatten(event_C[key][condition_key]))        \n",
    "    else:\n",
    "        return 0\n",
    "\n",
    "# 用于保存endcap和barrel的事件数的字典\n",
    "endcap_counts = {}\n",
    "barrel_counts = {}\n",
    "print(\"Total events:\")\n",
    "for key in keys:\n",
    "    print(f\"{key}:\", len(event_C[key]['photon_pt']))\n",
    "\n",
    "print(\"\\nFor endcap:\")\n",
    "for key in keys:\n",
    "    count = count_events(key, 'photon_endcap')\n",
    "    print(f\"{key}:\", count)\n",
    "    endcap_counts[key] = count  # 保存到字典中\n",
    "\n",
    "print(\"\\nFor barrel:\")\n",
    "for key in keys:\n",
    "    count = count_events(key, 'photon_barrel')\n",
    "    print(f\"{key}:\", count)\n",
    "    barrel_counts[key] = count  # 保存到字典中\n",
    "\n",
    "# 将事件数保存到特定的变量中\n",
    "for key in keys:\n",
    "    vars()['C_' + key + '_endcap'] = endcap_counts[key]\n",
    "    vars()['C_' + key + '_barrel'] = barrel_counts[key]\n"
   ]
  },
  {
   "cell_type": "markdown",
   "metadata": {},
   "source": [
    "### D"
   ]
  },
  {
   "cell_type": "code",
   "execution_count": 37,
   "metadata": {},
   "outputs": [],
   "source": [
    "# 合并key\n",
    "event_D[\"data\"] = {}\n",
    "\n",
    "# 遍历每个信息键\n",
    "for info_key in info_keys:\n",
    "    # 从 event_final 中提取 \"data1\", \"data2\", \"data3\", \"data4\" 这四个 key 的数据\n",
    "    data_to_concatenate = [event_D[data_key][info_key] for data_key in data_keys]\n",
    "\n",
    "    # 使用 ak.concatenate 将数据连接在一起\n",
    "    event_D[\"data\"][info_key] = ak.concatenate(data_to_concatenate)\n",
    "\n",
    "# del event_D[\"dataC_muon\"]\n",
    "# del event_D[\"dataD_muon\"]\n"
   ]
  },
  {
   "cell_type": "code",
   "execution_count": 38,
   "metadata": {},
   "outputs": [
    {
     "name": "stdout",
     "output_type": "stream",
     "text": [
      "Total events:\n",
      "data: 74\n",
      "zg0_22: 159\n",
      "zg1_22: 366\n",
      "zg2_22: 1\n",
      "zg3_22: 1\n",
      "tt_22: 2\n",
      "zz_22: 0\n",
      "ww_22: 1\n",
      "wz_22: 1\n",
      "dy_22: 6\n",
      "\n",
      "For endcap:\n",
      "data: 44\n",
      "zg0_22: 100\n",
      "zg1_22: 284\n",
      "zg2_22: 1\n",
      "zg3_22: 1\n",
      "tt_22: 0\n",
      "zz_22: 0\n",
      "ww_22: 1\n",
      "wz_22: 1\n",
      "dy_22: 4\n",
      "\n",
      "For barrel:\n",
      "data: 30\n",
      "zg0_22: 57\n",
      "zg1_22: 77\n",
      "zg2_22: 0\n",
      "zg3_22: 0\n",
      "tt_22: 2\n",
      "zz_22: 0\n",
      "ww_22: 0\n",
      "wz_22: 0\n",
      "dy_22: 2\n"
     ]
    }
   ],
   "source": [
    "\n",
    "# 定义一个函数来计算endcap和barrel的事件数\n",
    "def count_events(key, condition_key):\n",
    "    if key not in event_D:\n",
    "        return 0\n",
    "    if condition_key not in event_D[key]:\n",
    "        return 0\n",
    "    if len(event_D[key][condition_key]) == 0:\n",
    "        return 0\n",
    "    return ak.sum(event_D[key][condition_key])\n",
    "    # return ak.sum(ak.flatten(event_D[key][condition_key]))\n",
    "\n",
    "# 用于保存endcap和barrel的事件数的字典\n",
    "endcap_counts = {}\n",
    "barrel_counts = {}\n",
    "print(\"Total events:\")\n",
    "for key in keys:\n",
    "    print(f\"{key}:\", len(event_D[key]['photon_pt']))\n",
    "\n",
    "print(\"\\nFor endcap:\")\n",
    "for key in keys:\n",
    "    count = count_events(key, 'photon_endcap')\n",
    "    print(f\"{key}:\", count)\n",
    "    endcap_counts[key] = count  # 保存到字典中\n",
    "\n",
    "print(\"\\nFor barrel:\")\n",
    "for key in keys:\n",
    "    count = count_events(key, 'photon_barrel')\n",
    "    print(f\"{key}:\", count)\n",
    "    barrel_counts[key] = count  # 保存到字典中\n",
    "\n",
    "# 将事件数保存到特定的变量中\n",
    "for key in keys:\n",
    "    vars()['D_' + key + '_endcap'] = endcap_counts[key]\n",
    "    vars()['D_' + key + '_barrel'] = barrel_counts[key]\n"
   ]
  },
  {
   "cell_type": "markdown",
   "metadata": {},
   "source": [
    "# Method using NA_dataset"
   ]
  },
  {
   "cell_type": "markdown",
   "metadata": {},
   "source": [
    "### DY & R"
   ]
  },
  {
   "cell_type": "code",
   "execution_count": 39,
   "metadata": {},
   "outputs": [
    {
     "name": "stdout",
     "output_type": "stream",
     "text": [
      "R_endcap 1.6736111111111112\n",
      "R_barrel 1.3462732919254659\n"
     ]
    }
   ],
   "source": [
    "R_endcap = A_dy_22_endcap * D_dy_22_endcap / B_dy_22_endcap / C_dy_22_endcap\n",
    "# D_dy_22_barrel = 1\n",
    "R_barrel = A_dy_22_barrel * D_dy_22_barrel / B_dy_22_barrel / C_dy_22_barrel\n",
    "\n",
    "print('R_endcap',R_endcap)\n",
    "print('R_barrel',R_barrel)"
   ]
  },
  {
   "cell_type": "code",
   "execution_count": 40,
   "metadata": {},
   "outputs": [
    {
     "data": {
      "text/plain": [
       "1263.8760148601127"
      ]
     },
     "execution_count": 40,
     "metadata": {},
     "output_type": "execute_result"
    }
   ],
   "source": [
    "1112 * XSEC[\"dy_22\"] * LUMI['2022CD'] * 1e3 / ak.sum(np.sign(event_A[\"dy_22\"]['event_weight']))"
   ]
  },
  {
   "cell_type": "markdown",
   "metadata": {},
   "source": [
    "### cc,cb,cd"
   ]
  },
  {
   "cell_type": "code",
   "execution_count": 43,
   "metadata": {},
   "outputs": [
    {
     "name": "stdout",
     "output_type": "stream",
     "text": [
      "A_prompt_barrel 2241.723553529841\n",
      "A_bkg_prompt_barrel 37.23226176867323\n",
      "A_prompt_endcap 555.7891952529843\n",
      "A_bkg_prompt_endcap 8.15311812748058\n",
      "B_prompt_barrel 568.7590895294487\n",
      "B_bkg_prompt_barrel 12.218723887438783\n",
      "B_prompt_endcap 141.23922403542588\n",
      "B_bkg_prompt_endcap 2.5824938211550506\n",
      "C_prompt_barrel 10.061034662591602\n",
      "C_bkg_prompt_barrel 0.09699947273332568\n",
      "C_prompt_endcap 18.325749257194545\n",
      "C_bkg_prompt_endcap 0.4029782364014958\n",
      "D_prompt_barrel 3.1224570880997398\n",
      "D_bkg_prompt_barrel 0.06466631515555046\n",
      "D_prompt_endcap 5.739681490291919\n",
      "D_bkg_prompt_endcap 0.1166290501133194\n"
     ]
    }
   ],
   "source": [
    "LUMI = {\"2022FG\": 21.6,\"2022EFG\": 39.22,\"2022EG\": 9.0,\"2022CD\":7.87}\n",
    "XSEC = {\n",
    "    # unit is pb^-1\n",
    "    'zg0_22': 124.6,\n",
    "    'zg1_22': 1.74,#27.11\n",
    "    'zg2_22': 0.30,#0.88,\n",
    "    'zg3_22': 0.042,#0.073,\n",
    "    'tt_22': 96.9,#101.78,\n",
    "    'ww_22': 116.8,#80.27,\n",
    "    'wz_22': 54.3,#29.14,\n",
    "    'zz_22': 16.7,#12.83,\n",
    "    'dy_22': 6346.0,\n",
    "}\n",
    "\n",
    "\n",
    "def compute_truenum(event, region, suffix, LUMI, XSEC, considered_keys):\n",
    "    truenum_dict = {}\n",
    "    for key in considered_keys:\n",
    "        variable_name = f\"{region}_{key}_{suffix}\"  # 如 A_zg0_barrel\n",
    "        event_count = globals()[variable_name]\n",
    "        truenum_dict[key] = event_count * XSEC[key] * LUMI['2022CD'] * 1e3 / ak.sum(np.sign(event[key]['event_weight']))\n",
    "    return truenum_dict\n",
    "\n",
    "list0 = ['zg0_22','zg1_22','zg2_22','zg3_22']\n",
    "list1 = [\"tt_22\", \"ww_22\", \"wz_22\", \"zz_22\"]\n",
    "\n",
    "\n",
    "# considered_keys = [i for i in XSEC if (i != 'data') & (i != 'dy') & (i != 'zg')]\n",
    "considered_keys = [i for i in XSEC]\n",
    "# For A:\n",
    "A_truenum_barrel = compute_truenum(event_A, \"A\", \"barrel\", LUMI, XSEC, considered_keys)\n",
    "A_truenum_endcap = compute_truenum(event_A, \"A\", \"endcap\", LUMI, XSEC, considered_keys)\n",
    "\n",
    "# A_prompt_barrel = sum(abs(A_truenum_barrel[key]) for key in considered_keys)\n",
    "A_prompt_barrel = sum(abs(A_truenum_barrel[key]) for key in list0)\n",
    "A_bkg_prompt_barrel = sum(abs(A_truenum_barrel[key]) for key in list1)\n",
    "A_prompt_endcap = sum(abs(A_truenum_endcap[key]) for key in list0)\n",
    "A_bkg_prompt_endcap = sum(abs(A_truenum_endcap[key]) for key in list1)\n",
    "\n",
    "print('A_prompt_barrel', A_prompt_barrel)\n",
    "print('A_bkg_prompt_barrel', A_bkg_prompt_barrel)\n",
    "print('A_prompt_endcap', A_prompt_endcap)\n",
    "print('A_bkg_prompt_endcap', A_bkg_prompt_endcap)\n",
    "\n",
    "# For A:\n",
    "B_truenum_barrel = compute_truenum(event_B, \"B\", \"barrel\", LUMI, XSEC, considered_keys)\n",
    "B_truenum_endcap = compute_truenum(event_B, \"B\", \"endcap\", LUMI, XSEC, considered_keys)\n",
    "\n",
    "B_prompt_barrel = sum(abs(B_truenum_barrel[key]) for key in list0)\n",
    "B_bkg_prompt_barrel = sum(abs(B_truenum_barrel[key]) for key in list1)\n",
    "B_prompt_endcap = sum(abs(B_truenum_endcap[key]) for key in list0)\n",
    "B_bkg_prompt_endcap = sum(abs(B_truenum_endcap[key]) for key in list1)\n",
    "\n",
    "print('B_prompt_barrel', B_prompt_barrel)\n",
    "print('B_bkg_prompt_barrel', B_bkg_prompt_barrel)\n",
    "print('B_prompt_endcap', B_prompt_endcap)\n",
    "print('B_bkg_prompt_endcap', B_bkg_prompt_endcap)\n",
    "\n",
    "\n",
    "# For A:\n",
    "C_truenum_barrel = compute_truenum(event_C, \"C\", \"barrel\", LUMI, XSEC, considered_keys)\n",
    "C_truenum_endcap = compute_truenum(event_C, \"C\", \"endcap\", LUMI, XSEC, considered_keys)\n",
    "\n",
    "C_prompt_barrel = sum(abs(C_truenum_barrel[key]) for key in list0)\n",
    "C_bkg_prompt_barrel = sum(abs(C_truenum_barrel[key]) for key in list1)\n",
    "C_prompt_endcap = sum(abs(C_truenum_endcap[key]) for key in list0)\n",
    "C_bkg_prompt_endcap = sum(abs(C_truenum_endcap[key]) for key in list1)\n",
    "\n",
    "print('C_prompt_barrel', C_prompt_barrel)\n",
    "print('C_bkg_prompt_barrel', C_bkg_prompt_barrel)\n",
    "print('C_prompt_endcap', C_prompt_endcap)\n",
    "print('C_bkg_prompt_endcap', C_bkg_prompt_endcap)\n",
    "\n",
    "# For A:\n",
    "D_truenum_barrel = compute_truenum(event_D, \"D\", \"barrel\", LUMI, XSEC, considered_keys)\n",
    "D_truenum_endcap = compute_truenum(event_D, \"D\", \"endcap\", LUMI, XSEC, considered_keys)\n",
    "\n",
    "D_prompt_barrel = sum(abs(D_truenum_barrel[key]) for key in list0)\n",
    "D_bkg_prompt_barrel = sum(abs(D_truenum_barrel[key]) for key in list1)\n",
    "\n",
    "D_prompt_endcap = sum(abs(D_truenum_endcap[key]) for key in list0)\n",
    "D_bkg_prompt_endcap = sum(abs(D_truenum_endcap[key]) for key in list1)\n",
    "\n",
    "print('D_prompt_barrel', D_prompt_barrel)\n",
    "print('D_bkg_prompt_barrel', D_bkg_prompt_barrel)\n",
    "print('D_prompt_endcap', D_prompt_endcap)\n",
    "print('D_bkg_prompt_endcap', D_bkg_prompt_endcap)"
   ]
  },
  {
   "cell_type": "code",
   "execution_count": 44,
   "metadata": {},
   "outputs": [
    {
     "name": "stdout",
     "output_type": "stream",
     "text": [
      "A_bkg_prompt_barrel 37.23226176867323\n",
      "B_bkg_prompt_barrel 12.218723887438783\n",
      "C_bkg_prompt_barrel 0.09699947273332568\n",
      "D_bkg_prompt_barrel 0.06466631515555046\n",
      "A_bkg_prompt_endcap 8.15311812748058\n",
      "B_bkg_prompt_endcap 2.5824938211550506\n",
      "C_bkg_prompt_endcap 0.4029782364014958\n",
      "D_bkg_prompt_endcap 0.1166290501133194\n"
     ]
    }
   ],
   "source": [
    "print('A_bkg_prompt_barrel', A_bkg_prompt_barrel)\n",
    "print('B_bkg_prompt_barrel', B_bkg_prompt_barrel)\n",
    "print('C_bkg_prompt_barrel', C_bkg_prompt_barrel)\n",
    "print('D_bkg_prompt_barrel', D_bkg_prompt_barrel)\n",
    "\n",
    "print('A_bkg_prompt_endcap', A_bkg_prompt_endcap)\n",
    "print('B_bkg_prompt_endcap', B_bkg_prompt_endcap)\n",
    "print('C_bkg_prompt_endcap', C_bkg_prompt_endcap)\n",
    "print('D_bkg_prompt_endcap', D_bkg_prompt_endcap)"
   ]
  },
  {
   "cell_type": "code",
   "execution_count": 45,
   "metadata": {},
   "outputs": [
    {
     "name": "stdout",
     "output_type": "stream",
     "text": [
      "c_B_barrel 0.25371508838985735\n",
      "c_C_barrel 0.00448808000734497\n",
      "c_D_barrel 0.0013928823128896007\n",
      "c_B_endcap 0.25412373115878323\n",
      "c_C_endcap 0.03297248203764203\n",
      "c_D_endcap 0.010327083612482479\n"
     ]
    }
   ],
   "source": [
    "c_B_barrel = B_prompt_barrel/A_prompt_barrel\n",
    "c_C_barrel = C_prompt_barrel/A_prompt_barrel\n",
    "c_D_barrel = D_prompt_barrel/A_prompt_barrel\n",
    "\n",
    "print('c_B_barrel', c_B_barrel)\n",
    "print('c_C_barrel', c_C_barrel)\n",
    "print('c_D_barrel', c_D_barrel)\n",
    "\n",
    "c_B_endcap = B_prompt_endcap/A_prompt_endcap\n",
    "c_C_endcap = C_prompt_endcap/A_prompt_endcap\n",
    "c_D_endcap = D_prompt_endcap/A_prompt_endcap\n",
    "\n",
    "print('c_B_endcap', c_B_endcap)\n",
    "print('c_C_endcap', c_C_endcap)\n",
    "print('c_D_endcap', c_D_endcap)"
   ]
  },
  {
   "cell_type": "markdown",
   "metadata": {},
   "source": [
    "## data"
   ]
  },
  {
   "cell_type": "code",
   "execution_count": 46,
   "metadata": {},
   "outputs": [
    {
     "name": "stdout",
     "output_type": "stream",
     "text": [
      "A_data_barrel 1599\n",
      "B_data_barrel 1691\n",
      "C_data_barrel 11\n",
      "D_data_barrel 30\n",
      "A_data_endcap 426\n",
      "B_data_endcap 246\n",
      "C_data_endcap 16\n",
      "D_data_endcap 44\n"
     ]
    }
   ],
   "source": [
    "print('A_data_barrel',A_data_barrel)\n",
    "print('B_data_barrel',B_data_barrel)\n",
    "print('C_data_barrel',C_data_barrel)\n",
    "print('D_data_barrel',D_data_barrel)\n",
    "print('A_data_endcap',A_data_endcap)\n",
    "print('B_data_endcap',B_data_endcap)\n",
    "print('C_data_endcap',C_data_endcap)\n",
    "print('D_data_endcap',D_data_endcap)"
   ]
  },
  {
   "cell_type": "markdown",
   "metadata": {},
   "source": [
    "### calculate NA(nonprompt)"
   ]
  },
  {
   "cell_type": "code",
   "execution_count": 53,
   "metadata": {},
   "outputs": [
    {
     "name": "stdout",
     "output_type": "stream",
     "text": [
      "NA_prompt_barrel = -131405.669350307\n",
      "NA_prompt_barrel = 1200.90211771034\n",
      "NA_prompt_endcap = -8015.52130615924\n",
      "NA_prompt_endcap = 404.440281521520\n"
     ]
    }
   ],
   "source": [
    "### ----------------------  MUON --------\n",
    "\n",
    "import sympy as sp\n",
    "\n",
    "# 定义变量\n",
    "NA_prompt, NA, NA_bkg, R, NB, cB, NA_prompt, NB_bkg, NC, cC, ND, cD, NC_bkg, ND_bkg = sp.symbols('NA_prompt NA NA_bkg R NB cB NA_prompt NB_bkg NC cC ND cD NC_bkg ND_bkg')\n",
    "\n",
    "# 根据公式【1】定义方程\n",
    "equation = sp.Eq(NA_prompt, NA - NA_bkg - R * (NB - cB * NA_prompt - NB_bkg) * (NC - cC * NA_prompt - NC_bkg) / (ND - cD * NA_prompt - ND_bkg))\n",
    "\n",
    "\n",
    "# 已知的值\n",
    "values_barrel = {\n",
    "    NA: 1599,  # A_data\n",
    "    R: 1.3462732919254659,  # \n",
    "    NB: 1691,  # B_data\n",
    "    cB: 0.25371508838985735,  # \n",
    "    NC: 11,  # C_data\n",
    "    cC: 0.00448808000734497,  # \n",
    "    ND: 30,  # D_data\n",
    "    cD: 0.0013928823128896007,  # \n",
    "    NA_bkg: 37.23226176867323,\n",
    "    NB_bkg: 12.218723887438783,  \n",
    "    NC_bkg: 0.09699947273332568,  \n",
    "    ND_bkg: 0.06466631515555046,  \n",
    "}\n",
    "\n",
    "\n",
    "# 解方程\n",
    "solution = sp.solve(equation.subs(values_barrel), NA_prompt)\n",
    "\n",
    "# 输出解\n",
    "print(f\"NA_prompt_barrel = {solution[0]}\")\n",
    "print(f\"NA_prompt_barrel = {solution[1]}\")\n",
    "NA_prompt_barrel = solution[1]\n",
    "\n",
    "\n",
    "values_endcap = {\n",
    "    NA: 426,  # A_data\n",
    "    R: 1.6736111111111112,  \n",
    "    NB: 246,  # B_data\n",
    "    cB: 0.25412373115878323,  # \n",
    "    NC: 16,  # C_data\n",
    "    cC: 0.03297248203764203,  # \n",
    "    ND: 44,  # D_data\n",
    "    cD: 0.010327083612482479,  # \n",
    "    NA_bkg: 8.15311812748058,\n",
    "    NB_bkg: 2.5824938211550506,  # \n",
    "    NC_bkg: 0.4029782364014958,  # \n",
    "    ND_bkg: 0.1166290501133194,  # \n",
    "}\n",
    "# 解方程\n",
    "solution = sp.solve(equation.subs(values_endcap), NA_prompt)\n",
    "\n",
    "# 输出解\n",
    "print(f\"NA_prompt_endcap = {solution[0]}\")\n",
    "print(f\"NA_prompt_endcap = {solution[1]}\")\n",
    "NA_prompt_endcap = solution[1]\n",
    "\n"
   ]
  },
  {
   "cell_type": "code",
   "execution_count": 54,
   "metadata": {},
   "outputs": [
    {
     "name": "stdout",
     "output_type": "stream",
     "text": [
      "N_nonprompt_barrel =  360.865620520985\n",
      "N_nonprompt_endcap =  13.4066003509992\n"
     ]
    }
   ],
   "source": [
    "N_nonprompt_barrel = A_data_barrel - A_bkg_prompt_barrel - NA_prompt_barrel\n",
    "N_nonprompt_endcap = A_data_endcap - A_bkg_prompt_endcap - NA_prompt_endcap\n",
    "\n",
    "print('N_nonprompt_barrel = ',N_nonprompt_barrel)\n",
    "print('N_nonprompt_endcap = ',N_nonprompt_endcap)"
   ]
  },
  {
   "cell_type": "code",
   "execution_count": 55,
   "metadata": {},
   "outputs": [
    {
     "name": "stdout",
     "output_type": "stream",
     "text": [
      "NA_prompt_barrel = -147.695254888733\n",
      "NA_prompt_barrel = 753.999236511238\n",
      "NA_prompt_endcap = -219.729238576951\n",
      "NA_prompt_endcap = 173.963161110441\n"
     ]
    }
   ],
   "source": [
    "### ----------------------  ELE --------\n",
    "import sympy as sp\n",
    "\n",
    "# 定义变量\n",
    "NA_prompt, NA, NA_bkg, R, NB, cB, NA_prompt, NB_bkg, NC, cC, ND, cD, NC_bkg, ND_bkg = sp.symbols('NA_prompt NA NA_bkg R NB cB NA_prompt NB_bkg NC cC ND cD NC_bkg ND_bkg')\n",
    "\n",
    "# 根据公式【1】定义方程\n",
    "equation = sp.Eq(NA_prompt, NA - NA_bkg - R * (NB - cB * NA_prompt - NB_bkg) * (NC - cC * NA_prompt - NC_bkg) / (ND - cD * NA_prompt - ND_bkg))\n",
    "\n",
    "# 已知的值\n",
    "values_barrel = {\n",
    "    NA: 1284,  # A_data \n",
    "    R: 1,  # 0\n",
    "    NB: 1234,  # B_data\n",
    "    cB: 1.8217523765018677,  # \n",
    "    NC: 12,  # C_data\n",
    "    cC: 0.06640036970456702,  # \n",
    "    ND: 21,  # D_data\n",
    "    cD: 0.012617905913563331,  # \n",
    "    NA_bkg: 28.169547659446664,\n",
    "    NB_bkg: 8.650767050388101,  \n",
    "    NC_bkg: 0.4383922685341407,  \n",
    "    ND_bkg: 0.11121557012904591,  \n",
    "}\n",
    "\n",
    "\n",
    "# 解方程\n",
    "solution = sp.solve(equation.subs(values_barrel), NA_prompt)\n",
    "\n",
    "# 输出解\n",
    "print(f\"NA_prompt_barrel = {solution[0]}\")\n",
    "print(f\"NA_prompt_barrel = {solution[1]}\")\n",
    "NA_prompt_barrel = solution[1]\n",
    "\n",
    "\n",
    "values_endcap = {\n",
    "    NA: 259,  # A_data\n",
    "    R: 1,  #10.227272727272727\n",
    "    NB: 186,  # B_data\n",
    "    cB: 1.4595056891498097,  # \n",
    "    NC: 11,  # C_data\n",
    "    cC: 0.19714020497038526,  # \n",
    "    ND: 37,  # D_data\n",
    "    cD: 0.09450407437661776,  # \n",
    "    NA_bkg: 5.0185361399050725,\n",
    "    NB_bkg: 1.809650732949314,  # \n",
    "    NC_bkg: 0.2026554209154498,  # \n",
    "    ND_bkg: 0.0891072453570001,  # \n",
    "}\n",
    "# 解方程\n",
    "solution = sp.solve(equation.subs(values_endcap), NA_prompt)\n",
    "\n",
    "# 输出解\n",
    "print(f\"NA_prompt_endcap = {solution[0]}\")\n",
    "print(f\"NA_prompt_endcap = {solution[1]}\")\n",
    "NA_prompt_endcap = solution[1]\n",
    "\n"
   ]
  },
  {
   "cell_type": "code",
   "execution_count": 27,
   "metadata": {},
   "outputs": [
    {
     "name": "stdout",
     "output_type": "stream",
     "text": [
      "N_nonprompt_barrel =  501.831215829316\n",
      "N_nonprompt_endcap =  80.0183027496542\n"
     ]
    }
   ],
   "source": [
    "N_nonprompt_barrel = A_data_barrel - A_bkg_prompt_barrel - NA_prompt_barrel\n",
    "N_nonprompt_endcap = A_data_endcap - A_bkg_prompt_endcap - NA_prompt_endcap\n",
    "\n",
    "print('N_nonprompt_barrel = ',N_nonprompt_barrel)\n",
    "print('N_nonprompt_endcap = ',N_nonprompt_endcap)"
   ]
  },
  {
   "cell_type": "code",
   "execution_count": null,
   "metadata": {},
   "outputs": [],
   "source": []
  },
  {
   "cell_type": "code",
   "execution_count": 24,
   "metadata": {},
   "outputs": [
    {
     "name": "stdout",
     "output_type": "stream",
     "text": [
      "NA_prompt uncertainty = 0\n",
      "N_nonprompt uncertainty = 52.9517414255660\n",
      "NA_nonprompt = 1112.24095050912\n"
     ]
    }
   ],
   "source": [
    "import sympy as sp\n",
    "\n",
    "# 定义变量\n",
    "NA_prompt, NA, NA_bkg, R, NB, cB, NC, cC, ND, cD, NB_bkg, NC_bkg, ND_bkg = sp.symbols('NA_prompt NA NA_bkg R NB cB NC cC ND cD NB_bkg NC_bkg ND_bkg')\n",
    "\n",
    "# 根据公式【1】定义方程\n",
    "equation = sp.Eq(NA_prompt, NA - NA_bkg - R * (NB - cB * NA_prompt - NB_bkg) * (NC - cC * NA_prompt - NC_bkg) / (ND - cD * NA_prompt - ND_bkg))\n",
    "\n",
    "# # 已知的值\n",
    "# values = {\n",
    "#     NA: 4103,  # A_data\n",
    "#     R: 1.157,  # \n",
    "#     NB: 4007,  # B_data\n",
    "#     cB: 0.268,  # \n",
    "#     NC: 107,  # C_data\n",
    "#     cC: 0.0035,  # \n",
    "#     ND: 279,  # D_data\n",
    "#     cD: 0.0013,  # \n",
    "#     NA_bkg: 263.0754951199856,\n",
    "#     NB_bkg: 64.41697392770189,  # B_dy\n",
    "#     NC_bkg: 3.5464861774302974,  # C_dy\n",
    "#     ND_bkg: 1.1569442372019945,  # D_dy\n",
    "# }\n",
    "\n",
    "# 已知的值\n",
    "values_barrel = {\n",
    "    NA: 2621,  # A_data\n",
    "    R: 1.3210,  # \n",
    "    NB: 2415,  # B_data\n",
    "    cB: 0.28579264766901313,  # \n",
    "    NC: 20,  # C_data\n",
    "    cC: 0.007219130190589022,  # \n",
    "    ND: 34,  # D_data\n",
    "    cD: 0.0008892123680511543,  # \n",
    "    NA_bkg: 182.88692,\n",
    "    NB_bkg: 45.410448625775594,  \n",
    "    NC_bkg: 0.7525415693858519,  \n",
    "    ND_bkg: 0.18241031668551638,  \n",
    "}\n",
    "\n",
    "values_endcap = {\n",
    "    NA: 1471,  # A_data\n",
    "    R: 1.177103,  \n",
    "    NB: 1574,  # B_data\n",
    "    cB: 0.2735580021848148,  # \n",
    "    NC: 87,  # C_data\n",
    "    cC: 0.024829216269293436,  # \n",
    "    ND: 245,  # D_data\n",
    "    cD: 0.013236878607708733,  # \n",
    "    NA_bkg: 78.75595088454901,\n",
    "    NB_bkg: 18.845132891691144,  # B_dy\n",
    "    NC_bkg: 2.793944608044445,  # C_dy\n",
    "    ND_bkg: 0.9745339205164781,  # D_dy\n",
    "}\n",
    "\n",
    "# 解方程得到NA_prompt的值\n",
    "NA_prompt_value = sp.solve(equation.subs(values_barrel), NA_prompt)[0]\n",
    "\n",
    "# 计算公式【1】中每个变量的偏导数\n",
    "partial_derivatives = {\n",
    "    var: equation.lhs.diff(var) for var in [R, NB, cB, NC, cC, ND, cD]\n",
    "}\n",
    "\n",
    "# 计算每个变量的不确定度\n",
    "uncertainties = {\n",
    "    R: 0.2845 * values_barrel[R],\n",
    "    NB: sp.sqrt(values_barrel[NB]),\n",
    "    cB: sp.sqrt((sp.sqrt(NB)/NB)**2 + (sp.sqrt(NA)/NA)**2).subs(values_barrel),\n",
    "    NC: sp.sqrt(values_barrel[NC]),\n",
    "    cC: sp.sqrt((sp.sqrt(NC)/NC)**2 + (sp.sqrt(NC)/NC)**2).subs(values_barrel),\n",
    "    ND: sp.sqrt(values_barrel[ND]),\n",
    "    cD: sp.sqrt((sp.sqrt(ND)/ND)**2 + (sp.sqrt(ND)/ND)**2).subs(values_barrel),\n",
    "}\n",
    "\n",
    "# 使用误差传递公式计算NA_prompt的不确定度\n",
    "sigma_NA_prompt_squared = sum([\n",
    "    (partial_derivatives[var].subs(NA_prompt, NA_prompt_value) * uncertainties[var])**2 for var in partial_derivatives\n",
    "])\n",
    "\n",
    "sigma_NA_prompt = sp.sqrt(sigma_NA_prompt_squared)\n",
    "\n",
    "# 使用公式【2】计算N_nonprompt的不确定度\n",
    "sigma_N_nonprompt = sp.sqrt(values_barrel[NA] + values_barrel[NA_bkg] + sigma_NA_prompt**2)\n",
    "\n",
    "print(f\"NA_prompt uncertainty = {sigma_NA_prompt}\")\n",
    "print(f\"N_nonprompt uncertainty = {sigma_N_nonprompt}\")\n",
    "\n",
    "# 解方程\n",
    "solution = sp.solve(equation.subs(values_barrel), NA_prompt)\n",
    "\n",
    "# 输出解\n",
    "# print(f\"NA_prompt = {solution[0]}\")\n",
    "# print(f\"NA_prompt = {solution[1]}\")\n",
    "NA_prompt = solution[1]\n",
    "N_nonprompt = A_data_barrel - A_bkg_prompt_barrel - NA_prompt\n",
    "print(\"NA_nonprompt =\",N_nonprompt)\n"
   ]
  },
  {
   "cell_type": "code",
   "execution_count": 27,
   "metadata": {},
   "outputs": [
    {
     "name": "stdout",
     "output_type": "stream",
     "text": [
      "NA_prompt uncertainty = 0\n",
      "N_nonprompt uncertainty = 39.3669398211818\n",
      "NA_nonprompt = 324.161701802574\n"
     ]
    }
   ],
   "source": [
    "import sympy as sp\n",
    "\n",
    "# 定义变量\n",
    "NA_prompt, NA, NA_bkg, R, NB, cB, NC, cC, ND, cD, NB_bkg, NC_bkg, ND_bkg = sp.symbols('NA_prompt NA NA_bkg R NB cB NC cC ND cD NB_bkg NC_bkg ND_bkg')\n",
    "\n",
    "# 根据公式【1】定义方程\n",
    "equation = sp.Eq(NA_prompt, NA - NA_bkg - R * (NB - cB * NA_prompt - NB_bkg) * (NC - cC * NA_prompt - NC_bkg) / (ND - cD * NA_prompt - ND_bkg))\n",
    "\n",
    "\n",
    "values_endcap = {\n",
    "    NA: 1471,  # A_data\n",
    "    R: 1.177103,  \n",
    "    NB: 1574,  # B_data\n",
    "    cB: 0.2668905,  # \n",
    "    NC: 87,  # C_data\n",
    "    cC: 0.0319460,  # \n",
    "    ND: 245,  # D_data\n",
    "    cD: 0.012202605,  # \n",
    "    NA_bkg: 78.75595088454901,\n",
    "    NB_bkg: 18.845132891691144,  # B_dy\n",
    "    NC_bkg: 2.793944608044445,  # C_dy\n",
    "    ND_bkg: 0.9745339205164781,  # D_dy\n",
    "}\n",
    "\n",
    "# 解方程得到NA_prompt的值\n",
    "NA_prompt_value = sp.solve(equation.subs(values_endcap), NA_prompt)[0]\n",
    "\n",
    "# 计算公式【1】中每个变量的偏导数\n",
    "partial_derivatives = {\n",
    "    var: equation.lhs.diff(var) for var in [R, NB, cB, NC, cC, ND, cD]\n",
    "}\n",
    "\n",
    "# 计算每个变量的不确定度\n",
    "uncertainties = {\n",
    "    R: 0.2845 * values_endcap[R],\n",
    "    NB: sp.sqrt(values_endcap[NB]),\n",
    "    cB: sp.sqrt((sp.sqrt(NB)/NB)**2 + (sp.sqrt(NA)/NA)**2).subs(values_endcap),\n",
    "    NC: sp.sqrt(values_endcap[NC]),\n",
    "    cC: sp.sqrt((sp.sqrt(NC)/NC)**2 + (sp.sqrt(NC)/NC)**2).subs(values_endcap),\n",
    "    ND: sp.sqrt(values_endcap[ND]),\n",
    "    cD: sp.sqrt((sp.sqrt(ND)/ND)**2 + (sp.sqrt(ND)/ND)**2).subs(values_endcap),\n",
    "}\n",
    "\n",
    "# 使用误差传递公式计算NA_prompt的不确定度\n",
    "sigma_NA_prompt_squared = sum([\n",
    "    (partial_derivatives[var].subs(NA_prompt, NA_prompt_value) * uncertainties[var])**2 for var in partial_derivatives\n",
    "])\n",
    "\n",
    "sigma_NA_prompt = sp.sqrt(sigma_NA_prompt_squared)\n",
    "\n",
    "# 使用公式【2】计算N_nonprompt的不确定度\n",
    "sigma_N_nonprompt = sp.sqrt(values_endcap[NA] + values_endcap[NA_bkg] + sigma_NA_prompt**2)\n",
    "\n",
    "print(f\"NA_prompt uncertainty = {sigma_NA_prompt}\")\n",
    "print(f\"N_nonprompt uncertainty = {sigma_N_nonprompt}\")\n",
    "\n",
    "# 解方程\n",
    "solution = sp.solve(equation.subs(values_endcap), NA_prompt)\n",
    "\n",
    "# 输出解\n",
    "NA_prompt = solution[0]\n",
    "N_nonprompt = A_data_endcap - A_bkg_prompt_endcap - NA_prompt\n",
    "print(\"NA_nonprompt =\",N_nonprompt)\n"
   ]
  },
  {
   "cell_type": "markdown",
   "metadata": {},
   "source": [
    "### 老结果副本"
   ]
  },
  {
   "cell_type": "code",
   "execution_count": null,
   "metadata": {},
   "outputs": [],
   "source": [
    "import sympy as sp\n",
    "\n",
    "# 定义变量\n",
    "NA_prompt, NA, NA_bkg, R, NB, cB, NA_prompt, NB_bkg, NC, cC, ND, cD, NC_bkg, ND_bkg = sp.symbols('NA_prompt NA NA_bkg R NB cB NA_prompt NB_bkg NC cC ND cD NC_bkg ND_bkg')\n",
    "\n",
    "# 根据公式【1】定义方程\n",
    "equation = sp.Eq(NA_prompt, NA - NA_bkg - R * (NB - cB * NA_prompt - NB_bkg) * (NC - cC * NA_prompt - NC_bkg) / (ND - cD * NA_prompt - ND_bkg))\n",
    "\n",
    "# 已知的值\n",
    "values_barrel = {\n",
    "    NA: 2621,  # A_data\n",
    "    R: 1.3210,  # \n",
    "    NB: 2415,  # B_data\n",
    "    cB: 0.264648770,  # \n",
    "    NC: 20,  # C_data\n",
    "    cC: 0.0043251,  # \n",
    "    ND: 34,  # D_data\n",
    "    cD: 0.0010703,  # \n",
    "    NA_bkg: 182.88692,\n",
    "    NB_bkg: 45.410448625775594,  \n",
    "    NC_bkg: 0.7525415693858519,  \n",
    "    ND_bkg: 0.18241031668551638,  \n",
    "}\n",
    "\n",
    "\n",
    "# 解方程\n",
    "solution = sp.solve(equation.subs(values_barrel), NA_prompt)\n",
    "\n",
    "# 输出解\n",
    "print(f\"NA_prompt_barrel = {solution[0]}\")\n",
    "print(f\"NA_prompt_barrel = {solution[1]}\")\n",
    "NA_prompt_barrel = solution[1]\n",
    "\n",
    "values_endcap = {\n",
    "    NA: 1471,  # A_data\n",
    "    R: 1.177103,  \n",
    "    NB: 1574,  # B_data\n",
    "    cB: 0.2668905,  # \n",
    "    NC: 87,  # C_data\n",
    "    cC: 0.0319460,  # \n",
    "    ND: 245,  # D_data\n",
    "    cD: 0.012202605,  # \n",
    "    NA_bkg: 78.75595088454901,\n",
    "    NB_bkg: 18.845132891691144,  # B_dy\n",
    "    NC_bkg: 2.793944608044445,  # C_dy\n",
    "    ND_bkg: 0.9745339205164781,  # D_dy\n",
    "}\n",
    "# 解方程\n",
    "solution = sp.solve(equation.subs(values_endcap), NA_prompt)\n",
    "\n",
    "# 输出解\n",
    "print(f\"NA_prompt_endcap = {solution[0]}\")\n",
    "print(f\"NA_prompt_endcap = {solution[1]}\")\n",
    "NA_prompt_endcap = solution[0]\n",
    "\n"
   ]
  },
  {
   "cell_type": "markdown",
   "metadata": {},
   "source": [
    "## 老版本：整体"
   ]
  },
  {
   "cell_type": "markdown",
   "metadata": {},
   "source": [
    "### A"
   ]
  },
  {
   "cell_type": "code",
   "execution_count": null,
   "metadata": {},
   "outputs": [
    {
     "name": "stdout",
     "output_type": "stream",
     "text": [
      "A_data 4103\n",
      "A_zg0 92130\n",
      "A_zg1 1081280\n",
      "A_zg2 27236\n",
      "A_zg3 30551\n",
      "A_tt 1430\n",
      "A_zz 197\n",
      "A_wz 4660\n",
      "A_ww 184\n"
     ]
    }
   ],
   "source": [
    "# 合并key\n",
    "data_keys = [\"dataF\", \"dataG\"]\n",
    "event_A[\"data_endcap\"] = {}\n",
    "event_A[\"data_barrel\"] = {}\n",
    "\n",
    "info_keys = list(event_A[\"dataF\"].keys())\n",
    "\n",
    "# 遍历每个信息键\n",
    "for info_key in info_keys:\n",
    "    # 从 event_final 中提取 \"data1\", \"data2\", \"data3\", \"data4\" 这四个 key 的数据\n",
    "    data_to_concatenate = [event_A[data_key][info_key] for data_key in data_keys]\n",
    "\n",
    "    # 使用 ak.concatenate 将数据连接在一起\n",
    "    event_A[\"data\"][info_key] = ak.concatenate(data_to_concatenate)\n",
    "\n",
    "# data_keys = [\"zg0\", \"zg1\",\"zg2\",\"zg3\"]\n",
    "# event_A[\"zg\"] = {}\n",
    "\n",
    "# info_keys = list(event_A[\"zg0\"].keys())\n",
    "\n",
    "# # 遍历每个信息键\n",
    "# for info_key in info_keys:\n",
    "#     # 从 event_final 中提取 \"data1\", \"data2\", \"data3\", \"data4\" 这四个 key 的数据\n",
    "#     data_to_concatenate = [event_A[data_key][info_key] for data_key in data_keys]\n",
    "\n",
    "#     # 使用 ak.concatenate 将数据连接在一起\n",
    "#     event_A[\"zg\"][info_key] = ak.concatenate(data_to_concatenate)\n",
    "\n",
    "del event_A[\"dataF\"]\n",
    "del event_A[\"dataG\"]\n",
    "# del event_A[\"zg0\"]\n",
    "# del event_A[\"zg1\"]\n",
    "# del event_A[\"zg2\"]\n",
    "# del event_A[\"zg3\"]\n",
    "print('A_data',len(event_A['data']['photon_pt']))\n",
    "print('A_zg0',len(event_A['zg0']['photon_pt']))\n",
    "print('A_zg1',len(event_A['zg1']['photon_pt']))\n",
    "print('A_zg2',len(event_A['zg2']['photon_pt']))\n",
    "print('A_zg3',len(event_A['zg3']['photon_pt']))\n",
    "print('A_tt',len(event_A['tt']['photon_pt']))\n",
    "print('A_zz',len(event_A['zz']['photon_pt']))\n",
    "print('A_wz',len(event_A['wz']['photon_pt']))\n",
    "print('A_ww',len(event_A['ww']['photon_pt']))"
   ]
  },
  {
   "cell_type": "markdown",
   "metadata": {},
   "source": [
    "### B"
   ]
  },
  {
   "cell_type": "code",
   "execution_count": null,
   "metadata": {},
   "outputs": [],
   "source": [
    "keys = ['dataF', 'dataG', 'zg0', 'zg1', 'zg2','zg3','dy','tt','zz','wz','ww']  \n",
    "# 读取数据\n",
    "event_B = load_event_dict('ABCD_file/B/event_final', keys)\n",
    "# event_B = load_event_dict('test_file/B/event_final', keys)"
   ]
  },
  {
   "cell_type": "code",
   "execution_count": null,
   "metadata": {},
   "outputs": [
    {
     "name": "stdout",
     "output_type": "stream",
     "text": [
      "B_data 4007\n",
      "B_zg0 23006\n",
      "B_zg1 260764\n",
      "B_zg2 7485\n",
      "B_zg3 8461\n",
      "B_tt 492\n",
      "B_zz 59\n",
      "B_wz 1038\n",
      "B_ww 42\n"
     ]
    }
   ],
   "source": [
    "# 合并key\n",
    "data_keys = [\"dataF\", \"dataG\"]\n",
    "event_B[\"data\"] = {}\n",
    "\n",
    "info_keys = list(event_B[\"dataF\"].keys())\n",
    "\n",
    "# 遍历每个信息键\n",
    "for info_key in info_keys:\n",
    "    # 从 event_final 中提取 \"data1\", \"data2\", \"data3\", \"data4\" 这四个 key 的数据\n",
    "    data_to_concatenate = [event_B[data_key][info_key] for data_key in data_keys]\n",
    "\n",
    "    # 使用 ak.concatenate 将数据连接在一起\n",
    "    event_B[\"data\"][info_key] = ak.concatenate(data_to_concatenate)\n",
    "\n",
    "# 将 \"data1\", \"data2\", \"data3\", \"data4\" 这四个 key 的内容合并为 \"data\" 这个 key\n",
    "data_keys = [\"zg0\", \"zg1\",\"zg2\",\"zg3\"]\n",
    "event_B[\"zg\"] = {}\n",
    "\n",
    "info_keys = list(event_B[\"zg0\"].keys())\n",
    "\n",
    "# 遍历每个信息键\n",
    "for info_key in info_keys:\n",
    "    # 从 event_final 中提取 \"data1\", \"data2\", \"data3\", \"data4\" 这四个 key 的数据\n",
    "    data_to_concatenate = [event_B[data_key][info_key] for data_key in data_keys]\n",
    "\n",
    "    # 使用 ak.concatenate 将数据连接在一起\n",
    "    event_B[\"zg\"][info_key] = ak.concatenate(data_to_concatenate)\n",
    "\n",
    "del event_B[\"dataF\"]\n",
    "del event_B[\"dataG\"]\n",
    "# del event_B[\"zg0\"]\n",
    "# del event_B[\"zg1\"]\n",
    "# del event_B[\"zg2\"]\n",
    "# del event_B[\"zg3\"]\n",
    "print('B_data',len(event_B['data']['photon_pt']))\n",
    "print('B_zg0',len(event_B['zg0']['photon_pt']))\n",
    "print('B_zg1',len(event_B['zg1']['photon_pt']))\n",
    "print('B_zg2',len(event_B['zg2']['photon_pt']))\n",
    "print('B_zg3',len(event_B['zg3']['photon_pt']))\n",
    "print('B_tt',len(event_B['tt']['photon_pt']))\n",
    "print('B_zz',len(event_B['zz']['photon_pt']))\n",
    "print('B_wz',len(event_B['wz']['photon_pt']))\n",
    "print('B_ww',len(event_B['ww']['photon_pt']))"
   ]
  },
  {
   "cell_type": "markdown",
   "metadata": {},
   "source": [
    "### C"
   ]
  },
  {
   "cell_type": "code",
   "execution_count": null,
   "metadata": {},
   "outputs": [],
   "source": [
    "keys = ['dataF', 'dataG', 'zg0', 'zg1', 'zg2','zg3','dy','tt','zz','wz','ww'] \n",
    "# 读取数据\n",
    "event_C = load_event_dict('ABCD_file/C/event_final', keys)\n",
    "# event_C = load_event_dict('test_file/C/event_final', keys)"
   ]
  },
  {
   "cell_type": "code",
   "execution_count": null,
   "metadata": {},
   "outputs": [
    {
     "name": "stdout",
     "output_type": "stream",
     "text": [
      "C_data 107\n",
      "C_zg0 1586\n",
      "C_zg1 2273\n",
      "C_zg2 1\n",
      "C_zg3 6\n",
      "C_tt 20\n",
      "C_zz 4\n",
      "C_wz 60\n",
      "C_ww 2\n"
     ]
    }
   ],
   "source": [
    "# 合并key\n",
    "data_keys = [\"dataF\", \"dataG\"]\n",
    "event_C[\"data\"] = {}\n",
    "\n",
    "info_keys = list(event_C[\"dataF\"].keys())\n",
    "\n",
    "# 遍历每个信息键\n",
    "for info_key in info_keys:\n",
    "    # 从 event_final 中提取 \"data1\", \"data2\", \"data3\", \"data4\" 这四个 key 的数据\n",
    "    data_to_concatenate = [event_C[data_key][info_key] for data_key in data_keys]\n",
    "\n",
    "    # 使用 ak.concatenate 将数据连接在一起\n",
    "    event_C[\"data\"][info_key] = ak.concatenate(data_to_concatenate)\n",
    "\n",
    "#将 \"data1\", \"data2\", \"data3\", \"data4\" 这四个 key 的内容合并为 \"data\" 这个 key\n",
    "data_keys = [\"zg0\", \"zg1\",\"zg2\",\"zg3\"]\n",
    "event_C[\"zg\"] = {}\n",
    "\n",
    "info_keys = list(event_C[\"zg0\"].keys())\n",
    "\n",
    "# 遍历每个信息键\n",
    "for info_key in info_keys:\n",
    "    # 从 event_final 中提取 \"data1\", \"data2\", \"data3\", \"data4\" 这四个 key 的数据\n",
    "    data_to_concatenate = [event_C[data_key][info_key] for data_key in data_keys]\n",
    "\n",
    "    # 使用 ak.concatenate 将数据连接在一起\n",
    "    event_C[\"zg\"][info_key] = ak.concatenate(data_to_concatenate)\n",
    "\n",
    "del event_C[\"dataF\"]\n",
    "del event_C[\"dataG\"]\n",
    "# del event_C[\"zg0\"]\n",
    "# del event_C[\"zg1\"]\n",
    "# del event_C[\"zg2\"]\n",
    "# del event_C[\"zg3\"]\n",
    "print('C_data',len(event_C['data']['photon_pt']))\n",
    "# print('C_zg',len(event_C['zg']['photon_pt']))\n",
    "print('C_zg0',len(event_C['zg0']['photon_pt']))\n",
    "print('C_zg1',len(event_C['zg1']['photon_pt']))\n",
    "print('C_zg2',len(event_C['zg2']['photon_pt']))\n",
    "print('C_zg3',len(event_C['zg3']['photon_pt']))\n",
    "print('C_tt',len(event_C['tt']['photon_pt']))\n",
    "print('C_zz',len(event_C['zz']['photon_pt']))\n",
    "print('C_wz',len(event_C['wz']['photon_pt']))\n",
    "print('C_ww',len(event_C['ww']['photon_pt']))"
   ]
  },
  {
   "cell_type": "markdown",
   "metadata": {},
   "source": [
    "### D"
   ]
  },
  {
   "cell_type": "code",
   "execution_count": null,
   "metadata": {},
   "outputs": [],
   "source": [
    "keys = ['dataF', 'dataG', 'zg0', 'zg1', 'zg2','zg3','dy','tt','zz','wz','ww'] \n",
    "# 读取数据\n",
    "event_D = load_event_dict('ABCD_file/D/event_final', keys)\n",
    "# event_D = load_event_dict('test_file/D/event_final', keys)"
   ]
  },
  {
   "cell_type": "code",
   "execution_count": null,
   "metadata": {},
   "outputs": [
    {
     "name": "stdout",
     "output_type": "stream",
     "text": [
      "D_data 279\n",
      "D_zg0 548\n",
      "D_zg1 863\n",
      "D_zg2 2\n",
      "D_zg3 0\n",
      "D_tt 11\n",
      "D_zz 2\n",
      "D_wz 14\n",
      "D_ww 2\n"
     ]
    }
   ],
   "source": [
    "# 合并key\n",
    "data_keys = [\"dataF\", \"dataG\"]\n",
    "event_D[\"data\"] = {}\n",
    "\n",
    "info_keys = list(event_D[\"dataF\"].keys())\n",
    "\n",
    "# 遍历每个信息键\n",
    "for info_key in info_keys:\n",
    "    # 从 event_final 中提取 \"data1\", \"data2\", \"data3\", \"data4\" 这四个 key 的数据\n",
    "    data_to_concatenate = [event_D[data_key][info_key] for data_key in data_keys]\n",
    "\n",
    "    # 使用 ak.concatenate 将数据连接在一起\n",
    "    event_D[\"data\"][info_key] = ak.concatenate(data_to_concatenate)\n",
    "\n",
    "# 将 \"data1\", \"data2\", \"data3\", \"data4\" 这四个 key 的内容合并为 \"data\" 这个 key\n",
    "data_keys = [\"zg0\", \"zg1\",\"zg2\",\"zg3\"]\n",
    "event_D[\"zg\"] = {}\n",
    "\n",
    "info_keys = list(event_D[\"zg0\"].keys())\n",
    "\n",
    "# 遍历每个信息键\n",
    "for info_key in info_keys:\n",
    "    # 从 event_final 中提取 \"data1\", \"data2\", \"data3\", \"data4\" 这四个 key 的数据\n",
    "    data_to_concatenate = [event_D[data_key][info_key] for data_key in data_keys]\n",
    "\n",
    "    # 使用 ak.concatenate 将数据连接在一起\n",
    "    event_D[\"zg\"][info_key] = ak.concatenate(data_to_concatenate)\n",
    "\n",
    "del event_D[\"dataF\"]\n",
    "del event_D[\"dataG\"]\n",
    "# del event_D[\"zg0\"]\n",
    "# del event_D[\"zg1\"]\n",
    "# del event_D[\"zg2\"]\n",
    "# del event_D[\"zg3\"]\n",
    "print('D_data',len(event_D['data']['photon_pt']))\n",
    "# print('D_zg',len(event_D['zg']['photon_pt']))\n",
    "print('D_zg0',len(event_D['zg0']['photon_pt']))\n",
    "print('D_zg1',len(event_D['zg1']['photon_pt']))\n",
    "print('D_zg2',len(event_D['zg2']['photon_pt']))\n",
    "print('D_zg3',len(event_D['zg3']['photon_pt']))\n",
    "print('D_tt',len(event_D['tt']['photon_pt']))\n",
    "print('D_zz',len(event_D['zz']['photon_pt']))\n",
    "print('D_wz',len(event_D['wz']['photon_pt']))\n",
    "print('D_ww',len(event_D['ww']['photon_pt']))"
   ]
  },
  {
   "cell_type": "markdown",
   "metadata": {},
   "source": [
    "### data"
   ]
  },
  {
   "cell_type": "code",
   "execution_count": null,
   "metadata": {},
   "outputs": [
    {
     "name": "stdout",
     "output_type": "stream",
     "text": [
      "A_data 4103\n",
      "B_data 4007\n",
      "C_data 107\n",
      "D_data 279\n"
     ]
    }
   ],
   "source": [
    "A_data = len(event_A['data']['photon_pt'])\n",
    "B_data = len(event_B['data']['photon_pt'])\n",
    "C_data = len(event_C['data']['photon_pt'])\n",
    "D_data = len(event_D['data']['photon_pt'])\n",
    "print('A_data',A_data)\n",
    "print('B_data',B_data)\n",
    "print('C_data',C_data)\n",
    "print('D_data',D_data)"
   ]
  },
  {
   "cell_type": "markdown",
   "metadata": {},
   "source": [
    "# Method using MC only"
   ]
  },
  {
   "cell_type": "markdown",
   "metadata": {},
   "source": [
    "## zg"
   ]
  },
  {
   "cell_type": "code",
   "execution_count": null,
   "metadata": {},
   "outputs": [
    {
     "name": "stdout",
     "output_type": "stream",
     "text": [
      "A_prompt 6481.6380519282875\n",
      "A_bkg_prompt 263.0754951199856\n",
      "B_prompt 1664.4474675365414\n",
      "B_bkg_prompt 64.41697392770189\n",
      "C_prompt 75.9491372036926\n",
      "C_bkg_prompt 3.5464861774302974\n",
      "D_prompt 26.332492584624983\n",
      "D_bkg_prompt 1.1569442372019945\n"
     ]
    }
   ],
   "source": [
    "LUMI = {\"2016pre\": 19.52, \"2016post\": 16.81, \"2017\": 41.48, \"2018\": 59.83, \"2022CD\": 6.36,\"2022FG\": 21.6,\"2022EFG\": 39.22}\n",
    "XSEC = {\n",
    "    # unit is pb^-1\n",
    "    'zg0': 124.6,\n",
    "    'zg1': 1.74,#27.11\n",
    "    'zg2': 0.30,#0.88,\n",
    "    'zg3': 0.042,#0.073,\n",
    "    'tt': 96.9,#101.78,\n",
    "    'ww': 116.8,#80.27,\n",
    "    'wz': 54.3,#29.14,\n",
    "    'zz': 16.7,#12.83,\n",
    "}\n",
    "A_truenum = {\n",
    "    i: (\n",
    "        (\n",
    "            len(event_A[i]['photon_pt']) * XSEC[i] * LUMI['2022FG'] * 1e3 / ak.sum(np.sign(event_A[i]['event_weight']))\n",
    "        )\n",
    "    ) for i in event_A if (i != 'data') & (i!='dy') & (i!='zg')\n",
    "}\n",
    "A_prompt = abs(A_truenum['zg0'])+abs(A_truenum['zg1'])+abs(A_truenum['zg2'])+abs(A_truenum['zg3'])+abs(A_truenum['tt'])+abs(A_truenum['ww'])+abs(A_truenum['wz'])+abs(A_truenum['zz'])\n",
    "A_bkg_prompt = abs(A_truenum['tt'])+abs(A_truenum['ww'])+abs(A_truenum['wz'])+abs(A_truenum['zz'])\n",
    "print('A_prompt',A_prompt)\n",
    "print('A_bkg_prompt',A_bkg_prompt)\n",
    "B_truenum = {\n",
    "    i: (\n",
    "        (\n",
    "            len(event_B[i]['photon_pt']) * XSEC[i] * LUMI['2022FG'] * 1e3 / ak.sum(np.sign(event_B[i]['event_weight']))\n",
    "        )\n",
    "    ) for i in event_B if (i != 'data') & (i!='dy') & (i!='zg')\n",
    "}\n",
    "B_prompt = abs(B_truenum['zg0'])+abs(B_truenum['zg1'])+abs(B_truenum['zg2'])+abs(B_truenum['zg3'])+abs(B_truenum['tt'])+abs(B_truenum['ww'])+abs(B_truenum['wz'])+abs(B_truenum['zz'])\n",
    "B_bkg_prompt = abs(B_truenum['tt'])+abs(B_truenum['ww'])+abs(B_truenum['wz'])+abs(B_truenum['zz'])\n",
    "print('B_prompt',B_prompt)\n",
    "print('B_bkg_prompt',B_bkg_prompt)\n",
    "C_truenum = {\n",
    "    i: (\n",
    "        (\n",
    "            len(event_C[i]['photon_pt']) * XSEC[i] * LUMI['2022FG'] * 1e3 / ak.sum(np.sign(event_C[i]['event_weight']))\n",
    "        )\n",
    "    ) for i in event_C if (i != 'data') & (i!='dy') & (i!='zg')\n",
    "}\n",
    "C_prompt = abs(C_truenum['zg0'])+abs(C_truenum['zg1'])+abs(C_truenum['zg2'])+abs(C_truenum['zg3'])+abs(C_truenum['tt'])+abs(C_truenum['ww'])+abs(C_truenum['wz'])+abs(C_truenum['zz'])\n",
    "C_bkg_prompt = abs(C_truenum['tt'])+abs(C_truenum['ww'])+abs(C_truenum['wz'])+abs(C_truenum['zz'])\n",
    "print('C_prompt',C_prompt)\n",
    "print('C_bkg_prompt',C_bkg_prompt)\n",
    "D_truenum = {\n",
    "    i: (\n",
    "        (\n",
    "            len(event_D[i]['photon_pt']) * XSEC[i] * LUMI['2022FG'] * 1e3 / ak.sum(np.sign(event_D[i]['event_weight']))\n",
    "        )\n",
    "    ) for i in event_D if (i != 'data') & (i!='dy') & (i!='zg')\n",
    "}\n",
    "D_prompt = abs(D_truenum['zg0'])+abs(D_truenum['zg1'])+abs(D_truenum['zg2'])+abs(D_truenum['zg3'])+abs(D_truenum['tt'])+abs(D_truenum['ww'])+abs(D_truenum['wz'])+abs(D_truenum['zz'])\n",
    "D_bkg_prompt = abs(D_truenum['tt'])+abs(D_truenum['ww'])+abs(D_truenum['wz'])+abs(D_truenum['zz'])\n",
    "print('D_prompt',D_prompt)\n",
    "print('D_bkg_prompt',D_bkg_prompt)"
   ]
  },
  {
   "cell_type": "code",
   "execution_count": null,
   "metadata": {},
   "outputs": [
    {
     "data": {
      "text/plain": [
       "3769.814201140015"
      ]
     },
     "execution_count": 133,
     "metadata": {},
     "output_type": "execute_result"
    }
   ],
   "source": [
    "A_prompt=6481.6380519282875\n",
    "A_data_2 = 4103-N_A_nonprompt\n",
    "A_data_2"
   ]
  },
  {
   "cell_type": "markdown",
   "metadata": {},
   "source": [
    "## calculation"
   ]
  },
  {
   "cell_type": "code",
   "execution_count": null,
   "metadata": {},
   "outputs": [
    {
     "data": {
      "text/plain": [
       "333.0787867118313"
      ]
     },
     "execution_count": 30,
     "metadata": {},
     "output_type": "execute_result"
    }
   ],
   "source": [
    "# R=1\n",
    "R = 1.157\n",
    "# N_A_nonprompt = R * (B_data-B_prompt/6481.638*3122.913)*(C_data-C_prompt/6481.638*3122.913)/(D_data-D_prompt/6481.638*3122.913)\n",
    "N_A_nonprompt = R * (B_data-B_prompt)*(C_data-C_prompt)/(D_data-D_prompt)\n",
    "N_A_nonprompt"
   ]
  },
  {
   "cell_type": "code",
   "execution_count": null,
   "metadata": {},
   "outputs": [
    {
     "name": "stdout",
     "output_type": "stream",
     "text": [
      "R = 1.16 ± 0.33\n",
      "N_A_nonprompt = 333.19 ± 101.10\n"
     ]
    }
   ],
   "source": [
    "import numpy as np\n",
    "\n",
    "# Given values\n",
    "N_B = 4007\n",
    "N_C = 107\n",
    "N_D = 279\n",
    "N_B_prompt = 1664.447\n",
    "N_C_prompt = 75.949\n",
    "N_D_prompt = 26.332\n",
    "\n",
    "N_A_DY = 2520\n",
    "N_B_DY = 673\n",
    "N_C_DY = 55\n",
    "N_D_DY = 17\n",
    "\n",
    "# Calculate R and its uncertainty\n",
    "R = (N_A_DY * N_D_DY) / (N_B_DY * N_C_DY)\n",
    "sigma_N_A_DY = np.sqrt(N_A_DY)\n",
    "sigma_N_B_DY = np.sqrt(N_B_DY)\n",
    "sigma_N_C_DY = np.sqrt(N_C_DY)\n",
    "sigma_N_D_DY = np.sqrt(N_D_DY)\n",
    "sigma_R = R * np.sqrt((sigma_N_A_DY/N_A_DY)**2 + (sigma_N_B_DY/N_B_DY)**2 + (sigma_N_C_DY/N_C_DY)**2 + (sigma_N_D_DY/N_D_DY)**2)\n",
    "\n",
    "# Calculate N_A_nonprompt and its uncertainty\n",
    "N_A_nonprompt = R * (N_B - N_B_prompt) * (N_C - N_C_prompt) / (N_D - N_D_prompt)\n",
    "sigma_N_B = np.sqrt(N_B)\n",
    "sigma_N_C = np.sqrt(N_C)\n",
    "sigma_N_D = np.sqrt(N_D)\n",
    "sigma_N_A_nonprompt = N_A_nonprompt * np.sqrt((sigma_R/R)**2 + (sigma_N_B/N_B)**2 + (sigma_N_C/N_C)**2 + (sigma_N_D/N_D)**2)\n",
    "\n",
    "print(f\"R = {R:.2f} ± {sigma_R:.2f}\")\n",
    "print(f\"N_A_nonprompt = {N_A_nonprompt:.2f} ± {sigma_N_A_nonprompt:.2f}\")\n"
   ]
  },
  {
   "cell_type": "code",
   "execution_count": null,
   "metadata": {},
   "outputs": [],
   "source": []
  },
  {
   "cell_type": "markdown",
   "metadata": {},
   "source": [
    "# Method using NA_dataset"
   ]
  },
  {
   "cell_type": "markdown",
   "metadata": {},
   "source": [
    "### DY & R"
   ]
  },
  {
   "cell_type": "code",
   "execution_count": null,
   "metadata": {},
   "outputs": [
    {
     "name": "stdout",
     "output_type": "stream",
     "text": [
      "A_dy 2520\n",
      "B_dy 673\n",
      "C_dy 55\n",
      "D_dy 17\n",
      "A/C 45.81818181818182\n",
      "B/D 39.588235294117645\n",
      "R 1.1573686343374308\n"
     ]
    }
   ],
   "source": [
    "A_dy = len(event_A['dy']['photon_pt'])\n",
    "B_dy = len(event_B['dy']['photon_pt'])\n",
    "C_dy = len(event_C['dy']['photon_pt'])\n",
    "D_dy = len(event_D['dy']['photon_pt'])\n",
    "R = A_dy * D_dy / B_dy / C_dy\n",
    "print('A_dy',A_dy)\n",
    "print('B_dy',B_dy)\n",
    "print('C_dy',C_dy)\n",
    "print('D_dy',D_dy)\n",
    "print('A/C',A_dy/C_dy)\n",
    "print('B/D',B_dy/D_dy)\n",
    "\n",
    "\n",
    "print('R',R)"
   ]
  },
  {
   "cell_type": "markdown",
   "metadata": {},
   "source": [
    "### cc,cb,cd"
   ]
  },
  {
   "cell_type": "code",
   "execution_count": null,
   "metadata": {},
   "outputs": [
    {
     "name": "stdout",
     "output_type": "stream",
     "text": [
      "A_zg 1119858\n",
      "B_zg 299716\n",
      "C_zg 3866\n",
      "D_zg 1413\n",
      "c_B 0.26763750404069087\n",
      "c_C 0.0034522234068962315\n",
      "c_D 0.0012617671169023216\n"
     ]
    }
   ],
   "source": [
    "c_B = len(event_B['zg']['photon_pt'])/len(event_A['zg']['photon_pt'])\n",
    "c_C = len(event_C['zg']['photon_pt'])/len(event_A['zg']['photon_pt'])\n",
    "c_D = len(event_D['zg']['photon_pt'])/len(event_A['zg']['photon_pt'])\n",
    "print('A_zg',len(event_A['zg']['photon_pt']))\n",
    "print('B_zg',len(event_B['zg']['photon_pt']))\n",
    "print('C_zg',len(event_C['zg']['photon_pt']))\n",
    "print('D_zg',len(event_D['zg']['photon_pt']))\n",
    "print('c_B', c_B)\n",
    "print('c_C', c_C)\n",
    "print('c_D', c_D)"
   ]
  },
  {
   "cell_type": "markdown",
   "metadata": {},
   "source": [
    "## data"
   ]
  },
  {
   "cell_type": "code",
   "execution_count": null,
   "metadata": {},
   "outputs": [
    {
     "name": "stdout",
     "output_type": "stream",
     "text": [
      "A_data 4103\n",
      "B_data 4007\n",
      "C_data 107\n",
      "D_data 279\n"
     ]
    }
   ],
   "source": [
    "A_data = len(event_A['data']['photon_pt'])\n",
    "B_data = len(event_B['data']['photon_pt'])\n",
    "C_data = len(event_C['data']['photon_pt'])\n",
    "D_data = len(event_D['data']['photon_pt'])\n",
    "print('A_data',A_data)\n",
    "print('B_data',B_data)\n",
    "print('C_data',C_data)\n",
    "print('D_data',D_data)"
   ]
  },
  {
   "cell_type": "markdown",
   "metadata": {},
   "source": [
    "### calculate NA(nonprompt)"
   ]
  },
  {
   "cell_type": "code",
   "execution_count": null,
   "metadata": {},
   "outputs": [
    {
     "name": "stdout",
     "output_type": "stream",
     "text": [
      "NA_prompt = 2540.00966888449\n",
      "NA_prompt = 1090863.99669720\n"
     ]
    }
   ],
   "source": [
    "import sympy as sp\n",
    "\n",
    "# 定义变量\n",
    "NA_prompt, NA, NA_bkg, R, NB, cB, NA_prompt, NB_bkg, NC, cC, ND, cD, NC_bkg, ND_bkg = sp.symbols('NA_prompt NA NA_bkg R NB cB NA_prompt NB_bkg NC cC ND cD NC_bkg ND_bkg')\n",
    "\n",
    "# 根据公式【1】定义方程\n",
    "equation = sp.Eq(NA_prompt, NA - NA_bkg - R * (NB - cB * NA_prompt - NB_bkg) * (NC - cC * NA_prompt - NC_bkg) / (ND - cD * NA_prompt - ND_bkg))\n",
    "\n",
    "# 已知的值\n",
    "values = {\n",
    "    NA: 4103,  # A_data\n",
    "    R: 1.157,  # \n",
    "    NB: 4007,  # B_data\n",
    "    cB: 0.268,  # \n",
    "    NC: 107,  # C_data\n",
    "    cC: 0.0035,  # \n",
    "    ND: 279,  # D_data\n",
    "    cD: 0.0013,  # \n",
    "    NA_bkg: 263.0754951199856,\n",
    "    NB_bkg: 64.41697392770189,  # B_dy\n",
    "    NC_bkg: 3.5464861774302974,  # C_dy\n",
    "    ND_bkg: 1.1569442372019945,  # D_dy\n",
    "}\n",
    "# 解方程\n",
    "solution = sp.solve(equation.subs(values), NA_prompt)\n",
    "\n",
    "# 输出解\n",
    "print(f\"NA_prompt = {solution[0]}\")\n",
    "print(f\"NA_prompt = {solution[1]}\")\n",
    "NA_prompt = solution[0]\n"
   ]
  },
  {
   "cell_type": "code",
   "execution_count": null,
   "metadata": {},
   "outputs": [
    {
     "data": {
      "text/latex": [
       "$\\displaystyle 1299.91483599553$"
      ],
      "text/plain": [
       "1299.91483599553"
      ]
     },
     "execution_count": 99,
     "metadata": {},
     "output_type": "execute_result"
    }
   ],
   "source": [
    "N_nonprompt = A_data - A_bkg_prompt - NA_prompt\n",
    "N_nonprompt"
   ]
  },
  {
   "cell_type": "code",
   "execution_count": null,
   "metadata": {},
   "outputs": [
    {
     "name": "stdout",
     "output_type": "stream",
     "text": [
      "NA_prompt uncertainty = 0\n",
      "N_nonprompt uncertainty = 66.0762854216245\n",
      "NA_nonprompt = 1299.91483599553\n"
     ]
    }
   ],
   "source": [
    "import sympy as sp\n",
    "\n",
    "# 定义变量\n",
    "NA_prompt, NA, NA_bkg, R, NB, cB, NC, cC, ND, cD, NB_bkg, NC_bkg, ND_bkg = sp.symbols('NA_prompt NA NA_bkg R NB cB NC cC ND cD NB_bkg NC_bkg ND_bkg')\n",
    "\n",
    "# 根据公式【1】定义方程\n",
    "equation = sp.Eq(NA_prompt, NA - NA_bkg - R * (NB - cB * NA_prompt - NB_bkg) * (NC - cC * NA_prompt - NC_bkg) / (ND - cD * NA_prompt - ND_bkg))\n",
    "\n",
    "# 已知的值\n",
    "values = {\n",
    "    NA: 4103,  # A_data\n",
    "    R: 1.157,  # \n",
    "    NB: 4007,  # B_data\n",
    "    cB: 0.268,  # \n",
    "    NC: 107,  # C_data\n",
    "    cC: 0.0035,  # \n",
    "    ND: 279,  # D_data\n",
    "    cD: 0.0013,  # \n",
    "    NA_bkg: 263.0754951199856,\n",
    "    NB_bkg: 64.41697392770189,  # B_dy\n",
    "    NC_bkg: 3.5464861774302974,  # C_dy\n",
    "    ND_bkg: 1.1569442372019945,  # D_dy\n",
    "}\n",
    "\n",
    "# 解方程得到NA_prompt的值\n",
    "NA_prompt_value = sp.solve(equation.subs(values), NA_prompt)[0]\n",
    "\n",
    "# 计算公式【1】中每个变量的偏导数\n",
    "partial_derivatives = {\n",
    "    var: equation.lhs.diff(var) for var in [R, NB, cB, NC, cC, ND, cD]\n",
    "}\n",
    "\n",
    "# 计算每个变量的不确定度\n",
    "uncertainties = {\n",
    "    R: 0.2845 * values[R],\n",
    "    NB: sp.sqrt(values[NB]),\n",
    "    cB: sp.sqrt((sp.sqrt(NB)/NB)**2 + (sp.sqrt(NA)/NA)**2).subs(values),\n",
    "    NC: sp.sqrt(values[NC]),\n",
    "    cC: sp.sqrt((sp.sqrt(NC)/NC)**2 + (sp.sqrt(NC)/NC)**2).subs(values),\n",
    "    ND: sp.sqrt(values[ND]),\n",
    "    cD: sp.sqrt((sp.sqrt(ND)/ND)**2 + (sp.sqrt(ND)/ND)**2).subs(values),\n",
    "}\n",
    "\n",
    "# 使用误差传递公式计算NA_prompt的不确定度\n",
    "sigma_NA_prompt_squared = sum([\n",
    "    (partial_derivatives[var].subs(NA_prompt, NA_prompt_value) * uncertainties[var])**2 for var in partial_derivatives\n",
    "])\n",
    "\n",
    "sigma_NA_prompt = sp.sqrt(sigma_NA_prompt_squared)\n",
    "\n",
    "# 使用公式【2】计算N_nonprompt的不确定度\n",
    "sigma_N_nonprompt = sp.sqrt(values[NA] + values[NA_bkg] + sigma_NA_prompt**2)\n",
    "\n",
    "print(f\"NA_prompt uncertainty = {sigma_NA_prompt}\")\n",
    "print(f\"N_nonprompt uncertainty = {sigma_N_nonprompt}\")\n",
    "\n",
    "# 解方程\n",
    "solution = sp.solve(equation.subs(values), NA_prompt)\n",
    "\n",
    "# 输出解\n",
    "# print(f\"NA_prompt = {solution[0]}\")\n",
    "# print(f\"NA_prompt = {solution[1]}\")\n",
    "NA_prompt = solution[0]\n",
    "N_nonprompt = A_data - A_bkg_prompt - NA_prompt\n",
    "print(\"NA_nonprompt =\",N_nonprompt)\n"
   ]
  },
  {
   "cell_type": "code",
   "execution_count": null,
   "metadata": {},
   "outputs": [
    {
     "name": "stdout",
     "output_type": "stream",
     "text": [
      "sigma_N_nonprompt = 64.0546641549232\n",
      "NA_nonprompt = 1299.91483599553\n"
     ]
    }
   ],
   "source": [
    "import sympy as sp\n",
    "\n",
    "# 定义变量\n",
    "NA_prompt, NA, NA_bkg, R, NB, cB, NA_prompt, NB_bkg, NC, cC, ND, cD, NC_bkg, ND_bkg = sp.symbols('NA_prompt NA NA_bkg R NB cB NA_prompt NB_bkg NC cC ND cD NC_bkg ND_bkg')\n",
    "\n",
    "# 根据公式定义方程\n",
    "equation = sp.Eq(NA_prompt, NA - NA_bkg - R * (NB - cB * NA_prompt - NB_bkg) * (NC - cC * NA_prompt - NC_bkg) / (ND - cD * NA_prompt - ND_bkg))\n",
    "N_nonprompt = NA - NA_bkg - NA_prompt\n",
    "\n",
    "# 已知的值\n",
    "values = {\n",
    "    NA: 4103,  # A_data\n",
    "    R: 1.157,  # \n",
    "    NB: 4007,  # B_data\n",
    "    cB: 0.268,  # \n",
    "    NC: 107,  # C_data\n",
    "    cC: 0.0035,  # \n",
    "    ND: 279,  # D_data\n",
    "    cD: 0.0013,  # \n",
    "    NA_bkg: 263.0754951199856,\n",
    "    NB_bkg: 64.41697392770189,  # B_dy\n",
    "    NC_bkg: 3.5464861774302974,  # C_dy\n",
    "    ND_bkg: 1.1569442372019945,  # D_dy\n",
    "}\n",
    "\n",
    "# 计算N_A, N_B, N_C, N_D的不确定性\n",
    "sigma_NA = sp.sqrt(values[NA])\n",
    "sigma_NB = sp.sqrt(values[NB])\n",
    "sigma_NC = sp.sqrt(values[NC])\n",
    "sigma_ND = sp.sqrt(values[ND])\n",
    "\n",
    "# 使用误差传递公式计算N_nonprompt的不确定性\n",
    "sigma_N_nonprompt = sp.sqrt((sp.diff(N_nonprompt, NA) * sigma_NA)**2 + (sp.diff(N_nonprompt, NB) * sigma_NB)**2 + (sp.diff(N_nonprompt, NC) * sigma_NC)**2 + (sp.diff(N_nonprompt, ND) * sigma_ND)**2)\n",
    "\n",
    "# 使用已知的值求解\n",
    "sigma_N_nonprompt_value = sigma_N_nonprompt.evalf(subs=values)\n",
    "\n",
    "print(f\"sigma_N_nonprompt = {sigma_N_nonprompt_value}\")\n",
    "\n",
    "# 解方程\n",
    "solution = sp.solve(equation.subs(values), NA_prompt)\n",
    "\n",
    "# 输出解\n",
    "# print(f\"NA_prompt = {solution[0]}\")\n",
    "# print(f\"NA_prompt = {solution[1]}\")\n",
    "NA_prompt = solution[0]\n",
    "N_nonprompt = A_data - A_bkg_prompt - NA_prompt\n",
    "print(\"NA_nonprompt =\",N_nonprompt)"
   ]
  },
  {
   "cell_type": "code",
   "execution_count": null,
   "metadata": {},
   "outputs": [
    {
     "name": "stdout",
     "output_type": "stream",
     "text": [
      "nonprompt 1128.0000000000032\n"
     ]
    }
   ],
   "source": []
  },
  {
   "cell_type": "markdown",
   "metadata": {},
   "source": [
    "# 废稿"
   ]
  },
  {
   "cell_type": "markdown",
   "metadata": {},
   "source": []
  },
  {
   "cell_type": "code",
   "execution_count": null,
   "metadata": {},
   "outputs": [],
   "source": [
    "A_nonprompt = 1128\n",
    "R = A_nonprompt * (D_data) / B_data / C_data\n",
    "print('A_nonprompt',A_nonprompt)\n",
    "print('B_data',B_data)\n",
    "print('C_data',C_data)\n",
    "print('D_data',D_data)\n",
    "print('A/C',A_nonprompt/len(event_C['data']['photon_pt']))\n",
    "print('B/D',len(event_B['data']['photon_pt'])/len(event_D['data']['photon_pt']))\n",
    "\n",
    "\n",
    "print('R',R)"
   ]
  },
  {
   "cell_type": "code",
   "execution_count": null,
   "metadata": {},
   "outputs": [],
   "source": [
    "A_nonprompt = 1128\n",
    "R = A_nonprompt * (D_data-(A_data-A_nonprompt)*c_D) / (B_data-(A_data-A_nonprompt)*c_B) / (C_data-(A_data-A_nonprompt)*c_C)\n",
    "print('A_nonprompt',A_nonprompt)\n",
    "print('B_nonprompt',(B_data-(A_data-A_nonprompt)*c_B))\n",
    "print('C_nonprompt',(C_data-(A_data-A_nonprompt)*c_C))\n",
    "print('D_nonprompt',(D_data-(A_data-A_nonprompt)*c_D))\n",
    "\n",
    "\n",
    "print('R',R)"
   ]
  },
  {
   "cell_type": "code",
   "execution_count": null,
   "metadata": {},
   "outputs": [],
   "source": [
    "# R=1\n",
    "qua_A = c_D - R*c_B*c_C\n",
    "qua_B = R*B_data*c_C + R*C_data*c_B - D_data - A_data*c_D\n",
    "qua_C = A_data*D_data- R*B_data*C_data\n",
    "delta = qua_B*qua_B - 4*qua_A*qua_C\n",
    "x1 = (-qua_B + np.sqrt(delta))/(2*qua_A)\n",
    "x2 = (-qua_B - np.sqrt(delta))/(2*qua_A)\n",
    "print('x1',x1)\n",
    "print('x2',x2)"
   ]
  },
  {
   "cell_type": "code",
   "execution_count": null,
   "metadata": {},
   "outputs": [],
   "source": [
    "nonprompt = A_data - x2\n",
    "print('nonprompt',nonprompt)"
   ]
  }
 ],
 "metadata": {
  "kernelspec": {
   "display_name": "base",
   "language": "python",
   "name": "python3"
  },
  "language_info": {
   "codemirror_mode": {
    "name": "ipython",
    "version": 3
   },
   "file_extension": ".py",
   "mimetype": "text/x-python",
   "name": "python",
   "nbconvert_exporter": "python",
   "pygments_lexer": "ipython3",
   "version": "3.8.13"
  },
  "orig_nbformat": 4
 },
 "nbformat": 4,
 "nbformat_minor": 2
}
